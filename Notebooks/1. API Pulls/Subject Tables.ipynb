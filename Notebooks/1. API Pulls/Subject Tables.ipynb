{
 "cells": [
  {
   "cell_type": "markdown",
   "id": "94b33363",
   "metadata": {},
   "source": [
    "###### Imports and Pulls"
   ]
  },
  {
   "cell_type": "code",
   "execution_count": 1,
   "id": "02277059",
   "metadata": {},
   "outputs": [],
   "source": [
    "import pandas as pd\n",
    "import numpy as np\n",
    "import requests\n",
    "#import io\n",
    "import pickle\n",
    "from collections import deque\n",
    "from functools import reduce\n",
    "pd.set_option('display.max_columns', None)\n",
    "pd.set_option('display.max_rows', None)\n",
    "pd.set_option('display.width', 150)\n",
    "pd.options.mode.chained_assignment = None  # default='warn'\n",
    "import sqlite3 as sq"
   ]
  },
  {
   "cell_type": "markdown",
   "id": "d2af0f6e",
   "metadata": {},
   "source": [
    "###### API Key"
   ]
  },
  {
   "cell_type": "code",
   "execution_count": 2,
   "id": "aec6f674",
   "metadata": {},
   "outputs": [],
   "source": [
    "#to read in... rb is read bite\n",
    "with open('api_keys.pkl', 'rb') as keys_file:\n",
    "        keys_dict_2 = pickle.load(keys_file)\n",
    "#create a variable that contains your api key\n",
    "api_key = keys_dict_2['CENSUS']"
   ]
  },
  {
   "cell_type": "markdown",
   "id": "faf61a00",
   "metadata": {},
   "source": [
    "###### Geography Lists"
   ]
  },
  {
   "cell_type": "code",
   "execution_count": 18,
   "id": "363b95de",
   "metadata": {},
   "outputs": [],
   "source": [
    "import sys\n",
    "sys.path.append(\"..\") # Adds higher directory to python modules path\n",
    "import geodict\n",
    "namestocommon = geodict.namestocommon\n",
    "geotogeoid = geodict.geotogeoid\n",
    "tofullcensus = geodict.tofullcensus\n",
    "GNRC = geodict.GNRC\n",
    "KY = geodict.KY\n",
    "censusplaces = geodict.censusplaces\n",
    "import sqlite3 as sq"
   ]
  },
  {
   "cell_type": "markdown",
   "id": "284da87b",
   "metadata": {},
   "source": [
    "At this time the only variable from the subject tables is \"average commute time to work\" so there is no data guide. In 2010 and 2020 the variable remains consistent: S0801_C01_046E. 2000 data comes from social explorer; a data download provided by staff Carson Cooper."
   ]
  },
  {
   "cell_type": "code",
   "execution_count": 10,
   "id": "834cc82a",
   "metadata": {},
   "outputs": [],
   "source": [
    "#the 2000 data comes from social explorer so it's a read-in\n",
    "\n",
    "twothousand = pd.read_csv('../../Data Downloads/SocialExplorer_2000_MeanTravelTimetoWork.csv')"
   ]
  },
  {
   "cell_type": "code",
   "execution_count": 11,
   "id": "4beaccd0",
   "metadata": {},
   "outputs": [
    {
     "data": {
      "text/html": [
       "<div>\n",
       "<style scoped>\n",
       "    .dataframe tbody tr th:only-of-type {\n",
       "        vertical-align: middle;\n",
       "    }\n",
       "\n",
       "    .dataframe tbody tr th {\n",
       "        vertical-align: top;\n",
       "    }\n",
       "\n",
       "    .dataframe thead th {\n",
       "        text-align: right;\n",
       "    }\n",
       "</style>\n",
       "<table border=\"1\" class=\"dataframe\">\n",
       "  <thead>\n",
       "    <tr style=\"text-align: right;\">\n",
       "      <th></th>\n",
       "      <th>NAME</th>\n",
       "      <th>GEO_ID</th>\n",
       "      <th>Mean Travel Time to Work</th>\n",
       "    </tr>\n",
       "  </thead>\n",
       "  <tbody>\n",
       "    <tr>\n",
       "      <th>472</th>\n",
       "      <td>Wayne County, Tennessee</td>\n",
       "      <td>0500000US47181</td>\n",
       "      <td>31</td>\n",
       "    </tr>\n",
       "    <tr>\n",
       "      <th>473</th>\n",
       "      <td>Weakley County, Tennessee</td>\n",
       "      <td>0500000US47183</td>\n",
       "      <td>20</td>\n",
       "    </tr>\n",
       "    <tr>\n",
       "      <th>474</th>\n",
       "      <td>White County, Tennessee</td>\n",
       "      <td>0500000US47185</td>\n",
       "      <td>22</td>\n",
       "    </tr>\n",
       "    <tr>\n",
       "      <th>475</th>\n",
       "      <td>Williamson County, Tennessee</td>\n",
       "      <td>0500000US47187</td>\n",
       "      <td>26</td>\n",
       "    </tr>\n",
       "    <tr>\n",
       "      <th>476</th>\n",
       "      <td>Wilson County, Tennessee</td>\n",
       "      <td>0500000US47189</td>\n",
       "      <td>29</td>\n",
       "    </tr>\n",
       "  </tbody>\n",
       "</table>\n",
       "</div>"
      ],
      "text/plain": [
       "                             NAME          GEO_ID  Mean Travel Time to Work\n",
       "472       Wayne County, Tennessee  0500000US47181                        31\n",
       "473     Weakley County, Tennessee  0500000US47183                        20\n",
       "474       White County, Tennessee  0500000US47185                        22\n",
       "475  Williamson County, Tennessee  0500000US47187                        26\n",
       "476      Wilson County, Tennessee  0500000US47189                        29"
      ]
     },
     "execution_count": 11,
     "metadata": {},
     "output_type": "execute_result"
    }
   ],
   "source": [
    "twothousand.tail()"
   ]
  },
  {
   "cell_type": "code",
   "execution_count": 12,
   "id": "a5c31ea1",
   "metadata": {},
   "outputs": [],
   "source": [
    "twothousand = twothousand.set_index('NAME').transpose()\n",
    "#rename geographies dict\n",
    "twothousand = twothousand.rename(columns = tofullcensus)\n",
    "#one extra weird name\n",
    "# twothousand = twothousand.rename(columns = {'Nashville-Davidson (balance), Tennessee': 'Nashville'})\n",
    "# twothousand = twothousand[['Cheatham County', 'Davidson County', 'Dickson County', 'Houston County', 'Humphreys County', \n",
    "#                            'Maury County', 'Montgomery County', 'Robertson County', 'Rutherford County', 'Stewart County', \n",
    "#                            'Sumner County', 'Trousdale County', 'Williamson County', 'Wilson County', 'Adams', 'Ashland City', 'Belle Meade', \n",
    "#                            'Berry Hill', 'Brentwood', 'Burns', 'Cedar Hill', 'Charlotte', 'Clarksville', 'Columbia', 'Coopertown',\n",
    "#                            'Cross Plains', 'Cumberland City', 'Dickson', 'Dover', 'Eagleville', 'Erin', 'Fairview', 'Forest Hills', 'Franklin', \n",
    "#                            'Gallatin', 'Goodlettsville', 'Greenbrier', 'Hendersonville', 'Kingston Springs', 'La Vergne', 'Lafayette', 'Lebanon', \n",
    "#                            'McEwen', 'Millersville', 'Mitchellville', 'Mount Juliet', 'Mount Pleasant', 'Murfreesboro', 'Nashville', 'New Johnsonville', \n",
    "#                            'Nolensville', 'Oak Hill', 'Pegram', 'Pleasant View', 'Portland', 'Ridgetop', 'Slayden', 'Smyrna', 'Spring Hill', \n",
    "#                            'Springfield', 'Tennessee Ridge', \"Thompson's Station\", 'Vanleer', 'Watertown', 'Waverly', 'Westmoreland', 'White Bluff', 'White House']]\n",
    "twothousand = twothousand.transpose().reset_index(drop = False)"
   ]
  },
  {
   "cell_type": "code",
   "execution_count": 13,
   "id": "9f7d91ab",
   "metadata": {},
   "outputs": [],
   "source": [
    "twothousand['Source'] = '2000 Social Explorer for ACS5YRSUBJ'"
   ]
  },
  {
   "cell_type": "code",
   "execution_count": 14,
   "id": "dd79d5cf",
   "metadata": {},
   "outputs": [
    {
     "data": {
      "text/html": [
       "<div>\n",
       "<style scoped>\n",
       "    .dataframe tbody tr th:only-of-type {\n",
       "        vertical-align: middle;\n",
       "    }\n",
       "\n",
       "    .dataframe tbody tr th {\n",
       "        vertical-align: top;\n",
       "    }\n",
       "\n",
       "    .dataframe thead th {\n",
       "        text-align: right;\n",
       "    }\n",
       "</style>\n",
       "<table border=\"1\" class=\"dataframe\">\n",
       "  <thead>\n",
       "    <tr style=\"text-align: right;\">\n",
       "      <th></th>\n",
       "      <th>NAME</th>\n",
       "      <th>GEO_ID</th>\n",
       "      <th>Mean Travel Time to Work</th>\n",
       "      <th>Source</th>\n",
       "    </tr>\n",
       "  </thead>\n",
       "  <tbody>\n",
       "    <tr>\n",
       "      <th>0</th>\n",
       "      <td>Adams city, Tennessee</td>\n",
       "      <td>1600000US4700200</td>\n",
       "      <td>29</td>\n",
       "      <td>2000 Social Explorer for ACS5YRSUBJ</td>\n",
       "    </tr>\n",
       "    <tr>\n",
       "      <th>1</th>\n",
       "      <td>Adamsville town, Tennessee</td>\n",
       "      <td>1600000US4700240</td>\n",
       "      <td>29</td>\n",
       "      <td>2000 Social Explorer for ACS5YRSUBJ</td>\n",
       "    </tr>\n",
       "    <tr>\n",
       "      <th>2</th>\n",
       "      <td>Alamo town, Tennessee</td>\n",
       "      <td>1600000US4700440</td>\n",
       "      <td>18</td>\n",
       "      <td>2000 Social Explorer for ACS5YRSUBJ</td>\n",
       "    </tr>\n",
       "    <tr>\n",
       "      <th>3</th>\n",
       "      <td>Alcoa city, Tennessee</td>\n",
       "      <td>1600000US4700540</td>\n",
       "      <td>21</td>\n",
       "      <td>2000 Social Explorer for ACS5YRSUBJ</td>\n",
       "    </tr>\n",
       "    <tr>\n",
       "      <th>4</th>\n",
       "      <td>Alexandria town, Tennessee</td>\n",
       "      <td>1600000US4700620</td>\n",
       "      <td>32</td>\n",
       "      <td>2000 Social Explorer for ACS5YRSUBJ</td>\n",
       "    </tr>\n",
       "  </tbody>\n",
       "</table>\n",
       "</div>"
      ],
      "text/plain": [
       "                         NAME            GEO_ID Mean Travel Time to Work                               Source\n",
       "0       Adams city, Tennessee  1600000US4700200                       29  2000 Social Explorer for ACS5YRSUBJ\n",
       "1  Adamsville town, Tennessee  1600000US4700240                       29  2000 Social Explorer for ACS5YRSUBJ\n",
       "2       Alamo town, Tennessee  1600000US4700440                       18  2000 Social Explorer for ACS5YRSUBJ\n",
       "3       Alcoa city, Tennessee  1600000US4700540                       21  2000 Social Explorer for ACS5YRSUBJ\n",
       "4  Alexandria town, Tennessee  1600000US4700620                       32  2000 Social Explorer for ACS5YRSUBJ"
      ]
     },
     "execution_count": 14,
     "metadata": {},
     "output_type": "execute_result"
    }
   ],
   "source": [
    "twothousand.head()"
   ]
  },
  {
   "cell_type": "code",
   "execution_count": 15,
   "id": "ee8ab383",
   "metadata": {},
   "outputs": [
    {
     "data": {
      "text/plain": [
       "477"
      ]
     },
     "execution_count": 15,
     "metadata": {},
     "output_type": "execute_result"
    }
   ],
   "source": [
    "conn = sq.connect('../../Outputs/CensusBureau.db')\n",
    "twothousand.to_sql('CensusBureau_ACS5SUBJ_2000', conn, if_exists = 'replace', index = False)"
   ]
  },
  {
   "cell_type": "code",
   "execution_count": 16,
   "id": "a88ac327",
   "metadata": {},
   "outputs": [],
   "source": [
    "# twothousand.set_index(['NAME', 'GEO_ID'], inplace = True)\n",
    "# cols = twothousand.columns\n",
    "# twothousand.reset_index(drop = False, inplace = True)\n",
    "# twothousand = twothousand.melt(id_vars = ['NAME', 'GEO_ID'], value_vars = cols, value_name = 'Value', var_name = 'Variable')"
   ]
  },
  {
   "cell_type": "code",
   "execution_count": 19,
   "id": "9b734700",
   "metadata": {},
   "outputs": [
    {
     "name": "stdout",
     "output_type": "stream",
     "text": [
      "Okay Finished\n"
     ]
    }
   ],
   "source": [
    "#2010 ACS 5 Year Subject Table Estimate\n",
    "#counties\n",
    "url_str= 'https://api.census.gov/data/2010/acs/acs5/subject?key='+api_key\n",
    "predicates= {}\n",
    "get_vars= [\"NAME\", 'GEO_ID', 'S0801_C01_046E'] #the only variable is average commute\n",
    "predicates[\"get\"]= \",\". join(get_vars)\n",
    "predicates[\"for\"]= \"county:*\"\n",
    "predicates[\"in\"]= \"state:47\" \n",
    "data = requests.get(url_str, params= predicates)\n",
    "col_names = ['NAME', 'GEO_ID', 'Mean Travel Time to Work', 'StateFIPS', 'GeoFIPS']\n",
    "df = pd.DataFrame(columns=col_names, data=data.json()[1:], dtype=str)\n",
    "df = df.loc[df['GeoFIPS'].isin(GNRC)]\n",
    "predicates= {}\n",
    "get_vars= [\"NAME\", 'GEO_ID', 'S0801_C01_046E'] #the only variable is average commute\n",
    "predicates[\"get\"]= \",\". join(get_vars)\n",
    "predicates[\"for\"]= \"county:*\"\n",
    "predicates[\"in\"]= \"state:21\" \n",
    "data = requests.get(url_str, params= predicates)                                                              \n",
    "col_names = ['NAME', 'GEO_ID', 'Mean Travel Time to Work', 'StateFIPS', 'GeoFIPS']\n",
    "kycos = pd.DataFrame(columns=col_names, data=data.json()[1:], dtype=str)\n",
    "kycos = kycos.loc[kycos['GeoFIPS'].isin(KY)]\n",
    "df = pd.concat([df, kycos], axis = 0)\n",
    "#ky places call\n",
    "predicates= {}\n",
    "get_vars= [\"NAME\", 'GEO_ID', 'S0801_C01_046E'] #the only variable is average commute\n",
    "predicates[\"get\"]= \",\". join(get_vars)\n",
    "predicates[\"for\"]= \"place:*\"\n",
    "predicates[\"in\"]= \"state:21\" \n",
    "data = requests.get(url_str, params= predicates)\n",
    "col_names = ['NAME', 'GEO_ID', 'Mean Travel Time to Work', 'StateFIPS', 'GeoFIPS']\n",
    "places=pd.DataFrame(columns=col_names, data=data.json()[1:], dtype=str)\n",
    "places=places.loc[places['GEO_ID'].isin(censusplaces)]\n",
    "df = pd.concat([df, places], axis = 0)\n",
    "#places\n",
    "predicates= {}\n",
    "get_vars= [\"NAME\", 'GEO_ID', 'S0801_C01_046E'] #the only variable is average commute\n",
    "predicates[\"get\"]= \",\". join(get_vars)\n",
    "predicates[\"for\"]= \"place:*\"\n",
    "predicates[\"in\"]= \"state:47\" \n",
    "data = requests.get(url_str, params= predicates)\n",
    "col_names = ['NAME', 'GEO_ID', 'Mean Travel Time to Work', 'StateFIPS', 'GeoFIPS']\n",
    "places=pd.DataFrame(columns=col_names, data=data.json()[1:], dtype=str)\n",
    "places=places.loc[places['GEO_ID'].isin(censusplaces)]\n",
    "df = pd.concat([df, places], axis = 0)\n",
    "#state call\n",
    "predicates= {}\n",
    "get_vars= [\"NAME\", 'GEO_ID', 'S0801_C01_046E'] #the only variable is average commute\n",
    "predicates[\"get\"]= \",\". join(get_vars)\n",
    "predicates[\"for\"]= \"state:47\"\n",
    "data= requests.get(url_str, params= predicates)\n",
    "col_names = ['NAME', 'GEO_ID', 'Mean Travel Time to Work', 'StateFIPS']\n",
    "state=pd.DataFrame(columns=col_names, data=data.json()[1:], dtype=str)\n",
    "state['GeoFIPS'] = '0'\n",
    "df = pd.concat([df, state], axis = 0)\n",
    "#national call\n",
    "predicates= {}\n",
    "get_vars= [\"NAME\", 'GEO_ID', 'S0801_C01_046E'] #the only variable is average commute\n",
    "predicates[\"get\"]= \",\". join(get_vars)\n",
    "predicates[\"for\"]= \"us:*\"\n",
    "data= requests.get(url_str, params= predicates)\n",
    "col_names = ['NAME', 'GEO_ID', 'Mean Travel Time to Work', 'StateFIPS']\n",
    "national=pd.DataFrame(columns=col_names, data=data.json()[1:], dtype=str)\n",
    "national['GeoFIPS'] = '0'\n",
    "df = pd.concat([df, national], axis = 0)\n",
    "savename = df\n",
    "print('Okay Finished')"
   ]
  },
  {
   "cell_type": "code",
   "execution_count": 20,
   "id": "fb313cc1",
   "metadata": {},
   "outputs": [],
   "source": [
    "twentyten = savename"
   ]
  },
  {
   "cell_type": "code",
   "execution_count": 21,
   "id": "abb63f5b",
   "metadata": {},
   "outputs": [],
   "source": [
    "twentyten['Mean Travel Time to Work'] = twentyten['Mean Travel Time to Work'].astype(float)"
   ]
  },
  {
   "cell_type": "code",
   "execution_count": 22,
   "id": "94cc7b0d",
   "metadata": {},
   "outputs": [],
   "source": [
    "twentyten = twentyten.drop(columns = ['StateFIPS', 'GeoFIPS'])"
   ]
  },
  {
   "cell_type": "code",
   "execution_count": 23,
   "id": "59b76212",
   "metadata": {},
   "outputs": [],
   "source": [
    "twentyten = twentyten.set_index('NAME').transpose()\n",
    "#rename geographies dict\n",
    "twentyten = twentyten.rename(columns = tofullcensus)\n",
    "twentyten = twentyten.transpose().reset_index(drop = False)"
   ]
  },
  {
   "cell_type": "code",
   "execution_count": 24,
   "id": "1011d46b",
   "metadata": {},
   "outputs": [],
   "source": [
    "twentyten['Source'] = '2006-2010 ACS5YRSUBJ'"
   ]
  },
  {
   "cell_type": "code",
   "execution_count": 25,
   "id": "b152c61c",
   "metadata": {},
   "outputs": [
    {
     "data": {
      "text/html": [
       "<div>\n",
       "<style scoped>\n",
       "    .dataframe tbody tr th:only-of-type {\n",
       "        vertical-align: middle;\n",
       "    }\n",
       "\n",
       "    .dataframe tbody tr th {\n",
       "        vertical-align: top;\n",
       "    }\n",
       "\n",
       "    .dataframe thead th {\n",
       "        text-align: right;\n",
       "    }\n",
       "</style>\n",
       "<table border=\"1\" class=\"dataframe\">\n",
       "  <thead>\n",
       "    <tr style=\"text-align: right;\">\n",
       "      <th></th>\n",
       "      <th>NAME</th>\n",
       "      <th>GEO_ID</th>\n",
       "      <th>Mean Travel Time to Work</th>\n",
       "      <th>Source</th>\n",
       "    </tr>\n",
       "  </thead>\n",
       "  <tbody>\n",
       "    <tr>\n",
       "      <th>69</th>\n",
       "      <td>Westmoreland town, Tennessee</td>\n",
       "      <td>1600000US4779420</td>\n",
       "      <td>33.4</td>\n",
       "      <td>2006-2010 ACS5YRSUBJ</td>\n",
       "    </tr>\n",
       "    <tr>\n",
       "      <th>70</th>\n",
       "      <td>White Bluff town, Tennessee</td>\n",
       "      <td>1600000US4779980</td>\n",
       "      <td>32.6</td>\n",
       "      <td>2006-2010 ACS5YRSUBJ</td>\n",
       "    </tr>\n",
       "    <tr>\n",
       "      <th>71</th>\n",
       "      <td>White House city, Tennessee</td>\n",
       "      <td>1600000US4780200</td>\n",
       "      <td>28.8</td>\n",
       "      <td>2006-2010 ACS5YRSUBJ</td>\n",
       "    </tr>\n",
       "    <tr>\n",
       "      <th>72</th>\n",
       "      <td>Tennessee</td>\n",
       "      <td>0400000US47</td>\n",
       "      <td>23.9</td>\n",
       "      <td>2006-2010 ACS5YRSUBJ</td>\n",
       "    </tr>\n",
       "    <tr>\n",
       "      <th>73</th>\n",
       "      <td>United States</td>\n",
       "      <td>0100000US</td>\n",
       "      <td>25.2</td>\n",
       "      <td>2006-2010 ACS5YRSUBJ</td>\n",
       "    </tr>\n",
       "  </tbody>\n",
       "</table>\n",
       "</div>"
      ],
      "text/plain": [
       "                            NAME            GEO_ID Mean Travel Time to Work                Source\n",
       "69  Westmoreland town, Tennessee  1600000US4779420                     33.4  2006-2010 ACS5YRSUBJ\n",
       "70   White Bluff town, Tennessee  1600000US4779980                     32.6  2006-2010 ACS5YRSUBJ\n",
       "71   White House city, Tennessee  1600000US4780200                     28.8  2006-2010 ACS5YRSUBJ\n",
       "72                     Tennessee       0400000US47                     23.9  2006-2010 ACS5YRSUBJ\n",
       "73                 United States         0100000US                     25.2  2006-2010 ACS5YRSUBJ"
      ]
     },
     "execution_count": 25,
     "metadata": {},
     "output_type": "execute_result"
    }
   ],
   "source": [
    "twentyten.tail()"
   ]
  },
  {
   "cell_type": "code",
   "execution_count": 26,
   "id": "01304083",
   "metadata": {},
   "outputs": [
    {
     "data": {
      "text/plain": [
       "74"
      ]
     },
     "execution_count": 26,
     "metadata": {},
     "output_type": "execute_result"
    }
   ],
   "source": [
    "conn = sq.connect('../../Outputs/CensusBureau.db')\n",
    "twentyten.to_sql('CensusBureau_ACS5SUBJ_2010', conn, if_exists = 'replace', index = False)"
   ]
  },
  {
   "cell_type": "code",
   "execution_count": 27,
   "id": "2a984855",
   "metadata": {},
   "outputs": [],
   "source": [
    "# twentyten.set_index(['NAME', 'GEO_ID'], inplace = True)\n",
    "# cols = twentyten.columns\n",
    "# twentyten.reset_index(drop = False, inplace = True)\n",
    "# twentyten = twentyten.melt(id_vars = ['NAME', 'GEO_ID'], value_vars = cols, value_name = 'Value', var_name = 'Variable')"
   ]
  },
  {
   "cell_type": "code",
   "execution_count": 28,
   "id": "4d08cf53",
   "metadata": {},
   "outputs": [
    {
     "name": "stdout",
     "output_type": "stream",
     "text": [
      "Okay Finished\n"
     ]
    }
   ],
   "source": [
    "#2021 ACS 5 Year Subject Table Estimate\n",
    "#counties\n",
    "url_str= 'https://api.census.gov/data/2021/acs/acs5/subject?key='+api_key\n",
    "predicates= {}\n",
    "get_vars= [\"NAME\", 'GEO_ID', 'S0801_C01_046E'] #the only variable is average commute\n",
    "predicates[\"get\"]= \",\". join(get_vars)\n",
    "predicates[\"for\"]= \"county:*\"\n",
    "predicates[\"in\"]= \"state:47\" \n",
    "data = requests.get(url_str, params= predicates)\n",
    "col_names = ['NAME', 'GEO_ID', 'Mean Travel Time to Work', 'StateFIPS', 'GeoFIPS']\n",
    "df = pd.DataFrame(columns=col_names, data=data.json()[1:], dtype=str)\n",
    "df = df.loc[df['GeoFIPS'].isin(GNRC)]\n",
    "predicates= {}\n",
    "get_vars= [\"NAME\", 'GEO_ID', 'S0801_C01_046E'] #the only variable is average commute\n",
    "predicates[\"get\"]= \",\". join(get_vars)\n",
    "predicates[\"for\"]= \"county:*\"\n",
    "predicates[\"in\"]= \"state:21\" \n",
    "data = requests.get(url_str, params= predicates)                                                              \n",
    "col_names = ['NAME', 'GEO_ID', 'Mean Travel Time to Work', 'StateFIPS', 'GeoFIPS']\n",
    "kycos = pd.DataFrame(columns=col_names, data=data.json()[1:], dtype=str)\n",
    "kycos = kycos.loc[kycos['GeoFIPS'].isin(KY)]\n",
    "df = pd.concat([df, kycos], axis = 0)\n",
    "#ky places call\n",
    "predicates= {}\n",
    "get_vars= [\"NAME\", 'GEO_ID', 'S0801_C01_046E'] #the only variable is average commute\n",
    "predicates[\"get\"]= \",\". join(get_vars)\n",
    "predicates[\"for\"]= \"place:*\"\n",
    "predicates[\"in\"]= \"state:47\" \n",
    "data = requests.get(url_str, params= predicates)\n",
    "col_names = ['NAME', 'GEO_ID', 'Mean Travel Time to Work', 'StateFIPS', 'GeoFIPS']\n",
    "places=pd.DataFrame(columns=col_names, data=data.json()[1:], dtype=str)\n",
    "places=places.loc[places['GEO_ID'].isin(censusplaces)]\n",
    "df = pd.concat([df, places], axis = 0)\n",
    "#places\n",
    "predicates= {}\n",
    "get_vars= [\"NAME\", 'GEO_ID', 'S0801_C01_046E'] #the only variable is average commute\n",
    "predicates[\"get\"]= \",\". join(get_vars)\n",
    "predicates[\"for\"]= \"place:*\"\n",
    "predicates[\"in\"]= \"state:21\" \n",
    "data = requests.get(url_str, params= predicates)\n",
    "col_names = ['NAME', 'GEO_ID', 'Mean Travel Time to Work', 'StateFIPS', 'GeoFIPS']\n",
    "places=pd.DataFrame(columns=col_names, data=data.json()[1:], dtype=str)\n",
    "places=places.loc[places['GEO_ID'].isin(censusplaces)]\n",
    "df = pd.concat([df, places], axis = 0)\n",
    "#state call\n",
    "predicates= {}\n",
    "get_vars= [\"NAME\", 'GEO_ID', 'S0801_C01_046E'] #the only variable is average commute\n",
    "predicates[\"get\"]= \",\". join(get_vars)\n",
    "predicates[\"for\"]= \"state:47\"\n",
    "data= requests.get(url_str, params= predicates)\n",
    "col_names = ['NAME', 'GEO_ID', 'Mean Travel Time to Work', 'StateFIPS']\n",
    "state=pd.DataFrame(columns=col_names, data=data.json()[1:], dtype=str)\n",
    "state['GeoFIPS'] = '0'\n",
    "df = pd.concat([df, state], axis = 0)\n",
    "#national call\n",
    "predicates= {}\n",
    "get_vars= [\"NAME\", 'GEO_ID', 'S0801_C01_046E'] #the only variable is average commute\n",
    "predicates[\"get\"]= \",\". join(get_vars)\n",
    "predicates[\"for\"]= \"us:*\"\n",
    "data= requests.get(url_str, params= predicates)\n",
    "col_names = ['NAME', 'GEO_ID', 'Mean Travel Time to Work', 'StateFIPS']\n",
    "national=pd.DataFrame(columns=col_names, data=data.json()[1:], dtype=str)\n",
    "national['GeoFIPS'] = '0'\n",
    "df = pd.concat([df, national], axis = 0)\n",
    "savename = df\n",
    "print('Okay Finished')"
   ]
  },
  {
   "cell_type": "code",
   "execution_count": 29,
   "id": "f44cf262",
   "metadata": {},
   "outputs": [],
   "source": [
    "twentytwentyone = savename"
   ]
  },
  {
   "cell_type": "code",
   "execution_count": 30,
   "id": "0cc57150",
   "metadata": {},
   "outputs": [],
   "source": [
    "twentytwentyone['Mean Travel Time to Work'] = twentytwentyone['Mean Travel Time to Work'].astype(float)"
   ]
  },
  {
   "cell_type": "code",
   "execution_count": 31,
   "id": "64307845",
   "metadata": {},
   "outputs": [],
   "source": [
    "twentytwentyone = twentytwentyone.drop(columns = ['StateFIPS', 'GeoFIPS'])"
   ]
  },
  {
   "cell_type": "code",
   "execution_count": 32,
   "id": "591344e1",
   "metadata": {},
   "outputs": [],
   "source": [
    "twentytwentyone = twentytwentyone.set_index('NAME').transpose()\n",
    "#rename geographies dict\n",
    "twentytwentyone = twentytwentyone.rename(columns = tofullcensus)\n",
    "twentytwentyone = twentytwentyone.transpose().reset_index(drop = False)"
   ]
  },
  {
   "cell_type": "code",
   "execution_count": 33,
   "id": "6cc5c635",
   "metadata": {},
   "outputs": [],
   "source": [
    "twentytwentyone['Source'] = '2017-2021 ACS5YRSUBJ'"
   ]
  },
  {
   "cell_type": "code",
   "execution_count": 34,
   "id": "08c6f685",
   "metadata": {},
   "outputs": [
    {
     "data": {
      "text/html": [
       "<div>\n",
       "<style scoped>\n",
       "    .dataframe tbody tr th:only-of-type {\n",
       "        vertical-align: middle;\n",
       "    }\n",
       "\n",
       "    .dataframe tbody tr th {\n",
       "        vertical-align: top;\n",
       "    }\n",
       "\n",
       "    .dataframe thead th {\n",
       "        text-align: right;\n",
       "    }\n",
       "</style>\n",
       "<table border=\"1\" class=\"dataframe\">\n",
       "  <thead>\n",
       "    <tr style=\"text-align: right;\">\n",
       "      <th></th>\n",
       "      <th>NAME</th>\n",
       "      <th>GEO_ID</th>\n",
       "      <th>Mean Travel Time to Work</th>\n",
       "      <th>Source</th>\n",
       "    </tr>\n",
       "  </thead>\n",
       "  <tbody>\n",
       "    <tr>\n",
       "      <th>0</th>\n",
       "      <td>Cheatham County, Tennessee</td>\n",
       "      <td>0500000US47021</td>\n",
       "      <td>33.8</td>\n",
       "      <td>2017-2021 ACS5YRSUBJ</td>\n",
       "    </tr>\n",
       "    <tr>\n",
       "      <th>1</th>\n",
       "      <td>Davidson County, Tennessee</td>\n",
       "      <td>0500000US47037</td>\n",
       "      <td>24.9</td>\n",
       "      <td>2017-2021 ACS5YRSUBJ</td>\n",
       "    </tr>\n",
       "    <tr>\n",
       "      <th>2</th>\n",
       "      <td>Dickson County, Tennessee</td>\n",
       "      <td>0500000US47043</td>\n",
       "      <td>33.1</td>\n",
       "      <td>2017-2021 ACS5YRSUBJ</td>\n",
       "    </tr>\n",
       "    <tr>\n",
       "      <th>3</th>\n",
       "      <td>Houston County, Tennessee</td>\n",
       "      <td>0500000US47083</td>\n",
       "      <td>39.2</td>\n",
       "      <td>2017-2021 ACS5YRSUBJ</td>\n",
       "    </tr>\n",
       "    <tr>\n",
       "      <th>4</th>\n",
       "      <td>Humphreys County, Tennessee</td>\n",
       "      <td>0500000US47085</td>\n",
       "      <td>34.6</td>\n",
       "      <td>2017-2021 ACS5YRSUBJ</td>\n",
       "    </tr>\n",
       "  </tbody>\n",
       "</table>\n",
       "</div>"
      ],
      "text/plain": [
       "                          NAME          GEO_ID Mean Travel Time to Work                Source\n",
       "0   Cheatham County, Tennessee  0500000US47021                     33.8  2017-2021 ACS5YRSUBJ\n",
       "1   Davidson County, Tennessee  0500000US47037                     24.9  2017-2021 ACS5YRSUBJ\n",
       "2    Dickson County, Tennessee  0500000US47043                     33.1  2017-2021 ACS5YRSUBJ\n",
       "3    Houston County, Tennessee  0500000US47083                     39.2  2017-2021 ACS5YRSUBJ\n",
       "4  Humphreys County, Tennessee  0500000US47085                     34.6  2017-2021 ACS5YRSUBJ"
      ]
     },
     "execution_count": 34,
     "metadata": {},
     "output_type": "execute_result"
    }
   ],
   "source": [
    "twentytwentyone.head()"
   ]
  },
  {
   "cell_type": "code",
   "execution_count": 35,
   "id": "98aefeb1",
   "metadata": {},
   "outputs": [
    {
     "data": {
      "text/plain": [
       "74"
      ]
     },
     "execution_count": 35,
     "metadata": {},
     "output_type": "execute_result"
    }
   ],
   "source": [
    "conn = sq.connect('../../Outputs/CensusBureau.db')\n",
    "twentytwentyone.to_sql('CensusBureau_ACS5SUBJ_2021', conn, if_exists = 'replace', index = False)"
   ]
  }
 ],
 "metadata": {
  "kernelspec": {
   "display_name": "Python 3 (ipykernel)",
   "language": "python",
   "name": "python3"
  },
  "language_info": {
   "codemirror_mode": {
    "name": "ipython",
    "version": 3
   },
   "file_extension": ".py",
   "mimetype": "text/x-python",
   "name": "python",
   "nbconvert_exporter": "python",
   "pygments_lexer": "ipython3",
   "version": "3.8.8"
  }
 },
 "nbformat": 4,
 "nbformat_minor": 5
}
