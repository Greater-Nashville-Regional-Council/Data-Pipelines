{
 "cells": [
  {
   "cell_type": "markdown",
   "id": "8a629139",
   "metadata": {},
   "source": [
    "# Geo Files for All Geographies"
   ]
  },
  {
   "cell_type": "code",
   "execution_count": 1,
   "id": "64e2b650",
   "metadata": {},
   "outputs": [],
   "source": [
    "import pandas as pd\n",
    "import numpy as np\n",
    "import requests\n",
    "import geopandas as gpd\n",
    "pd.set_option('display.max_columns', None)\n",
    "pd.set_option('display.max_rows', None)\n",
    "pd.set_option('display.width', 150)\n",
    "from warnings import simplefilter\n",
    "simplefilter(action=\"ignore\", category=pd.errors.PerformanceWarning)\n",
    "import sys\n",
    "sys.path.append(\"..\") # Adds higher directory to python modules path\n",
    "import sqlite3 as sq\n",
    "import geodict\n",
    "namestocommon = geodict.namestocommon\n",
    "geotogeoid = geodict.geotogeoid\n",
    "tofullcensus = geodict.tofullcensus"
   ]
  },
  {
   "cell_type": "code",
   "execution_count": 103,
   "id": "e0e63654",
   "metadata": {},
   "outputs": [],
   "source": [
    "GNRCFULLFIPS = geodict.GNRCFULLFIPS\n",
    "KYFULLFIPS = geodict.KYFULLFIPS\n",
    "GNRCSHORTFIPS = geodict.GNRC"
   ]
  },
  {
   "cell_type": "code",
   "execution_count": 3,
   "id": "fd1240f4",
   "metadata": {},
   "outputs": [],
   "source": [
    "tnplac = geodict.medtnplaces\n",
    "kyplac = geodict.medkyplaces"
   ]
  },
  {
   "cell_type": "markdown",
   "id": "b9d1da7e",
   "metadata": {},
   "source": [
    "# 2020"
   ]
  },
  {
   "cell_type": "markdown",
   "id": "2a040000",
   "metadata": {},
   "source": [
    "STATE 2020"
   ]
  },
  {
   "cell_type": "code",
   "execution_count": 90,
   "id": "546b1912",
   "metadata": {},
   "outputs": [
    {
     "name": "stdout",
     "output_type": "stream",
     "text": [
      "Your geographic file is ready.\n"
     ]
    }
   ],
   "source": [
    "url = 'https://www2.census.gov/geo/tiger/TIGER2020/STATE/tl_2020_us_state.zip'\n",
    "geo = gpd.read_file(url)\n",
    "print('Your geographic file is ready.')"
   ]
  },
  {
   "cell_type": "code",
   "execution_count": 91,
   "id": "82d2eda0",
   "metadata": {},
   "outputs": [],
   "source": [
    "tn = geo.loc[geo['GEOID'] == '47']\n",
    "tn = tn.drop(columns = ['REGION', 'DIVISION', 'STATEFP', 'STATENS', 'STUSPS', 'LSAD',\n",
    "                        'MTFCC', 'FUNCSTAT', 'AWATER', 'INTPTLAT', 'INTPTLON'])\n",
    "tn = tn.rename(columns = {'GEOID':'GEO_ID'})\n",
    "tn['GEO_ID'] = '0400000US' + tn['GEO_ID']"
   ]
  },
  {
   "cell_type": "markdown",
   "id": "6989209d",
   "metadata": {},
   "source": [
    "COUNTIES 2020"
   ]
  },
  {
   "cell_type": "code",
   "execution_count": 92,
   "id": "83ec1af8",
   "metadata": {},
   "outputs": [
    {
     "name": "stdout",
     "output_type": "stream",
     "text": [
      "Your geographic file is ready.\n"
     ]
    }
   ],
   "source": [
    "url = 'https://www2.census.gov/geo/tiger/TIGER2020/COUNTY/tl_2020_us_county.zip'\n",
    "geo = gpd.read_file(url)\n",
    "print('Your geographic file is ready.')"
   ]
  },
  {
   "cell_type": "code",
   "execution_count": 93,
   "id": "ab7f735f",
   "metadata": {},
   "outputs": [],
   "source": [
    "tncounties = geo.loc[geo['GEOID'].isin(GNRCFULLFIPS)]\n",
    "tncounties = tncounties.drop(columns = ['STATEFP', 'COUNTYFP', 'COUNTYNS', 'NAME', 'LSAD', 'CLASSFP',\n",
    "                                        'MTFCC', 'CSAFP', 'CBSAFP', 'METDIVFP', 'FUNCSTAT', 'AWATER', 'INTPTLAT', 'INTPTLON'])\n",
    "tncounties = tncounties.rename(columns = {'GEOID':'GEO_ID', 'NAMELSAD':'NAME'})\n",
    "tncounties['NAME'] = tncounties['NAME'] + ', Tennessee'\n",
    "tncounties['GEO_ID'] = '0500000US' + tncounties['GEO_ID']"
   ]
  },
  {
   "cell_type": "code",
   "execution_count": 94,
   "id": "9e9322b1",
   "metadata": {},
   "outputs": [],
   "source": [
    "kycounties = geo.loc[geo['GEOID'].isin(KYFULLFIPS)]\n",
    "kycounties = kycounties.drop(columns = ['STATEFP', 'COUNTYFP', 'COUNTYNS', 'NAME', 'LSAD', 'CLASSFP',\n",
    "                                        'MTFCC', 'CSAFP', 'CBSAFP', 'METDIVFP', 'FUNCSTAT', 'AWATER', 'INTPTLAT', 'INTPTLON'])\n",
    "kycounties = kycounties.rename(columns = {'GEOID':'GEO_ID', 'NAMELSAD':'NAME'})\n",
    "kycounties['NAME'] = kycounties['NAME'] + ', Kentucky'\n",
    "kycounties['GEO_ID'] = '0500000US' + kycounties['GEO_ID']"
   ]
  },
  {
   "cell_type": "markdown",
   "id": "00762569",
   "metadata": {},
   "source": [
    "PLACES 2020"
   ]
  },
  {
   "cell_type": "code",
   "execution_count": 95,
   "id": "6bb19a3e",
   "metadata": {},
   "outputs": [
    {
     "name": "stdout",
     "output_type": "stream",
     "text": [
      "Your geographic file is ready.\n"
     ]
    }
   ],
   "source": [
    "#Tennessee Places\n",
    "url= 'https://www2.census.gov/geo/tiger/TIGER2020/PLACE/tl_2020_47_place.zip'\n",
    "geo = gpd.read_file(url)\n",
    "print('Your geographic file is ready.')"
   ]
  },
  {
   "cell_type": "code",
   "execution_count": 96,
   "id": "ee2c68a9",
   "metadata": {},
   "outputs": [],
   "source": [
    "tnplaces = geo.loc[geo['GEOID'].isin(tnplac)]\n",
    "tnplaces = tnplaces.drop(columns = ['STATEFP', 'PLACEFP', 'PLACENS', 'NAME', 'LSAD', 'CLASSFP',\n",
    "                          'PCICBSA', 'PCINECTA', 'MTFCC', 'FUNCSTAT', 'AWATER', 'INTPTLAT', 'INTPTLON'])\n",
    "tnplaces = tnplaces.rename(columns = {'GEOID':'GEO_ID', 'NAMELSAD':'NAME'})\n",
    "tnplaces['NAME'] = tnplaces['NAME'] + ', Tennessee'\n",
    "tnplaces['GEO_ID'] = '1600000US' + tnplaces['GEO_ID']"
   ]
  },
  {
   "cell_type": "code",
   "execution_count": 97,
   "id": "a8eeaa58",
   "metadata": {},
   "outputs": [
    {
     "name": "stdout",
     "output_type": "stream",
     "text": [
      "Your geographic file is ready.\n"
     ]
    }
   ],
   "source": [
    "#Kentucky Places\n",
    "url= 'https://www2.census.gov/geo/tiger/TIGER2020/PLACE/tl_2020_21_place.zip'\n",
    "geo = gpd.read_file(url)\n",
    "print('Your geographic file is ready.')"
   ]
  },
  {
   "cell_type": "code",
   "execution_count": 98,
   "id": "98771598",
   "metadata": {},
   "outputs": [
    {
     "data": {
      "text/html": [
       "<div>\n",
       "<style scoped>\n",
       "    .dataframe tbody tr th:only-of-type {\n",
       "        vertical-align: middle;\n",
       "    }\n",
       "\n",
       "    .dataframe tbody tr th {\n",
       "        vertical-align: top;\n",
       "    }\n",
       "\n",
       "    .dataframe thead th {\n",
       "        text-align: right;\n",
       "    }\n",
       "</style>\n",
       "<table border=\"1\" class=\"dataframe\">\n",
       "  <thead>\n",
       "    <tr style=\"text-align: right;\">\n",
       "      <th></th>\n",
       "      <th>GEO_ID</th>\n",
       "      <th>NAME</th>\n",
       "      <th>ALAND</th>\n",
       "      <th>geometry</th>\n",
       "    </tr>\n",
       "  </thead>\n",
       "  <tbody>\n",
       "    <tr>\n",
       "      <th>87</th>\n",
       "      <td>1600000US2128918</td>\n",
       "      <td>Franklin city, Kentucky</td>\n",
       "      <td>38193278</td>\n",
       "      <td>MULTIPOLYGON (((-86.56326 36.74383, -86.56317 ...</td>\n",
       "    </tr>\n",
       "    <tr>\n",
       "      <th>384</th>\n",
       "      <td>1600000US2169114</td>\n",
       "      <td>Scottsville city, Kentucky</td>\n",
       "      <td>16324141</td>\n",
       "      <td>POLYGON ((-86.31826 36.83578, -86.31787 36.836...</td>\n",
       "    </tr>\n",
       "  </tbody>\n",
       "</table>\n",
       "</div>"
      ],
      "text/plain": [
       "               GEO_ID                        NAME     ALAND                                           geometry\n",
       "87   1600000US2128918     Franklin city, Kentucky  38193278  MULTIPOLYGON (((-86.56326 36.74383, -86.56317 ...\n",
       "384  1600000US2169114  Scottsville city, Kentucky  16324141  POLYGON ((-86.31826 36.83578, -86.31787 36.836..."
      ]
     },
     "execution_count": 98,
     "metadata": {},
     "output_type": "execute_result"
    }
   ],
   "source": [
    "kyplaces = geo.loc[geo['GEOID'].isin(kyplac)]\n",
    "kyplaces = kyplaces.drop(columns = ['STATEFP', 'PLACEFP', 'PLACENS', 'NAME', 'LSAD', 'CLASSFP',\n",
    "                          'PCICBSA', 'PCINECTA', 'MTFCC', 'FUNCSTAT', 'AWATER', 'INTPTLAT', 'INTPTLON'])\n",
    "kyplaces = kyplaces.rename(columns = {'GEOID':'GEO_ID', 'NAMELSAD':'NAME'})\n",
    "kyplaces['NAME'] = kyplaces['NAME'] + ', Kentucky'\n",
    "kyplaces['GEO_ID'] = '1600000US' + kyplaces['GEO_ID']\n",
    "kyplaces.head()"
   ]
  },
  {
   "cell_type": "markdown",
   "id": "531d1880",
   "metadata": {},
   "source": [
    "BLOCK GROUPS 2020"
   ]
  },
  {
   "cell_type": "code",
   "execution_count": 101,
   "id": "66f52b97",
   "metadata": {},
   "outputs": [
    {
     "name": "stdout",
     "output_type": "stream",
     "text": [
      "Your geographic file is ready.\n"
     ]
    }
   ],
   "source": [
    "#Tennessee Block Groups\n",
    "url= 'https://www2.census.gov/geo/tiger/TIGER2020/BG/tl_2020_47_bg.zip'\n",
    "geo = gpd.read_file(url)\n",
    "print('Your geographic file is ready.')"
   ]
  },
  {
   "cell_type": "code",
   "execution_count": 105,
   "id": "65ff8d7f",
   "metadata": {},
   "outputs": [
    {
     "data": {
      "text/html": [
       "<div>\n",
       "<style scoped>\n",
       "    .dataframe tbody tr th:only-of-type {\n",
       "        vertical-align: middle;\n",
       "    }\n",
       "\n",
       "    .dataframe tbody tr th {\n",
       "        vertical-align: top;\n",
       "    }\n",
       "\n",
       "    .dataframe thead th {\n",
       "        text-align: right;\n",
       "    }\n",
       "</style>\n",
       "<table border=\"1\" class=\"dataframe\">\n",
       "  <thead>\n",
       "    <tr style=\"text-align: right;\">\n",
       "      <th></th>\n",
       "      <th>GEO_ID</th>\n",
       "      <th>NAME</th>\n",
       "      <th>ALAND</th>\n",
       "      <th>geometry</th>\n",
       "    </tr>\n",
       "  </thead>\n",
       "  <tbody>\n",
       "    <tr>\n",
       "      <th>0</th>\n",
       "      <td>471650211062</td>\n",
       "      <td>Block Group 2</td>\n",
       "      <td>1984864</td>\n",
       "      <td>POLYGON ((-86.63674 36.30110, -86.63593 36.301...</td>\n",
       "    </tr>\n",
       "    <tr>\n",
       "      <th>47</th>\n",
       "      <td>471650210021</td>\n",
       "      <td>Block Group 1</td>\n",
       "      <td>2905712</td>\n",
       "      <td>POLYGON ((-86.69927 36.32775, -86.69923 36.327...</td>\n",
       "    </tr>\n",
       "    <tr>\n",
       "      <th>48</th>\n",
       "      <td>471650204072</td>\n",
       "      <td>Block Group 2</td>\n",
       "      <td>5500449</td>\n",
       "      <td>POLYGON ((-86.67960 36.44078, -86.67887 36.442...</td>\n",
       "    </tr>\n",
       "    <tr>\n",
       "      <th>49</th>\n",
       "      <td>471650205022</td>\n",
       "      <td>Block Group 2</td>\n",
       "      <td>3137108</td>\n",
       "      <td>POLYGON ((-86.49832 36.39317, -86.49831 36.393...</td>\n",
       "    </tr>\n",
       "    <tr>\n",
       "      <th>50</th>\n",
       "      <td>471650204041</td>\n",
       "      <td>Block Group 1</td>\n",
       "      <td>38388161</td>\n",
       "      <td>POLYGON ((-86.63707 36.52732, -86.63701 36.527...</td>\n",
       "    </tr>\n",
       "  </tbody>\n",
       "</table>\n",
       "</div>"
      ],
      "text/plain": [
       "          GEO_ID           NAME     ALAND                                           geometry\n",
       "0   471650211062  Block Group 2   1984864  POLYGON ((-86.63674 36.30110, -86.63593 36.301...\n",
       "47  471650210021  Block Group 1   2905712  POLYGON ((-86.69927 36.32775, -86.69923 36.327...\n",
       "48  471650204072  Block Group 2   5500449  POLYGON ((-86.67960 36.44078, -86.67887 36.442...\n",
       "49  471650205022  Block Group 2   3137108  POLYGON ((-86.49832 36.39317, -86.49831 36.393...\n",
       "50  471650204041  Block Group 1  38388161  POLYGON ((-86.63707 36.52732, -86.63701 36.527..."
      ]
     },
     "execution_count": 105,
     "metadata": {},
     "output_type": "execute_result"
    }
   ],
   "source": [
    "tnbg.head()"
   ]
  },
  {
   "cell_type": "code",
   "execution_count": 104,
   "id": "019ba04d",
   "metadata": {},
   "outputs": [],
   "source": [
    "tnbg = geo.loc[geo['COUNTYFP'].isin(GNRCSHORTFIPS)]\n",
    "tnbg = tnbg.drop(columns = ['STATEFP', 'COUNTYFP', 'TRACTCE', 'BLKGRPCE', 'MTFCC', 'FUNCSTAT', 'AWATER', 'INTPTLAT', 'INTPTLON'])\n",
    "tnbg = tnbg.rename(columns = {'GEOID':'GEO_ID', 'NAMELSAD':'NAME'})"
   ]
  },
  {
   "cell_type": "markdown",
   "id": "37813f80",
   "metadata": {},
   "source": [
    "Join 2020"
   ]
  },
  {
   "cell_type": "code",
   "execution_count": 106,
   "id": "cf7bc37a",
   "metadata": {},
   "outputs": [
    {
     "name": "stdout",
     "output_type": "stream",
     "text": [
      "<class 'geopandas.geodataframe.GeoDataFrame'>\n",
      "RangeIndex: 1307 entries, 0 to 1306\n",
      "Data columns (total 4 columns):\n",
      " #   Column    Non-Null Count  Dtype   \n",
      "---  ------    --------------  -----   \n",
      " 0   GEO_ID    1307 non-null   object  \n",
      " 1   NAME      1307 non-null   object  \n",
      " 2   ALAND     1307 non-null   int64   \n",
      " 3   geometry  1307 non-null   geometry\n",
      "dtypes: geometry(1), int64(1), object(2)\n",
      "memory usage: 41.0+ KB\n"
     ]
    }
   ],
   "source": [
    "df = kyplaces.append(tnplaces)\n",
    "df = df.append(tncounties).reset_index(drop = True)\n",
    "df = df.append(kycounties).reset_index(drop = True)\n",
    "df = df.append(tn).reset_index(drop = True)\n",
    "df = df.append(tnbg).reset_index(drop = True)\n",
    "df.info()"
   ]
  },
  {
   "cell_type": "code",
   "execution_count": 109,
   "id": "23ad8059",
   "metadata": {},
   "outputs": [
    {
     "data": {
      "text/html": [
       "<div>\n",
       "<style scoped>\n",
       "    .dataframe tbody tr th:only-of-type {\n",
       "        vertical-align: middle;\n",
       "    }\n",
       "\n",
       "    .dataframe tbody tr th {\n",
       "        vertical-align: top;\n",
       "    }\n",
       "\n",
       "    .dataframe thead th {\n",
       "        text-align: right;\n",
       "    }\n",
       "</style>\n",
       "<table border=\"1\" class=\"dataframe\">\n",
       "  <thead>\n",
       "    <tr style=\"text-align: right;\">\n",
       "      <th></th>\n",
       "      <th>GEO_ID</th>\n",
       "      <th>NAME</th>\n",
       "      <th>ALAND</th>\n",
       "      <th>geometry</th>\n",
       "    </tr>\n",
       "  </thead>\n",
       "  <tbody>\n",
       "    <tr>\n",
       "      <th>0</th>\n",
       "      <td>1600000US2128918</td>\n",
       "      <td>Franklin city, Kentucky</td>\n",
       "      <td>38193278</td>\n",
       "      <td>MULTIPOLYGON (((-86.56326 36.74383, -86.56317 ...</td>\n",
       "    </tr>\n",
       "    <tr>\n",
       "      <th>1</th>\n",
       "      <td>1600000US2169114</td>\n",
       "      <td>Scottsville city, Kentucky</td>\n",
       "      <td>16324141</td>\n",
       "      <td>POLYGON ((-86.31826 36.83578, -86.31787 36.836...</td>\n",
       "    </tr>\n",
       "    <tr>\n",
       "      <th>2</th>\n",
       "      <td>1600000US4750780</td>\n",
       "      <td>Mount Juliet city, Tennessee</td>\n",
       "      <td>64916461</td>\n",
       "      <td>MULTIPOLYGON (((-86.55142 36.17139, -86.55138 ...</td>\n",
       "    </tr>\n",
       "    <tr>\n",
       "      <th>3</th>\n",
       "      <td>1600000US4715160</td>\n",
       "      <td>Clarksville city, Tennessee</td>\n",
       "      <td>257446809</td>\n",
       "      <td>POLYGON ((-87.48197 36.62064, -87.48188 36.620...</td>\n",
       "    </tr>\n",
       "    <tr>\n",
       "      <th>4</th>\n",
       "      <td>1600000US4721400</td>\n",
       "      <td>Dover city, Tennessee</td>\n",
       "      <td>9909807</td>\n",
       "      <td>POLYGON ((-87.89502 36.47924, -87.89495 36.479...</td>\n",
       "    </tr>\n",
       "  </tbody>\n",
       "</table>\n",
       "</div>"
      ],
      "text/plain": [
       "             GEO_ID                          NAME      ALAND                                           geometry\n",
       "0  1600000US2128918       Franklin city, Kentucky   38193278  MULTIPOLYGON (((-86.56326 36.74383, -86.56317 ...\n",
       "1  1600000US2169114    Scottsville city, Kentucky   16324141  POLYGON ((-86.31826 36.83578, -86.31787 36.836...\n",
       "2  1600000US4750780  Mount Juliet city, Tennessee   64916461  MULTIPOLYGON (((-86.55142 36.17139, -86.55138 ...\n",
       "3  1600000US4715160   Clarksville city, Tennessee  257446809  POLYGON ((-87.48197 36.62064, -87.48188 36.620...\n",
       "4  1600000US4721400         Dover city, Tennessee    9909807  POLYGON ((-87.89502 36.47924, -87.89495 36.479..."
      ]
     },
     "execution_count": 109,
     "metadata": {},
     "output_type": "execute_result"
    }
   ],
   "source": [
    "df.head()"
   ]
  },
  {
   "cell_type": "code",
   "execution_count": 110,
   "id": "ffc50d31",
   "metadata": {},
   "outputs": [],
   "source": [
    "geometries = df[['GEO_ID', 'geometry']].copy()\n",
    "df = df.drop(columns = 'geometry')"
   ]
  },
  {
   "cell_type": "code",
   "execution_count": 111,
   "id": "cec8c92d",
   "metadata": {},
   "outputs": [],
   "source": [
    "df['ALAND'] = df['ALAND'].astype(float)\n",
    "df = df.set_index(['NAME', 'GEO_ID'])\n",
    "data = df.transpose()"
   ]
  },
  {
   "cell_type": "code",
   "execution_count": 112,
   "id": "65e49883",
   "metadata": {},
   "outputs": [],
   "source": [
    "GNRCCounties = [data[('Stewart County, Tennessee', '0500000US47161')],data[('Montgomery County, Tennessee', '0500000US47125')],\n",
    "                data[('Houston County, Tennessee', '0500000US47083')],data[('Humphreys County, Tennessee', '0500000US47085')],\n",
    "                data[('Dickson County, Tennessee', '0500000US47043')],data[('Cheatham County, Tennessee', '0500000US47021')],\n",
    "                data[('Robertson County, Tennessee', '0500000US47147')],data[('Sumner County, Tennessee', '0500000US47165')],\n",
    "                data[('Davidson County, Tennessee', '0500000US47037')],data[('Wilson County, Tennessee', '0500000US47189')],\n",
    "                data[('Trousdale County, Tennessee', '0500000US47169')],data[('Williamson County, Tennessee', '0500000US47187')],\n",
    "                data[('Rutherford County, Tennessee', '0500000US47149')]]\n",
    "data['GNRC'] = sum(GNRCCounties)\n",
    "GNRCCountiesAll = [data[('Stewart County, Tennessee', '0500000US47161')],data[('Montgomery County, Tennessee', '0500000US47125')],\n",
    "                   data[('Houston County, Tennessee', '0500000US47083')],data[('Humphreys County, Tennessee', '0500000US47085')],\n",
    "                   data[('Dickson County, Tennessee', '0500000US47043')],data[('Cheatham County, Tennessee', '0500000US47021')],\n",
    "                   data[('Robertson County, Tennessee', '0500000US47147')],data[('Sumner County, Tennessee', '0500000US47165')],\n",
    "                   data[('Davidson County, Tennessee', '0500000US47037')],data[('Wilson County, Tennessee', '0500000US47189')],\n",
    "                   data[('Trousdale County, Tennessee', '0500000US47169')],data[('Williamson County, Tennessee', '0500000US47187')],\n",
    "                   data[('Rutherford County, Tennessee', '0500000US47149')],data[('Maury County, Tennessee', '0500000US47119')]]\n",
    "data['GNRC Region'] = sum(GNRCCountiesAll)\n",
    "MPOCounties = [data[('Robertson County, Tennessee', '0500000US47147')],data[('Sumner County, Tennessee', '0500000US47165')],\n",
    "               data[('Davidson County, Tennessee', '0500000US47037')],data[('Wilson County, Tennessee', '0500000US47189')],\n",
    "               data[('Williamson County, Tennessee', '0500000US47187')],data[('Rutherford County, Tennessee', '0500000US47149')],\n",
    "               data[('Maury County, Tennessee', '0500000US47119')]]\n",
    "data['MPO'] = sum(MPOCounties)\n",
    "RuthInc = [data[('Eagleville city, Tennessee', '1600000US4722360')],data[('La Vergne city, Tennessee', '1600000US4741200')],\n",
    "           data[('Murfreesboro city, Tennessee', '1600000US4751560')],data[('Smyrna town, Tennessee', '1600000US4769420')]]\n",
    "data[('Rutherford Incorporated', 'None')] = sum(RuthInc)\n",
    "data[('Rutherford Unincorporated', 'None')] = data[('Rutherford County, Tennessee', '0500000US47149')] - data[('Rutherford Incorporated', 'None')]\n",
    "WilsonInc = [data[('Lebanon city, Tennessee', '1600000US4741520')],data[('Mount Juliet city, Tennessee', '1600000US4750780')],\n",
    "             data[('Watertown city, Tennessee', '1600000US4778320')]]\n",
    "data[('Wilson Incorporated', 'None')] = sum(WilsonInc)\n",
    "data[('Wilson Unincorporated', 'None')] = data[('Wilson County, Tennessee', '0500000US47189')] - data[('Wilson Incorporated', 'None')]\n",
    "CheathInc = [data[('Ashland City town, Tennessee', '1600000US4702180')],data[('Kingston Springs town, Tennessee', '1600000US4739660')],\n",
    "             data[('Pegram town, Tennessee', '1600000US4757480')],data[('Pleasant View city, Tennessee', '1600000US4759560')]]\n",
    "data[('Cheatham Incorporated', 'None')] = sum(CheathInc)\n",
    "data[('Cheatham Unincorporated', 'None')] = data[('Cheatham County, Tennessee', '0500000US47021')] - data[('Cheatham Incorporated', 'None')]\n",
    "DicksInc = [data[('Burns town, Tennessee', '1600000US4709880')],data[('Charlotte town, Tennessee', '1600000US4713080')],\n",
    "            data[('Dickson city, Tennessee', '1600000US4720620')],data[('Slayden town, Tennessee', '1600000US4769080')],\n",
    "            data[('Vanleer town, Tennessee', '1600000US4776860')],data[('White Bluff town, Tennessee', '1600000US4779980')]]\n",
    "data[('Dickson Incorporated', 'None')] = sum(DicksInc)\n",
    "data[('Dickson Unincorporated', 'None')] = data[('Dickson County, Tennessee', '0500000US47043')] - data[('Dickson Incorporated', 'None')]\n",
    "HumphInc = [data[('McEwen city, Tennessee', '1600000US4744840')],data[('New Johnsonville city, Tennessee', '1600000US4752820')],\n",
    "            data[('Waverly city, Tennessee', '1600000US4778560')]]\n",
    "data[('Humphreys Incorporated', 'None')] = sum(HumphInc)\n",
    "data[('Humphreys Unincorporated', 'None')] = data[('Humphreys County, Tennessee', '0500000US47085')] - data[('Humphreys Incorporated', 'None')]\n",
    "data[('Montgomery Incorporated', 'None')] = data[('Clarksville city, Tennessee', '1600000US4715160')]\n",
    "data[('Montgomery Unincorporated', 'None')] = data[('Montgomery County, Tennessee', '0500000US47125')] - data[('Montgomery Incorporated', 'None')]"
   ]
  },
  {
   "cell_type": "code",
   "execution_count": 113,
   "id": "62e72775",
   "metadata": {},
   "outputs": [],
   "source": [
    "data = data.transpose().reset_index()\n",
    "data['Square Acres'] = data['ALAND']*0.000247105\n",
    "data['Square Miles'] = data['ALAND']*0.00000038610215855\n",
    "data = data.drop(columns = 'ALAND')"
   ]
  },
  {
   "cell_type": "code",
   "execution_count": 114,
   "id": "710ccf91",
   "metadata": {},
   "outputs": [],
   "source": [
    "wgeos = data.merge(geometries, on = 'GEO_ID')"
   ]
  },
  {
   "cell_type": "code",
   "execution_count": 115,
   "id": "7e486161",
   "metadata": {},
   "outputs": [],
   "source": [
    "wgeos['Source'] = 'TIGER 2020'"
   ]
  },
  {
   "cell_type": "code",
   "execution_count": 116,
   "id": "0b9cbec6",
   "metadata": {},
   "outputs": [
    {
     "data": {
      "text/html": [
       "<div>\n",
       "<style scoped>\n",
       "    .dataframe tbody tr th:only-of-type {\n",
       "        vertical-align: middle;\n",
       "    }\n",
       "\n",
       "    .dataframe tbody tr th {\n",
       "        vertical-align: top;\n",
       "    }\n",
       "\n",
       "    .dataframe thead th {\n",
       "        text-align: right;\n",
       "    }\n",
       "</style>\n",
       "<table border=\"1\" class=\"dataframe\">\n",
       "  <thead>\n",
       "    <tr style=\"text-align: right;\">\n",
       "      <th></th>\n",
       "      <th>NAME</th>\n",
       "      <th>GEO_ID</th>\n",
       "      <th>Square Acres</th>\n",
       "      <th>Square Miles</th>\n",
       "      <th>geometry</th>\n",
       "      <th>Source</th>\n",
       "    </tr>\n",
       "  </thead>\n",
       "  <tbody>\n",
       "    <tr>\n",
       "      <th>0</th>\n",
       "      <td>Franklin city, Kentucky</td>\n",
       "      <td>1600000US2128918</td>\n",
       "      <td>9437.749960</td>\n",
       "      <td>14.746507</td>\n",
       "      <td>MULTIPOLYGON (((-86.56326 36.74383, -86.56317 ...</td>\n",
       "      <td>TIGER 2020</td>\n",
       "    </tr>\n",
       "    <tr>\n",
       "      <th>1</th>\n",
       "      <td>Scottsville city, Kentucky</td>\n",
       "      <td>1600000US2169114</td>\n",
       "      <td>4033.776862</td>\n",
       "      <td>6.302786</td>\n",
       "      <td>POLYGON ((-86.31826 36.83578, -86.31787 36.836...</td>\n",
       "      <td>TIGER 2020</td>\n",
       "    </tr>\n",
       "    <tr>\n",
       "      <th>2</th>\n",
       "      <td>Mount Juliet city, Tennessee</td>\n",
       "      <td>1600000US4750780</td>\n",
       "      <td>16041.182095</td>\n",
       "      <td>25.064386</td>\n",
       "      <td>MULTIPOLYGON (((-86.55142 36.17139, -86.55138 ...</td>\n",
       "      <td>TIGER 2020</td>\n",
       "    </tr>\n",
       "    <tr>\n",
       "      <th>3</th>\n",
       "      <td>Clarksville city, Tennessee</td>\n",
       "      <td>1600000US4715160</td>\n",
       "      <td>63616.393738</td>\n",
       "      <td>99.400769</td>\n",
       "      <td>POLYGON ((-87.48197 36.62064, -87.48188 36.620...</td>\n",
       "      <td>TIGER 2020</td>\n",
       "    </tr>\n",
       "    <tr>\n",
       "      <th>4</th>\n",
       "      <td>Dover city, Tennessee</td>\n",
       "      <td>1600000US4721400</td>\n",
       "      <td>2448.762859</td>\n",
       "      <td>3.826198</td>\n",
       "      <td>POLYGON ((-87.89502 36.47924, -87.89495 36.479...</td>\n",
       "      <td>TIGER 2020</td>\n",
       "    </tr>\n",
       "  </tbody>\n",
       "</table>\n",
       "</div>"
      ],
      "text/plain": [
       "                           NAME            GEO_ID  Square Acres  Square Miles                                           geometry      Source\n",
       "0       Franklin city, Kentucky  1600000US2128918   9437.749960     14.746507  MULTIPOLYGON (((-86.56326 36.74383, -86.56317 ...  TIGER 2020\n",
       "1    Scottsville city, Kentucky  1600000US2169114   4033.776862      6.302786  POLYGON ((-86.31826 36.83578, -86.31787 36.836...  TIGER 2020\n",
       "2  Mount Juliet city, Tennessee  1600000US4750780  16041.182095     25.064386  MULTIPOLYGON (((-86.55142 36.17139, -86.55138 ...  TIGER 2020\n",
       "3   Clarksville city, Tennessee  1600000US4715160  63616.393738     99.400769  POLYGON ((-87.48197 36.62064, -87.48188 36.620...  TIGER 2020\n",
       "4         Dover city, Tennessee  1600000US4721400   2448.762859      3.826198  POLYGON ((-87.89502 36.47924, -87.89495 36.479...  TIGER 2020"
      ]
     },
     "execution_count": 116,
     "metadata": {},
     "output_type": "execute_result"
    }
   ],
   "source": [
    "#final check\n",
    "wgeos.head()"
   ]
  },
  {
   "cell_type": "code",
   "execution_count": 117,
   "id": "5e936f24",
   "metadata": {},
   "outputs": [
    {
     "name": "stdout",
     "output_type": "stream",
     "text": [
      "<class 'geopandas.geodataframe.GeoDataFrame'>\n",
      "Int64Index: 1307 entries, 0 to 1306\n",
      "Data columns (total 6 columns):\n",
      " #   Column        Non-Null Count  Dtype   \n",
      "---  ------        --------------  -----   \n",
      " 0   NAME          1307 non-null   object  \n",
      " 1   GEO_ID        1307 non-null   object  \n",
      " 2   Square Acres  1307 non-null   float64 \n",
      " 3   Square Miles  1307 non-null   float64 \n",
      " 4   geometry      1307 non-null   geometry\n",
      " 5   Source        1307 non-null   object  \n",
      "dtypes: float64(2), geometry(1), object(3)\n",
      "memory usage: 71.5+ KB\n"
     ]
    }
   ],
   "source": [
    "wgeos.info()"
   ]
  },
  {
   "cell_type": "code",
   "execution_count": 118,
   "id": "3234ce83",
   "metadata": {},
   "outputs": [],
   "source": [
    "wgeos.to_file('../../Outputs/SHAPEFILES/TIGERS2020.shp')"
   ]
  },
  {
   "cell_type": "code",
   "execution_count": 119,
   "id": "ed24114f",
   "metadata": {},
   "outputs": [],
   "source": [
    "data['Source'] = 'TIGER 2020'"
   ]
  },
  {
   "cell_type": "code",
   "execution_count": 120,
   "id": "192a65f1",
   "metadata": {},
   "outputs": [
    {
     "data": {
      "text/html": [
       "<div>\n",
       "<style scoped>\n",
       "    .dataframe tbody tr th:only-of-type {\n",
       "        vertical-align: middle;\n",
       "    }\n",
       "\n",
       "    .dataframe tbody tr th {\n",
       "        vertical-align: top;\n",
       "    }\n",
       "\n",
       "    .dataframe thead th {\n",
       "        text-align: right;\n",
       "    }\n",
       "</style>\n",
       "<table border=\"1\" class=\"dataframe\">\n",
       "  <thead>\n",
       "    <tr style=\"text-align: right;\">\n",
       "      <th></th>\n",
       "      <th>NAME</th>\n",
       "      <th>GEO_ID</th>\n",
       "      <th>Square Acres</th>\n",
       "      <th>Square Miles</th>\n",
       "      <th>Source</th>\n",
       "    </tr>\n",
       "  </thead>\n",
       "  <tbody>\n",
       "    <tr>\n",
       "      <th>0</th>\n",
       "      <td>Franklin city, Kentucky</td>\n",
       "      <td>1600000US2128918</td>\n",
       "      <td>9437.749960</td>\n",
       "      <td>14.746507</td>\n",
       "      <td>TIGER 2020</td>\n",
       "    </tr>\n",
       "    <tr>\n",
       "      <th>1</th>\n",
       "      <td>Scottsville city, Kentucky</td>\n",
       "      <td>1600000US2169114</td>\n",
       "      <td>4033.776862</td>\n",
       "      <td>6.302786</td>\n",
       "      <td>TIGER 2020</td>\n",
       "    </tr>\n",
       "    <tr>\n",
       "      <th>2</th>\n",
       "      <td>Mount Juliet city, Tennessee</td>\n",
       "      <td>1600000US4750780</td>\n",
       "      <td>16041.182095</td>\n",
       "      <td>25.064386</td>\n",
       "      <td>TIGER 2020</td>\n",
       "    </tr>\n",
       "  </tbody>\n",
       "</table>\n",
       "</div>"
      ],
      "text/plain": [
       "                           NAME            GEO_ID  Square Acres  Square Miles      Source\n",
       "0       Franklin city, Kentucky  1600000US2128918   9437.749960     14.746507  TIGER 2020\n",
       "1    Scottsville city, Kentucky  1600000US2169114   4033.776862      6.302786  TIGER 2020\n",
       "2  Mount Juliet city, Tennessee  1600000US4750780  16041.182095     25.064386  TIGER 2020"
      ]
     },
     "execution_count": 120,
     "metadata": {},
     "output_type": "execute_result"
    }
   ],
   "source": [
    "#final check\n",
    "data.head(3)"
   ]
  },
  {
   "cell_type": "code",
   "execution_count": 121,
   "id": "04800344",
   "metadata": {},
   "outputs": [
    {
     "name": "stdout",
     "output_type": "stream",
     "text": [
      "<class 'geopandas.geodataframe.GeoDataFrame'>\n",
      "RangeIndex: 1322 entries, 0 to 1321\n",
      "Data columns (total 5 columns):\n",
      " #   Column        Non-Null Count  Dtype  \n",
      "---  ------        --------------  -----  \n",
      " 0   NAME          1322 non-null   object \n",
      " 1   GEO_ID        1322 non-null   object \n",
      " 2   Square Acres  1322 non-null   float64\n",
      " 3   Square Miles  1322 non-null   float64\n",
      " 4   Source        1322 non-null   object \n",
      "dtypes: float64(2), object(3)\n",
      "memory usage: 51.8+ KB\n"
     ]
    }
   ],
   "source": [
    "data.info()"
   ]
  },
  {
   "cell_type": "code",
   "execution_count": 122,
   "id": "6eb4f198",
   "metadata": {},
   "outputs": [
    {
     "name": "stderr",
     "output_type": "stream",
     "text": [
      "C:\\Users\\jmccall\\Anaconda3\\envs\\geospatial\\lib\\site-packages\\pandas\\core\\generic.py:2869: UserWarning: The spaces in these column names will not be changed. In pandas versions < 0.14, spaces were converted to underscores.\n",
      "  sql.to_sql(\n"
     ]
    }
   ],
   "source": [
    "#export to the SQLite database as only the JobsEQ annual data\n",
    "conn = sq.connect('../../Outputs/CensusBureau.db')\n",
    "data.to_sql('CensusBureau_TIGER_2020', conn, if_exists = 'replace', index = False)"
   ]
  },
  {
   "cell_type": "markdown",
   "id": "cb86694b",
   "metadata": {},
   "source": [
    "# 2010"
   ]
  },
  {
   "cell_type": "markdown",
   "id": "045b65e8",
   "metadata": {},
   "source": [
    "State 2010"
   ]
  },
  {
   "cell_type": "code",
   "execution_count": 123,
   "id": "472acabe",
   "metadata": {},
   "outputs": [
    {
     "name": "stdout",
     "output_type": "stream",
     "text": [
      "Your geographic file is ready.\n"
     ]
    }
   ],
   "source": [
    "url = 'https://www2.census.gov/geo/tiger/TIGER2010/STATE/2010/tl_2010_47_state10.zip'\n",
    "geo = gpd.read_file(url)\n",
    "print('Your geographic file is ready.')"
   ]
  },
  {
   "cell_type": "code",
   "execution_count": 124,
   "id": "33ddf484",
   "metadata": {},
   "outputs": [],
   "source": [
    "tn = geo\n",
    "tn = tn.drop(columns = ['REGION10', 'DIVISION10', 'STATEFP10', 'STATENS10', 'STUSPS10', 'LSAD10',\n",
    "                        'MTFCC10', 'FUNCSTAT10', 'AWATER10', 'INTPTLAT10', 'INTPTLON10'])\n",
    "tn = tn.rename(columns = {'GEOID10':'GEO_ID', 'NAME10':'NAME'})\n",
    "tn['GEO_ID'] = '0400000US' + tn['GEO_ID']"
   ]
  },
  {
   "cell_type": "markdown",
   "id": "29bcc2d6",
   "metadata": {},
   "source": [
    "COUNTIES 2010"
   ]
  },
  {
   "cell_type": "code",
   "execution_count": 125,
   "id": "efaf83db",
   "metadata": {},
   "outputs": [
    {
     "name": "stdout",
     "output_type": "stream",
     "text": [
      "Your geographic file is ready.\n"
     ]
    }
   ],
   "source": [
    "url = 'https://www2.census.gov/geo/tiger/TIGER2010/COUNTY/2010/tl_2010_47_county10.zip'\n",
    "geo = gpd.read_file(url)\n",
    "print('Your geographic file is ready.')"
   ]
  },
  {
   "cell_type": "code",
   "execution_count": 126,
   "id": "07858110",
   "metadata": {},
   "outputs": [],
   "source": [
    "tncounties = geo.loc[geo['GEOID10'].isin(GNRCFULLFIPS)]\n",
    "tncounties = tncounties.drop(columns = ['STATEFP10', 'COUNTYFP10', 'COUNTYNS10', 'NAME10', 'LSAD10', 'CLASSFP10',\n",
    "                                        'MTFCC10', 'CSAFP10', 'CBSAFP10', 'METDIVFP10', 'FUNCSTAT10', 'AWATER10', 'INTPTLAT10', 'INTPTLON10'])\n",
    "tncounties = tncounties.rename(columns = {'GEOID10':'GEO_ID', 'NAMELSAD10':'NAME'})\n",
    "tncounties['NAME'] = tncounties['NAME'] + ', Tennessee'\n",
    "tncounties['GEO_ID'] = '0500000US' + tncounties['GEO_ID']"
   ]
  },
  {
   "cell_type": "code",
   "execution_count": 127,
   "id": "668762ee",
   "metadata": {},
   "outputs": [
    {
     "name": "stdout",
     "output_type": "stream",
     "text": [
      "Your geographic file is ready.\n"
     ]
    }
   ],
   "source": [
    "url = 'https://www2.census.gov/geo/tiger/TIGER2010/COUNTY/2010/tl_2010_21_county10.zip'\n",
    "geo = gpd.read_file(url)\n",
    "print('Your geographic file is ready.')"
   ]
  },
  {
   "cell_type": "code",
   "execution_count": 128,
   "id": "06f50441",
   "metadata": {},
   "outputs": [],
   "source": [
    "kycounties = geo.loc[geo['GEOID10'].isin(KYFULLFIPS)]\n",
    "kycounties = kycounties.drop(columns = ['STATEFP10', 'COUNTYFP10', 'COUNTYNS10', 'NAME10', 'LSAD10', 'CLASSFP10',\n",
    "                                        'MTFCC10', 'CSAFP10', 'CBSAFP10', 'METDIVFP10', 'FUNCSTAT10', 'AWATER10', 'INTPTLAT10', 'INTPTLON10'])\n",
    "kycounties = kycounties.rename(columns = {'GEOID10':'GEO_ID', 'NAMELSAD10':'NAME'})\n",
    "kycounties['NAME'] = kycounties['NAME'] + ', Kentucky'\n",
    "kycounties['GEO_ID'] = '0500000US' + kycounties['GEO_ID']"
   ]
  },
  {
   "cell_type": "markdown",
   "id": "58dfb42d",
   "metadata": {},
   "source": [
    "PLACES 2010"
   ]
  },
  {
   "cell_type": "code",
   "execution_count": 129,
   "id": "468c1c92",
   "metadata": {},
   "outputs": [
    {
     "name": "stdout",
     "output_type": "stream",
     "text": [
      "Your geographic file is ready.\n"
     ]
    }
   ],
   "source": [
    "#Tennessee Places\n",
    "url= 'https://www2.census.gov/geo/tiger/TIGER2010/PLACE/2010/tl_2010_47_place10.zip'\n",
    "geo = gpd.read_file(url)\n",
    "print('Your geographic file is ready.')"
   ]
  },
  {
   "cell_type": "code",
   "execution_count": 130,
   "id": "20338ae9",
   "metadata": {},
   "outputs": [],
   "source": [
    "tnplaces = geo.loc[geo['GEOID10'].isin(tnplac)]\n",
    "tnplaces = tnplaces.drop(columns = ['STATEFP10', 'PLACEFP10', 'PLACENS10', 'NAME10', 'LSAD10', 'CLASSFP10',\n",
    "                          'PCICBSA10', 'PCINECTA10', 'MTFCC10', 'FUNCSTAT10', 'AWATER10', 'INTPTLAT10', 'INTPTLON10'])\n",
    "tnplaces = tnplaces.rename(columns = {'GEOID10':'GEO_ID', 'NAMELSAD10':'NAME'})\n",
    "tnplaces['NAME'] = tnplaces['NAME'] + ', Tennessee'\n",
    "tnplaces['GEO_ID'] = '1600000US' + tnplaces['GEO_ID']"
   ]
  },
  {
   "cell_type": "code",
   "execution_count": 131,
   "id": "03393db6",
   "metadata": {},
   "outputs": [
    {
     "name": "stdout",
     "output_type": "stream",
     "text": [
      "Your geographic file is ready.\n"
     ]
    }
   ],
   "source": [
    "#Kentucky Places\n",
    "url= 'https://www2.census.gov/geo/tiger/TIGER2010/PLACE/2010/tl_2010_21_place10.zip'\n",
    "geo = gpd.read_file(url)\n",
    "print('Your geographic file is ready.')"
   ]
  },
  {
   "cell_type": "code",
   "execution_count": 132,
   "id": "3d103871",
   "metadata": {},
   "outputs": [],
   "source": [
    "kyplaces = geo.loc[geo['GEOID10'].isin(kyplac)]\n",
    "kyplaces = kyplaces.drop(columns = ['STATEFP10', 'PLACEFP10', 'PLACENS10', 'NAME10', 'LSAD10', 'CLASSFP10',\n",
    "                          'PCICBSA10', 'PCINECTA10', 'MTFCC10', 'FUNCSTAT10', 'AWATER10', 'INTPTLAT10', 'INTPTLON10'])\n",
    "kyplaces = kyplaces.rename(columns = {'GEOID10':'GEO_ID', 'NAMELSAD10':'NAME'})\n",
    "kyplaces['NAME'] = kyplaces['NAME'] + ', Kentucky'\n",
    "kyplaces['GEO_ID'] = '1600000US' + kyplaces['GEO_ID']"
   ]
  },
  {
   "cell_type": "markdown",
   "id": "38a1b5c3",
   "metadata": {},
   "source": [
    "JOIN 2010"
   ]
  },
  {
   "cell_type": "code",
   "execution_count": 46,
   "id": "c9fa8dd7",
   "metadata": {},
   "outputs": [],
   "source": [
    "df = kyplaces.append(tnplaces)\n",
    "df = df.append(tncounties).reset_index(drop = True)\n",
    "df = df.append(kycounties).reset_index(drop = True)\n",
    "df = df.append(tn).reset_index(drop = True)"
   ]
  },
  {
   "cell_type": "code",
   "execution_count": 47,
   "id": "1a2b96ed",
   "metadata": {},
   "outputs": [],
   "source": [
    "geometries = df[['GEO_ID', 'geometry']].copy()\n",
    "df = df.drop(columns = 'geometry')"
   ]
  },
  {
   "cell_type": "code",
   "execution_count": 48,
   "id": "4323adc4",
   "metadata": {},
   "outputs": [],
   "source": [
    "df['ALAND10'] = df['ALAND10'].astype(float)\n",
    "df = df.set_index(['NAME', 'GEO_ID'])\n",
    "data = df.transpose()"
   ]
  },
  {
   "cell_type": "code",
   "execution_count": 49,
   "id": "13bbe03a",
   "metadata": {},
   "outputs": [],
   "source": [
    "GNRCCounties = [data[('Stewart County, Tennessee', '0500000US47161')],data[('Montgomery County, Tennessee', '0500000US47125')],\n",
    "                data[('Houston County, Tennessee', '0500000US47083')],data[('Humphreys County, Tennessee', '0500000US47085')],\n",
    "                data[('Dickson County, Tennessee', '0500000US47043')],data[('Cheatham County, Tennessee', '0500000US47021')],\n",
    "                data[('Robertson County, Tennessee', '0500000US47147')],data[('Sumner County, Tennessee', '0500000US47165')],\n",
    "                data[('Davidson County, Tennessee', '0500000US47037')],data[('Wilson County, Tennessee', '0500000US47189')],\n",
    "                data[('Trousdale County, Tennessee', '0500000US47169')],data[('Williamson County, Tennessee', '0500000US47187')],\n",
    "                data[('Rutherford County, Tennessee', '0500000US47149')]]\n",
    "data['GNRC'] = sum(GNRCCounties)\n",
    "GNRCCountiesAll = [data[('Stewart County, Tennessee', '0500000US47161')],data[('Montgomery County, Tennessee', '0500000US47125')],\n",
    "                   data[('Houston County, Tennessee', '0500000US47083')],data[('Humphreys County, Tennessee', '0500000US47085')],\n",
    "                   data[('Dickson County, Tennessee', '0500000US47043')],data[('Cheatham County, Tennessee', '0500000US47021')],\n",
    "                   data[('Robertson County, Tennessee', '0500000US47147')],data[('Sumner County, Tennessee', '0500000US47165')],\n",
    "                   data[('Davidson County, Tennessee', '0500000US47037')],data[('Wilson County, Tennessee', '0500000US47189')],\n",
    "                   data[('Trousdale County, Tennessee', '0500000US47169')],data[('Williamson County, Tennessee', '0500000US47187')],\n",
    "                   data[('Rutherford County, Tennessee', '0500000US47149')],data[('Maury County, Tennessee', '0500000US47119')]]\n",
    "data['GNRC Region'] = sum(GNRCCountiesAll)\n",
    "MPOCounties = [data[('Robertson County, Tennessee', '0500000US47147')],data[('Sumner County, Tennessee', '0500000US47165')],\n",
    "               data[('Davidson County, Tennessee', '0500000US47037')],data[('Wilson County, Tennessee', '0500000US47189')],\n",
    "               data[('Williamson County, Tennessee', '0500000US47187')],data[('Rutherford County, Tennessee', '0500000US47149')],\n",
    "               data[('Maury County, Tennessee', '0500000US47119')]]\n",
    "data['MPO'] = sum(MPOCounties)\n",
    "RuthInc = [data[('Eagleville city, Tennessee', '1600000US4722360')],data[('La Vergne city, Tennessee', '1600000US4741200')],\n",
    "           data[('Murfreesboro city, Tennessee', '1600000US4751560')],data[('Smyrna town, Tennessee', '1600000US4769420')]]\n",
    "data[('Rutherford Incorporated', 'None')] = sum(RuthInc)\n",
    "data[('Rutherford Unincorporated', 'None')] = data[('Rutherford County, Tennessee', '0500000US47149')] - data[('Rutherford Incorporated', 'None')]\n",
    "WilsonInc = [data[('Lebanon city, Tennessee', '1600000US4741520')],data[('Mount Juliet city, Tennessee', '1600000US4750780')],\n",
    "             data[('Watertown city, Tennessee', '1600000US4778320')]]\n",
    "data[('Wilson Incorporated', 'None')] = sum(WilsonInc)\n",
    "data[('Wilson Unincorporated', 'None')] = data[('Wilson County, Tennessee', '0500000US47189')] - data[('Wilson Incorporated', 'None')]\n",
    "CheathInc = [data[('Ashland City town, Tennessee', '1600000US4702180')],data[('Kingston Springs town, Tennessee', '1600000US4739660')],\n",
    "             data[('Pegram town, Tennessee', '1600000US4757480')],data[('Pleasant View city, Tennessee', '1600000US4759560')]]\n",
    "data[('Cheatham Incorporated', 'None')] = sum(CheathInc)\n",
    "data[('Cheatham Unincorporated', 'None')] = data[('Cheatham County, Tennessee', '0500000US47021')] - data[('Cheatham Incorporated', 'None')]\n",
    "DicksInc = [data[('Burns town, Tennessee', '1600000US4709880')],data[('Charlotte town, Tennessee', '1600000US4713080')],\n",
    "            data[('Dickson city, Tennessee', '1600000US4720620')],data[('Slayden town, Tennessee', '1600000US4769080')],\n",
    "            data[('Vanleer town, Tennessee', '1600000US4776860')],data[('White Bluff town, Tennessee', '1600000US4779980')]]\n",
    "data[('Dickson Incorporated', 'None')] = sum(DicksInc)\n",
    "data[('Dickson Unincorporated', 'None')] = data[('Dickson County, Tennessee', '0500000US47043')] - data[('Dickson Incorporated', 'None')]\n",
    "HumphInc = [data[('McEwen city, Tennessee', '1600000US4744840')],data[('New Johnsonville city, Tennessee', '1600000US4752820')],\n",
    "            data[('Waverly city, Tennessee', '1600000US4778560')]]\n",
    "data[('Humphreys Incorporated', 'None')] = sum(HumphInc)\n",
    "data[('Humphreys Unincorporated', 'None')] = data[('Humphreys County, Tennessee', '0500000US47085')] - data[('Humphreys Incorporated', 'None')]\n",
    "data[('Montgomery Incorporated', 'None')] = data[('Clarksville city, Tennessee', '1600000US4715160')]\n",
    "data[('Montgomery Unincorporated', 'None')] = data[('Montgomery County, Tennessee', '0500000US47125')] - data[('Montgomery Incorporated', 'None')]"
   ]
  },
  {
   "cell_type": "code",
   "execution_count": 50,
   "id": "76898236",
   "metadata": {},
   "outputs": [],
   "source": [
    "data = data.transpose().reset_index()\n",
    "data['Square Acres'] = data['ALAND10']*0.000247105\n",
    "data['Square Miles'] = data['ALAND10']*0.00000038610215855\n",
    "data = data.drop(columns = 'ALAND10')"
   ]
  },
  {
   "cell_type": "code",
   "execution_count": 51,
   "id": "6c451525",
   "metadata": {},
   "outputs": [],
   "source": [
    "wgeos = data.merge(geometries, on = 'GEO_ID')"
   ]
  },
  {
   "cell_type": "code",
   "execution_count": 53,
   "id": "26ab97e6",
   "metadata": {},
   "outputs": [],
   "source": [
    "wgeos['Source'] = 'TIGER 2010'"
   ]
  },
  {
   "cell_type": "code",
   "execution_count": 54,
   "id": "2a23ce64",
   "metadata": {},
   "outputs": [
    {
     "data": {
      "text/html": [
       "<div>\n",
       "<style scoped>\n",
       "    .dataframe tbody tr th:only-of-type {\n",
       "        vertical-align: middle;\n",
       "    }\n",
       "\n",
       "    .dataframe tbody tr th {\n",
       "        vertical-align: top;\n",
       "    }\n",
       "\n",
       "    .dataframe thead th {\n",
       "        text-align: right;\n",
       "    }\n",
       "</style>\n",
       "<table border=\"1\" class=\"dataframe\">\n",
       "  <thead>\n",
       "    <tr style=\"text-align: right;\">\n",
       "      <th></th>\n",
       "      <th>NAME</th>\n",
       "      <th>GEO_ID</th>\n",
       "      <th>Square Acres</th>\n",
       "      <th>Square Miles</th>\n",
       "      <th>geometry</th>\n",
       "      <th>Source</th>\n",
       "    </tr>\n",
       "  </thead>\n",
       "  <tbody>\n",
       "    <tr>\n",
       "      <th>0</th>\n",
       "      <td>Scottsville city, Kentucky</td>\n",
       "      <td>1600000US2169114</td>\n",
       "      <td>3642.994142</td>\n",
       "      <td>5.692187</td>\n",
       "      <td>POLYGON ((-86.22101 36.75545, -86.21887 36.756...</td>\n",
       "      <td>TIGER 2010</td>\n",
       "    </tr>\n",
       "    <tr>\n",
       "      <th>1</th>\n",
       "      <td>Franklin city, Kentucky</td>\n",
       "      <td>1600000US2128918</td>\n",
       "      <td>7081.371012</td>\n",
       "      <td>11.064659</td>\n",
       "      <td>MULTIPOLYGON (((-86.57565 36.75806, -86.57542 ...</td>\n",
       "      <td>TIGER 2010</td>\n",
       "    </tr>\n",
       "    <tr>\n",
       "      <th>2</th>\n",
       "      <td>Pleasant View city, Tennessee</td>\n",
       "      <td>1600000US4759560</td>\n",
       "      <td>8013.770085</td>\n",
       "      <td>12.521535</td>\n",
       "      <td>POLYGON ((-87.10046 36.40257, -87.10045 36.402...</td>\n",
       "      <td>TIGER 2010</td>\n",
       "    </tr>\n",
       "    <tr>\n",
       "      <th>3</th>\n",
       "      <td>Pegram town, Tennessee</td>\n",
       "      <td>1600000US4757480</td>\n",
       "      <td>4940.429570</td>\n",
       "      <td>7.719433</td>\n",
       "      <td>POLYGON ((-87.03526 36.08332, -87.03533 36.082...</td>\n",
       "      <td>TIGER 2010</td>\n",
       "    </tr>\n",
       "    <tr>\n",
       "      <th>4</th>\n",
       "      <td>Kingston Springs town, Tennessee</td>\n",
       "      <td>1600000US4739660</td>\n",
       "      <td>6347.883063</td>\n",
       "      <td>9.918583</td>\n",
       "      <td>POLYGON ((-87.10508 36.10402, -87.10465 36.103...</td>\n",
       "      <td>TIGER 2010</td>\n",
       "    </tr>\n",
       "  </tbody>\n",
       "</table>\n",
       "</div>"
      ],
      "text/plain": [
       "                               NAME            GEO_ID  Square Acres  Square Miles                                           geometry      Source\n",
       "0        Scottsville city, Kentucky  1600000US2169114   3642.994142      5.692187  POLYGON ((-86.22101 36.75545, -86.21887 36.756...  TIGER 2010\n",
       "1           Franklin city, Kentucky  1600000US2128918   7081.371012     11.064659  MULTIPOLYGON (((-86.57565 36.75806, -86.57542 ...  TIGER 2010\n",
       "2     Pleasant View city, Tennessee  1600000US4759560   8013.770085     12.521535  POLYGON ((-87.10046 36.40257, -87.10045 36.402...  TIGER 2010\n",
       "3            Pegram town, Tennessee  1600000US4757480   4940.429570      7.719433  POLYGON ((-87.03526 36.08332, -87.03533 36.082...  TIGER 2010\n",
       "4  Kingston Springs town, Tennessee  1600000US4739660   6347.883063      9.918583  POLYGON ((-87.10508 36.10402, -87.10465 36.103...  TIGER 2010"
      ]
     },
     "execution_count": 54,
     "metadata": {},
     "output_type": "execute_result"
    }
   ],
   "source": [
    "#final check\n",
    "wgeos.head()"
   ]
  },
  {
   "cell_type": "code",
   "execution_count": 55,
   "id": "a2604e2a",
   "metadata": {},
   "outputs": [
    {
     "name": "stdout",
     "output_type": "stream",
     "text": [
      "<class 'geopandas.geodataframe.GeoDataFrame'>\n",
      "Int64Index: 73 entries, 0 to 72\n",
      "Data columns (total 6 columns):\n",
      " #   Column        Non-Null Count  Dtype   \n",
      "---  ------        --------------  -----   \n",
      " 0   NAME          73 non-null     object  \n",
      " 1   GEO_ID        73 non-null     object  \n",
      " 2   Square Acres  73 non-null     float64 \n",
      " 3   Square Miles  73 non-null     float64 \n",
      " 4   geometry      73 non-null     geometry\n",
      " 5   Source        73 non-null     object  \n",
      "dtypes: float64(2), geometry(1), object(3)\n",
      "memory usage: 4.0+ KB\n"
     ]
    }
   ],
   "source": [
    "wgeos.info()"
   ]
  },
  {
   "cell_type": "code",
   "execution_count": 56,
   "id": "0f8da792",
   "metadata": {},
   "outputs": [],
   "source": [
    "wgeos.to_file('../../Outputs/SHAPEFILES/TIGERS2010.shp')"
   ]
  },
  {
   "cell_type": "code",
   "execution_count": 58,
   "id": "d0c7df72",
   "metadata": {},
   "outputs": [],
   "source": [
    "data['Source'] = 'TIGER 2010'"
   ]
  },
  {
   "cell_type": "code",
   "execution_count": 59,
   "id": "d9a7d04a",
   "metadata": {},
   "outputs": [
    {
     "data": {
      "text/html": [
       "<div>\n",
       "<style scoped>\n",
       "    .dataframe tbody tr th:only-of-type {\n",
       "        vertical-align: middle;\n",
       "    }\n",
       "\n",
       "    .dataframe tbody tr th {\n",
       "        vertical-align: top;\n",
       "    }\n",
       "\n",
       "    .dataframe thead th {\n",
       "        text-align: right;\n",
       "    }\n",
       "</style>\n",
       "<table border=\"1\" class=\"dataframe\">\n",
       "  <thead>\n",
       "    <tr style=\"text-align: right;\">\n",
       "      <th></th>\n",
       "      <th>NAME</th>\n",
       "      <th>GEO_ID</th>\n",
       "      <th>Square Acres</th>\n",
       "      <th>Square Miles</th>\n",
       "      <th>Source</th>\n",
       "    </tr>\n",
       "  </thead>\n",
       "  <tbody>\n",
       "    <tr>\n",
       "      <th>0</th>\n",
       "      <td>Scottsville city, Kentucky</td>\n",
       "      <td>1600000US2169114</td>\n",
       "      <td>3642.994142</td>\n",
       "      <td>5.692187</td>\n",
       "      <td>TIGER 2010</td>\n",
       "    </tr>\n",
       "    <tr>\n",
       "      <th>1</th>\n",
       "      <td>Franklin city, Kentucky</td>\n",
       "      <td>1600000US2128918</td>\n",
       "      <td>7081.371012</td>\n",
       "      <td>11.064659</td>\n",
       "      <td>TIGER 2010</td>\n",
       "    </tr>\n",
       "    <tr>\n",
       "      <th>2</th>\n",
       "      <td>Pleasant View city, Tennessee</td>\n",
       "      <td>1600000US4759560</td>\n",
       "      <td>8013.770085</td>\n",
       "      <td>12.521535</td>\n",
       "      <td>TIGER 2010</td>\n",
       "    </tr>\n",
       "    <tr>\n",
       "      <th>3</th>\n",
       "      <td>Pegram town, Tennessee</td>\n",
       "      <td>1600000US4757480</td>\n",
       "      <td>4940.429570</td>\n",
       "      <td>7.719433</td>\n",
       "      <td>TIGER 2010</td>\n",
       "    </tr>\n",
       "    <tr>\n",
       "      <th>4</th>\n",
       "      <td>Kingston Springs town, Tennessee</td>\n",
       "      <td>1600000US4739660</td>\n",
       "      <td>6347.883063</td>\n",
       "      <td>9.918583</td>\n",
       "      <td>TIGER 2010</td>\n",
       "    </tr>\n",
       "  </tbody>\n",
       "</table>\n",
       "</div>"
      ],
      "text/plain": [
       "                               NAME            GEO_ID  Square Acres  Square Miles      Source\n",
       "0        Scottsville city, Kentucky  1600000US2169114   3642.994142      5.692187  TIGER 2010\n",
       "1           Franklin city, Kentucky  1600000US2128918   7081.371012     11.064659  TIGER 2010\n",
       "2     Pleasant View city, Tennessee  1600000US4759560   8013.770085     12.521535  TIGER 2010\n",
       "3            Pegram town, Tennessee  1600000US4757480   4940.429570      7.719433  TIGER 2010\n",
       "4  Kingston Springs town, Tennessee  1600000US4739660   6347.883063      9.918583  TIGER 2010"
      ]
     },
     "execution_count": 59,
     "metadata": {},
     "output_type": "execute_result"
    }
   ],
   "source": [
    "#final check\n",
    "data.head()"
   ]
  },
  {
   "cell_type": "code",
   "execution_count": 60,
   "id": "40dee234",
   "metadata": {},
   "outputs": [
    {
     "name": "stdout",
     "output_type": "stream",
     "text": [
      "<class 'geopandas.geodataframe.GeoDataFrame'>\n",
      "RangeIndex: 88 entries, 0 to 87\n",
      "Data columns (total 5 columns):\n",
      " #   Column        Non-Null Count  Dtype  \n",
      "---  ------        --------------  -----  \n",
      " 0   NAME          88 non-null     object \n",
      " 1   GEO_ID        88 non-null     object \n",
      " 2   Square Acres  88 non-null     float64\n",
      " 3   Square Miles  88 non-null     float64\n",
      " 4   Source        88 non-null     object \n",
      "dtypes: float64(2), object(3)\n",
      "memory usage: 3.6+ KB\n"
     ]
    }
   ],
   "source": [
    "data.info()"
   ]
  },
  {
   "cell_type": "code",
   "execution_count": 62,
   "id": "a89587a3",
   "metadata": {},
   "outputs": [],
   "source": [
    "#export to the SQLite database as only the JobsEQ annual data\n",
    "conn = sq.connect('../../Outputs/CensusBureau.db')\n",
    "data.to_sql('CensusBureau_TIGER_2010', conn, if_exists = 'replace', index = False)"
   ]
  },
  {
   "cell_type": "markdown",
   "id": "fabf0d41",
   "metadata": {},
   "source": [
    "# 2000"
   ]
  },
  {
   "cell_type": "markdown",
   "id": "bdabb1ce",
   "metadata": {},
   "source": [
    "STATE 2000"
   ]
  },
  {
   "cell_type": "code",
   "execution_count": 63,
   "id": "95b931bb",
   "metadata": {},
   "outputs": [
    {
     "name": "stdout",
     "output_type": "stream",
     "text": [
      "Your geographic file is ready.\n"
     ]
    }
   ],
   "source": [
    "url = 'https://www2.census.gov/geo/tiger/TIGER2010/STATE/2000/tl_2010_47_state00.zip'\n",
    "geo = gpd.read_file(url)\n",
    "print('Your geographic file is ready.')"
   ]
  },
  {
   "cell_type": "code",
   "execution_count": 64,
   "id": "38d11e10",
   "metadata": {},
   "outputs": [],
   "source": [
    "tn = geo\n",
    "tn = tn.drop(columns = ['REGION00', 'DIVISION00', 'STUSPS00', 'LSAD00',\n",
    "                        'MTFCC00', 'UR00', 'FUNCSTAT00', 'AWATER00', 'INTPTLAT00', 'INTPTLON00'])\n",
    "tn = tn.rename(columns = {'STATEFP00':'GEO_ID', 'NAME00':'NAME'})\n",
    "tn['GEO_ID'] = '0400000US' + tn['GEO_ID']"
   ]
  },
  {
   "cell_type": "markdown",
   "id": "0505ad28",
   "metadata": {},
   "source": [
    "COUNTIES 2000"
   ]
  },
  {
   "cell_type": "code",
   "execution_count": 65,
   "id": "70a95ef9",
   "metadata": {},
   "outputs": [
    {
     "name": "stdout",
     "output_type": "stream",
     "text": [
      "Your geographic file is ready.\n"
     ]
    }
   ],
   "source": [
    "#Tennessee counties\n",
    "url = 'https://www2.census.gov/geo/tiger/TIGER2010/COUNTY/2000/tl_2010_47_county00.zip'\n",
    "geo = gpd.read_file(url)\n",
    "print('Your geographic file is ready.')"
   ]
  },
  {
   "cell_type": "code",
   "execution_count": 66,
   "id": "b3c55c3e",
   "metadata": {},
   "outputs": [],
   "source": [
    "tncounties = geo.loc[geo['CNTYIDFP00'].isin(GNRCFULLFIPS)]\n",
    "tncounties = tncounties.drop(columns = ['STATEFP00', 'COUNTYFP00', 'NAME00', 'LSAD00', 'CLASSFP00',\n",
    "                                        'MTFCC00', 'UR00', 'FUNCSTAT00', 'AWATER00', 'INTPTLAT00', 'INTPTLON00'])\n",
    "tncounties = tncounties.rename(columns = {'CNTYIDFP00':'GEO_ID', 'NAMELSAD00':'NAME'})\n",
    "tncounties['NAME'] = tncounties['NAME'] + ', Tennessee'\n",
    "tncounties['GEO_ID'] = '0500000US' + tncounties['GEO_ID']"
   ]
  },
  {
   "cell_type": "code",
   "execution_count": 67,
   "id": "02deee8f",
   "metadata": {},
   "outputs": [
    {
     "name": "stdout",
     "output_type": "stream",
     "text": [
      "Your geographic file is ready.\n"
     ]
    }
   ],
   "source": [
    "#Kentucky counties\n",
    "url = 'https://www2.census.gov/geo/tiger/TIGER2010/COUNTY/2000/tl_2010_21_county00.zip'\n",
    "geo = gpd.read_file(url)\n",
    "print('Your geographic file is ready.')"
   ]
  },
  {
   "cell_type": "code",
   "execution_count": 69,
   "id": "8d4434f4",
   "metadata": {},
   "outputs": [],
   "source": [
    "kycounties = geo.loc[geo['CNTYIDFP00'].isin(KYFULLFIPS)]\n",
    "kycounties = kycounties.drop(columns = ['STATEFP00', 'COUNTYFP00', 'NAME00', 'LSAD00', 'CLASSFP00',\n",
    "                                        'MTFCC00', 'UR00', 'FUNCSTAT00', 'AWATER00', 'INTPTLAT00', 'INTPTLON00'])\n",
    "kycounties = kycounties.rename(columns = {'CNTYIDFP00':'GEO_ID', 'NAMELSAD00':'NAME'})\n",
    "kycounties['NAME'] = kycounties['NAME'] + ', Kentucky'\n",
    "kycounties['GEO_ID'] = '0500000US' + kycounties['GEO_ID']"
   ]
  },
  {
   "cell_type": "markdown",
   "id": "9d367252",
   "metadata": {},
   "source": [
    "PLACES 2000"
   ]
  },
  {
   "cell_type": "code",
   "execution_count": 70,
   "id": "5f8534cf",
   "metadata": {},
   "outputs": [
    {
     "name": "stdout",
     "output_type": "stream",
     "text": [
      "Your geographic file is ready.\n"
     ]
    }
   ],
   "source": [
    "#Tennessee Places\n",
    "url= 'https://www2.census.gov/geo/tiger/TIGER2010/PLACE/2000/tl_2010_47_place00.zip'\n",
    "geo = gpd.read_file(url)\n",
    "print('Your geographic file is ready.')"
   ]
  },
  {
   "cell_type": "code",
   "execution_count": 71,
   "id": "b2875820",
   "metadata": {},
   "outputs": [],
   "source": [
    "tnplaces = geo.loc[geo['PLCIDFP00'].isin(tnplac)]\n",
    "tnplaces = tnplaces.drop(columns = ['STATEFP00', 'PLACEFP00', 'NAME00', 'LSAD00', 'CLASSFP00', 'CPI00',\n",
    "                          'PCICBSA00', 'PCINECTA00', 'MTFCC00', 'UR00', 'FUNCSTAT00', 'AWATER00', 'INTPTLAT00', 'INTPTLON00'])\n",
    "tnplaces = tnplaces.rename(columns = {'PLCIDFP00':'GEO_ID', 'NAMELSAD00':'NAME'})\n",
    "tnplaces['NAME'] = tnplaces['NAME'] + ', Tennessee'\n",
    "tnplaces['GEO_ID'] = '1600000US' + tnplaces['GEO_ID']"
   ]
  },
  {
   "cell_type": "code",
   "execution_count": 72,
   "id": "05d690a1",
   "metadata": {},
   "outputs": [
    {
     "name": "stdout",
     "output_type": "stream",
     "text": [
      "Your geographic file is ready.\n"
     ]
    }
   ],
   "source": [
    "#Kentucky Places\n",
    "url= 'https://www2.census.gov/geo/tiger/TIGER2010/PLACE/2000/tl_2010_21_place00.zip'\n",
    "geo = gpd.read_file(url)\n",
    "print('Your geographic file is ready.')"
   ]
  },
  {
   "cell_type": "code",
   "execution_count": 73,
   "id": "b9b65eb8",
   "metadata": {},
   "outputs": [],
   "source": [
    "kyplaces = geo.loc[geo['PLCIDFP00'].isin(kyplac)]\n",
    "kyplaces = kyplaces.drop(columns = ['STATEFP00', 'PLACEFP00', 'NAME00', 'LSAD00', 'CLASSFP00', 'CPI00',\n",
    "                          'PCICBSA00', 'PCINECTA00', 'MTFCC00', 'UR00', 'FUNCSTAT00', 'AWATER00', 'INTPTLAT00', 'INTPTLON00'])\n",
    "kyplaces = kyplaces.rename(columns = {'PLCIDFP00':'GEO_ID', 'NAMELSAD00':'NAME'})\n",
    "kyplaces['NAME'] = kyplaces['NAME'] + ', Kentucky'\n",
    "kyplaces['GEO_ID'] = '1600000US' + kyplaces['GEO_ID']"
   ]
  },
  {
   "cell_type": "markdown",
   "id": "a391a75a",
   "metadata": {},
   "source": [
    "JOIN 2000"
   ]
  },
  {
   "cell_type": "code",
   "execution_count": 74,
   "id": "f749655f",
   "metadata": {},
   "outputs": [],
   "source": [
    "df = kyplaces.append(tnplaces)\n",
    "df = df.append(tncounties).reset_index(drop = True)\n",
    "df = df.append(kycounties).reset_index(drop = True)\n",
    "df = df.append(tn).reset_index(drop = True)"
   ]
  },
  {
   "cell_type": "code",
   "execution_count": 75,
   "id": "c39ff5b4",
   "metadata": {},
   "outputs": [],
   "source": [
    "geometries = df[['GEO_ID', 'geometry']].copy()\n",
    "df = df.drop(columns = 'geometry')"
   ]
  },
  {
   "cell_type": "code",
   "execution_count": 76,
   "id": "c3c1da9d",
   "metadata": {},
   "outputs": [],
   "source": [
    "df['ALAND00'] = df['ALAND00'].astype(float)\n",
    "df = df.set_index(['NAME', 'GEO_ID'])\n",
    "data = df.transpose()"
   ]
  },
  {
   "cell_type": "code",
   "execution_count": 77,
   "id": "d79fcf90",
   "metadata": {},
   "outputs": [],
   "source": [
    "GNRCCounties = [data[('Stewart County, Tennessee', '0500000US47161')],data[('Montgomery County, Tennessee', '0500000US47125')],\n",
    "                data[('Houston County, Tennessee', '0500000US47083')],data[('Humphreys County, Tennessee', '0500000US47085')],\n",
    "                data[('Dickson County, Tennessee', '0500000US47043')],data[('Cheatham County, Tennessee', '0500000US47021')],\n",
    "                data[('Robertson County, Tennessee', '0500000US47147')],data[('Sumner County, Tennessee', '0500000US47165')],\n",
    "                data[('Davidson County, Tennessee', '0500000US47037')],data[('Wilson County, Tennessee', '0500000US47189')],\n",
    "                data[('Trousdale County, Tennessee', '0500000US47169')],data[('Williamson County, Tennessee', '0500000US47187')],\n",
    "                data[('Rutherford County, Tennessee', '0500000US47149')]]\n",
    "data['GNRC'] = sum(GNRCCounties)\n",
    "GNRCCountiesAll = [data[('Stewart County, Tennessee', '0500000US47161')],data[('Montgomery County, Tennessee', '0500000US47125')],\n",
    "                   data[('Houston County, Tennessee', '0500000US47083')],data[('Humphreys County, Tennessee', '0500000US47085')],\n",
    "                   data[('Dickson County, Tennessee', '0500000US47043')],data[('Cheatham County, Tennessee', '0500000US47021')],\n",
    "                   data[('Robertson County, Tennessee', '0500000US47147')],data[('Sumner County, Tennessee', '0500000US47165')],\n",
    "                   data[('Davidson County, Tennessee', '0500000US47037')],data[('Wilson County, Tennessee', '0500000US47189')],\n",
    "                   data[('Trousdale County, Tennessee', '0500000US47169')],data[('Williamson County, Tennessee', '0500000US47187')],\n",
    "                   data[('Rutherford County, Tennessee', '0500000US47149')],data[('Maury County, Tennessee', '0500000US47119')]]\n",
    "data['GNRC Region'] = sum(GNRCCountiesAll)\n",
    "MPOCounties = [data[('Robertson County, Tennessee', '0500000US47147')],data[('Sumner County, Tennessee', '0500000US47165')],\n",
    "               data[('Davidson County, Tennessee', '0500000US47037')],data[('Wilson County, Tennessee', '0500000US47189')],\n",
    "               data[('Williamson County, Tennessee', '0500000US47187')],data[('Rutherford County, Tennessee', '0500000US47149')],\n",
    "               data[('Maury County, Tennessee', '0500000US47119')]]\n",
    "data['MPO'] = sum(MPOCounties)\n",
    "RuthInc = [data[('Eagleville city, Tennessee', '1600000US4722360')],data[('La Vergne city, Tennessee', '1600000US4741200')],\n",
    "           data[('Murfreesboro city, Tennessee', '1600000US4751560')],data[('Smyrna town, Tennessee', '1600000US4769420')]]\n",
    "data[('Rutherford Incorporated', 'None')] = sum(RuthInc)\n",
    "data[('Rutherford Unincorporated', 'None')] = data[('Rutherford County, Tennessee', '0500000US47149')] - data[('Rutherford Incorporated', 'None')]\n",
    "WilsonInc = [data[('Lebanon city, Tennessee', '1600000US4741520')],data[('Mount Juliet city, Tennessee', '1600000US4750780')],\n",
    "             data[('Watertown city, Tennessee', '1600000US4778320')]]\n",
    "data[('Wilson Incorporated', 'None')] = sum(WilsonInc)\n",
    "data[('Wilson Unincorporated', 'None')] = data[('Wilson County, Tennessee', '0500000US47189')] - data[('Wilson Incorporated', 'None')]\n",
    "CheathInc = [data[('Ashland City town, Tennessee', '1600000US4702180')],data[('Kingston Springs town, Tennessee', '1600000US4739660')],\n",
    "             data[('Pegram town, Tennessee', '1600000US4757480')],data[('Pleasant View city, Tennessee', '1600000US4759560')]]\n",
    "data[('Cheatham Incorporated', 'None')] = sum(CheathInc)\n",
    "data[('Cheatham Unincorporated', 'None')] = data[('Cheatham County, Tennessee', '0500000US47021')] - data[('Cheatham Incorporated', 'None')]\n",
    "DicksInc = [data[('Burns town, Tennessee', '1600000US4709880')],data[('Charlotte town, Tennessee', '1600000US4713080')],\n",
    "            data[('Dickson city, Tennessee', '1600000US4720620')],data[('Slayden town, Tennessee', '1600000US4769080')],\n",
    "            data[('Vanleer town, Tennessee', '1600000US4776860')],data[('White Bluff town, Tennessee', '1600000US4779980')]]\n",
    "data[('Dickson Incorporated', 'None')] = sum(DicksInc)\n",
    "data[('Dickson Unincorporated', 'None')] = data[('Dickson County, Tennessee', '0500000US47043')] - data[('Dickson Incorporated', 'None')]\n",
    "HumphInc = [data[('McEwen city, Tennessee', '1600000US4744840')],data[('New Johnsonville city, Tennessee', '1600000US4752820')],\n",
    "            data[('Waverly city, Tennessee', '1600000US4778560')]]\n",
    "data[('Humphreys Incorporated', 'None')] = sum(HumphInc)\n",
    "data[('Humphreys Unincorporated', 'None')] = data[('Humphreys County, Tennessee', '0500000US47085')] - data[('Humphreys Incorporated', 'None')]\n",
    "data[('Montgomery Incorporated', 'None')] = data[('Clarksville city, Tennessee', '1600000US4715160')]\n",
    "data[('Montgomery Unincorporated', 'None')] = data[('Montgomery County, Tennessee', '0500000US47125')] - data[('Montgomery Incorporated', 'None')]"
   ]
  },
  {
   "cell_type": "code",
   "execution_count": 78,
   "id": "5f81b50b",
   "metadata": {},
   "outputs": [],
   "source": [
    "data = data.transpose().reset_index()\n",
    "data['Square Acres'] = data['ALAND00']*0.000247105\n",
    "data['Square Miles'] = data['ALAND00']*0.00000038610215855\n",
    "data = data.drop(columns = 'ALAND00')"
   ]
  },
  {
   "cell_type": "code",
   "execution_count": 79,
   "id": "1677986d",
   "metadata": {},
   "outputs": [],
   "source": [
    "wgeos = data.merge(geometries, on = 'GEO_ID')"
   ]
  },
  {
   "cell_type": "code",
   "execution_count": 80,
   "id": "c54ebf78",
   "metadata": {},
   "outputs": [],
   "source": [
    "wgeos['Source'] = 'TIGER 2000'"
   ]
  },
  {
   "cell_type": "code",
   "execution_count": 81,
   "id": "437542e7",
   "metadata": {},
   "outputs": [
    {
     "data": {
      "text/html": [
       "<div>\n",
       "<style scoped>\n",
       "    .dataframe tbody tr th:only-of-type {\n",
       "        vertical-align: middle;\n",
       "    }\n",
       "\n",
       "    .dataframe tbody tr th {\n",
       "        vertical-align: top;\n",
       "    }\n",
       "\n",
       "    .dataframe thead th {\n",
       "        text-align: right;\n",
       "    }\n",
       "</style>\n",
       "<table border=\"1\" class=\"dataframe\">\n",
       "  <thead>\n",
       "    <tr style=\"text-align: right;\">\n",
       "      <th></th>\n",
       "      <th>NAME</th>\n",
       "      <th>GEO_ID</th>\n",
       "      <th>Square Acres</th>\n",
       "      <th>Square Miles</th>\n",
       "      <th>geometry</th>\n",
       "      <th>Source</th>\n",
       "    </tr>\n",
       "  </thead>\n",
       "  <tbody>\n",
       "    <tr>\n",
       "      <th>0</th>\n",
       "      <td>Scottsville city, Kentucky</td>\n",
       "      <td>1600000US2169114</td>\n",
       "      <td>3641.877969</td>\n",
       "      <td>5.690443</td>\n",
       "      <td>POLYGON ((-86.22120 36.75570, -86.21925 36.756...</td>\n",
       "      <td>TIGER 2000</td>\n",
       "    </tr>\n",
       "    <tr>\n",
       "      <th>1</th>\n",
       "      <td>Franklin city, Kentucky</td>\n",
       "      <td>1600000US2128918</td>\n",
       "      <td>4740.294783</td>\n",
       "      <td>7.406722</td>\n",
       "      <td>POLYGON ((-86.58324 36.73837, -86.58276 36.738...</td>\n",
       "      <td>TIGER 2000</td>\n",
       "    </tr>\n",
       "    <tr>\n",
       "      <th>2</th>\n",
       "      <td>Pleasant View city, Tennessee</td>\n",
       "      <td>1600000US4759560</td>\n",
       "      <td>8013.770085</td>\n",
       "      <td>12.521535</td>\n",
       "      <td>POLYGON ((-87.10046 36.40257, -87.10045 36.402...</td>\n",
       "      <td>TIGER 2000</td>\n",
       "    </tr>\n",
       "  </tbody>\n",
       "</table>\n",
       "</div>"
      ],
      "text/plain": [
       "                            NAME            GEO_ID  Square Acres  Square Miles                                           geometry      Source\n",
       "0     Scottsville city, Kentucky  1600000US2169114   3641.877969      5.690443  POLYGON ((-86.22120 36.75570, -86.21925 36.756...  TIGER 2000\n",
       "1        Franklin city, Kentucky  1600000US2128918   4740.294783      7.406722  POLYGON ((-86.58324 36.73837, -86.58276 36.738...  TIGER 2000\n",
       "2  Pleasant View city, Tennessee  1600000US4759560   8013.770085     12.521535  POLYGON ((-87.10046 36.40257, -87.10045 36.402...  TIGER 2000"
      ]
     },
     "execution_count": 81,
     "metadata": {},
     "output_type": "execute_result"
    }
   ],
   "source": [
    "#final check\n",
    "wgeos.head(3)"
   ]
  },
  {
   "cell_type": "code",
   "execution_count": 82,
   "id": "98241da0",
   "metadata": {},
   "outputs": [
    {
     "name": "stdout",
     "output_type": "stream",
     "text": [
      "<class 'geopandas.geodataframe.GeoDataFrame'>\n",
      "Int64Index: 73 entries, 0 to 72\n",
      "Data columns (total 6 columns):\n",
      " #   Column        Non-Null Count  Dtype   \n",
      "---  ------        --------------  -----   \n",
      " 0   NAME          73 non-null     object  \n",
      " 1   GEO_ID        73 non-null     object  \n",
      " 2   Square Acres  73 non-null     float64 \n",
      " 3   Square Miles  73 non-null     float64 \n",
      " 4   geometry      73 non-null     geometry\n",
      " 5   Source        73 non-null     object  \n",
      "dtypes: float64(2), geometry(1), object(3)\n",
      "memory usage: 4.0+ KB\n"
     ]
    }
   ],
   "source": [
    "wgeos.info()"
   ]
  },
  {
   "cell_type": "code",
   "execution_count": 83,
   "id": "f9ad9187",
   "metadata": {},
   "outputs": [],
   "source": [
    "wgeos.to_file('../../Outputs/SHAPEFILES/TIGERS2000.shp')"
   ]
  },
  {
   "cell_type": "code",
   "execution_count": 84,
   "id": "56dc22fe",
   "metadata": {},
   "outputs": [],
   "source": [
    "data['Source'] = 'TIGER 2000'"
   ]
  },
  {
   "cell_type": "code",
   "execution_count": 85,
   "id": "c2b20d7d",
   "metadata": {},
   "outputs": [
    {
     "data": {
      "text/html": [
       "<div>\n",
       "<style scoped>\n",
       "    .dataframe tbody tr th:only-of-type {\n",
       "        vertical-align: middle;\n",
       "    }\n",
       "\n",
       "    .dataframe tbody tr th {\n",
       "        vertical-align: top;\n",
       "    }\n",
       "\n",
       "    .dataframe thead th {\n",
       "        text-align: right;\n",
       "    }\n",
       "</style>\n",
       "<table border=\"1\" class=\"dataframe\">\n",
       "  <thead>\n",
       "    <tr style=\"text-align: right;\">\n",
       "      <th></th>\n",
       "      <th>NAME</th>\n",
       "      <th>GEO_ID</th>\n",
       "      <th>Square Acres</th>\n",
       "      <th>Square Miles</th>\n",
       "      <th>Source</th>\n",
       "    </tr>\n",
       "  </thead>\n",
       "  <tbody>\n",
       "    <tr>\n",
       "      <th>0</th>\n",
       "      <td>Scottsville city, Kentucky</td>\n",
       "      <td>1600000US2169114</td>\n",
       "      <td>3641.877969</td>\n",
       "      <td>5.690443</td>\n",
       "      <td>TIGER 2000</td>\n",
       "    </tr>\n",
       "    <tr>\n",
       "      <th>1</th>\n",
       "      <td>Franklin city, Kentucky</td>\n",
       "      <td>1600000US2128918</td>\n",
       "      <td>4740.294783</td>\n",
       "      <td>7.406722</td>\n",
       "      <td>TIGER 2000</td>\n",
       "    </tr>\n",
       "    <tr>\n",
       "      <th>2</th>\n",
       "      <td>Pleasant View city, Tennessee</td>\n",
       "      <td>1600000US4759560</td>\n",
       "      <td>8013.770085</td>\n",
       "      <td>12.521535</td>\n",
       "      <td>TIGER 2000</td>\n",
       "    </tr>\n",
       "  </tbody>\n",
       "</table>\n",
       "</div>"
      ],
      "text/plain": [
       "                            NAME            GEO_ID  Square Acres  Square Miles      Source\n",
       "0     Scottsville city, Kentucky  1600000US2169114   3641.877969      5.690443  TIGER 2000\n",
       "1        Franklin city, Kentucky  1600000US2128918   4740.294783      7.406722  TIGER 2000\n",
       "2  Pleasant View city, Tennessee  1600000US4759560   8013.770085     12.521535  TIGER 2000"
      ]
     },
     "execution_count": 85,
     "metadata": {},
     "output_type": "execute_result"
    }
   ],
   "source": [
    "#final check\n",
    "data.head(3)"
   ]
  },
  {
   "cell_type": "code",
   "execution_count": 86,
   "id": "7c373dfd",
   "metadata": {},
   "outputs": [
    {
     "name": "stdout",
     "output_type": "stream",
     "text": [
      "<class 'geopandas.geodataframe.GeoDataFrame'>\n",
      "RangeIndex: 88 entries, 0 to 87\n",
      "Data columns (total 5 columns):\n",
      " #   Column        Non-Null Count  Dtype  \n",
      "---  ------        --------------  -----  \n",
      " 0   NAME          88 non-null     object \n",
      " 1   GEO_ID        88 non-null     object \n",
      " 2   Square Acres  88 non-null     float64\n",
      " 3   Square Miles  88 non-null     float64\n",
      " 4   Source        88 non-null     object \n",
      "dtypes: float64(2), object(3)\n",
      "memory usage: 3.6+ KB\n"
     ]
    }
   ],
   "source": [
    "data.info()"
   ]
  },
  {
   "cell_type": "code",
   "execution_count": 88,
   "id": "8243bc26",
   "metadata": {},
   "outputs": [],
   "source": [
    "#export to the SQLite database as only the JobsEQ annual data\n",
    "conn = sq.connect('../../Outputs/CensusBureau.db')\n",
    "data.to_sql('CensusBureau_TIGER_2000', conn, if_exists = 'replace', index = False)"
   ]
  },
  {
   "cell_type": "code",
   "execution_count": null,
   "id": "3461fa6e",
   "metadata": {},
   "outputs": [],
   "source": []
  }
 ],
 "metadata": {
  "kernelspec": {
   "display_name": "Python 3 (ipykernel)",
   "language": "python",
   "name": "python3"
  },
  "language_info": {
   "codemirror_mode": {
    "name": "ipython",
    "version": 3
   },
   "file_extension": ".py",
   "mimetype": "text/x-python",
   "name": "python",
   "nbconvert_exporter": "python",
   "pygments_lexer": "ipython3",
   "version": "3.8.5"
  }
 },
 "nbformat": 4,
 "nbformat_minor": 5
}
