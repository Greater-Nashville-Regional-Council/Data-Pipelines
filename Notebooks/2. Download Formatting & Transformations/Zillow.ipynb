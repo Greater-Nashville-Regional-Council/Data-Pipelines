{
 "cells": [
  {
   "cell_type": "markdown",
   "id": "5438ed6c",
   "metadata": {},
   "source": [
    "###### Imports and Settings"
   ]
  },
  {
   "cell_type": "code",
   "execution_count": 11,
   "id": "3b4d1146",
   "metadata": {},
   "outputs": [],
   "source": [
    "import pandas as pd\n",
    "import numpy as np\n",
    "import requests\n",
    "from functools import reduce\n",
    "import matplotlib.pyplot as plt\n",
    "pd.set_option('display.max_columns', None)\n",
    "pd.set_option('display.max_rows', None)\n",
    "pd.set_option('display.width', 150)\n",
    "from warnings import simplefilter\n",
    "simplefilter(action=\"ignore\", category=pd.errors.PerformanceWarning)\n",
    "import sys\n",
    "sys.path.append(\"../../../Functions and Dictionaries/\") # Adds higher directory to python modules path\n",
    "import geodict\n",
    "tofullcensus = geodict.tofullcensus\n",
    "geotogeoid = geodict.geotogeoid\n",
    "import sqlite3 as sq"
   ]
  },
  {
   "cell_type": "code",
   "execution_count": 12,
   "id": "d0074d40",
   "metadata": {},
   "outputs": [],
   "source": [
    "#functions\n",
    "def percent(x, y):\n",
    "        try:\n",
    "            return ((x/y)*100)\n",
    "        except ZeroDivisionError:\n",
    "            return 0\n",
    "def percentchange(x, y):\n",
    "    try:\n",
    "        return ((x - y)*100/y)\n",
    "    except ZeroDivisionError:\n",
    "        return 0\n",
    "def realchange(x, y):\n",
    "    return x-y\n",
    "#calculate real and percent change between all columns for all possible time frames\n",
    "def calculate_changes(df, columns, time_frames, years):\n",
    "    for column in columns:\n",
    "        for time_frame in time_frames:\n",
    "            start_year, end_year = time_frame.split('-')\n",
    "            df[f'{column} % Change', 'None', f'{time_frame}'] = percentchange(df[(column, int(end_year), 'None')], df[(column, int(start_year), 'None')])\n",
    "            df[f'{column} Change', 'None', f'{time_frame}'] = (df[(column, int(end_year), 'None')] - df[(column, int(start_year), 'None')])\n",
    "\n",
    "    return df\n",
    "#generate all possible time frames from a list of years\n",
    "def generate_time_frames(years):\n",
    "    time_frames = []\n",
    "    for i in range(len(years)-1):\n",
    "        for j in range(i+1, len(years)):\n",
    "            time_frames.append(f\"{years[i]}-{years[j]}\")\n",
    "    return time_frames"
   ]
  },
  {
   "cell_type": "markdown",
   "id": "a526d578",
   "metadata": {},
   "source": [
    "# This notebook outlines the download and formatting process for the Zillow Home Value and Rental indices for counties and places in the GNRC operating region.  \n",
    "\n",
    "Go to this page: https://www.zillow.com/research/data/  \n",
    "\n",
    "+ Under \"HOME VALUES\", select Data Type \"ZHVI All Homes (SFR, Condo/Co-op) Time Series, Smoothed, Seasonally Adjusted\" and download this for Metro & US, State, County, and City. \n",
    "+ Under \"RENTALS\", select Data Type \"ZORI (Smoothed, Seasonally Adjusted): All Homes Plus Multifamily Time Series\" and download this for Metro & US, County, and City (State is not currently available).   \n",
    "\n",
    "### Save these csvs as they come in the Data Downloads folder of Parent Data Gathering"
   ]
  },
  {
   "cell_type": "code",
   "execution_count": 13,
   "id": "16d59136",
   "metadata": {},
   "outputs": [],
   "source": [
    "hv_metrous = pd.read_csv('../../Data Downloads/Zillow_MetroUS_ZHVI.csv')\n",
    "hv_state = pd.read_csv('../../Data Downloads/Zillow_State_ZHVI.csv')\n",
    "hv_county = pd.read_csv('../../Data Downloads/Zillow_County_ZHVI.csv')\n",
    "hv_place = pd.read_csv('../../Data Downloads/Zillow_City_ZHVI.csv')\n",
    "rental_metrous = pd.read_csv('../../Data Downloads/Zillow_MetroUS_ZORI.csv')\n",
    "rental_county = pd.read_csv('../../Data Downloads/Zillow_County_ZORI.csv')\n",
    "rental_place = pd.read_csv('../../Data Downloads/Zillow_City_ZORI.csv')"
   ]
  },
  {
   "cell_type": "markdown",
   "id": "b8a84032",
   "metadata": {},
   "source": [
    "The county codes are not FIPS codes, unsure what they are but our region contains the following:\n",
    "Cheatham:2185, Davidson:2243, Dickson:1668 , Houston:1784, Humphreys:2728, Macon:623, Maury:632, Montgomery:2982, Robertson:2834, Rutherford:3016, Sumner:1407, Stewart:2044, Trousdale:2856, Williamson:3080, Wilson:1496, (KY) Allen:369 , (KY) Simpson:2028"
   ]
  },
  {
   "cell_type": "code",
   "execution_count": 14,
   "id": "cd99644f",
   "metadata": {},
   "outputs": [],
   "source": [
    "#filter down the metro and us files to include only the US and the Nashville and Clarksville MSAs\n",
    "metrous = [102001, 394902, 394471]\n",
    "hv_metrous = hv_metrous.loc[hv_metrous['RegionID'].isin(metrous)].reset_index(drop = True)\n",
    "rental_metrous = rental_metrous.loc[rental_metrous['RegionID'].isin(metrous)].reset_index(drop = True)\n",
    "#filter the one state file\n",
    "hv_state = hv_state.loc[hv_state['RegionID'] == 53].reset_index(drop = True)\n",
    "#filter the county files, Simpson Co KY is RegionID 2028, but doesn't have associated data until recent years so not including for now\n",
    "counties = [2185, 2243, 1668, 1784, 2728, 623, 632, 2982, 2834, 3016, 1407, 2044, 2856, 3080, 1496, 369]\n",
    "hv_county = hv_county.loc[hv_county['RegionID'].isin(counties)].reset_index(drop = True)\n",
    "rental_county = rental_county.loc[rental_county['RegionID'].isin(counties)].reset_index(drop = True)\n",
    "#filter the place files\n",
    "places = [41932, 30583, 10843, 30993, 49233, 45339, 11564, 32006, 46091, 25534, 42878, 39894, 19523, 6118, 26161, 54450, 7208, 27227, 29482, 41690]\n",
    "hv_place = hv_place.loc[hv_place['RegionID'].isin(places)].reset_index(drop = True)\n",
    "rental_place = rental_place.loc[rental_place['RegionID'].isin(places)].reset_index(drop = True)"
   ]
  },
  {
   "cell_type": "markdown",
   "id": "67c90ee8",
   "metadata": {},
   "source": [
    "## Fix up home value DFs"
   ]
  },
  {
   "cell_type": "code",
   "execution_count": 15,
   "id": "68722351",
   "metadata": {},
   "outputs": [],
   "source": [
    "hv_place = hv_place.drop(columns = ['RegionID', 'SizeRank', 'RegionType', 'StateName', 'State', 'Metro', 'CountyName']).set_index(('RegionName'))\n",
    "hv_county = hv_county.drop(columns = ['RegionID', 'SizeRank', 'RegionType', 'StateName', 'State', 'Metro', 'StateCodeFIPS', 'MunicipalCodeFIPS']).set_index(('RegionName'))\n",
    "hv_state = hv_state.drop(columns = ['RegionID', 'SizeRank', 'RegionType', 'StateName']).set_index(('RegionName'))\n",
    "hv_metrous = hv_metrous.drop(columns = ['RegionID', 'SizeRank', 'RegionType', 'StateName']).set_index(('RegionName'))"
   ]
  },
  {
   "cell_type": "code",
   "execution_count": 16,
   "id": "7daf529a",
   "metadata": {},
   "outputs": [
    {
     "name": "stderr",
     "output_type": "stream",
     "text": [
      "C:\\Users\\jmccall\\AppData\\Local\\Temp\\ipykernel_15016\\1944138516.py:5: FutureWarning: The frame.append method is deprecated and will be removed from pandas in a future version. Use pandas.concat instead.\n",
      "  emptyframe = emptyframe.append(df)\n",
      "C:\\Users\\jmccall\\AppData\\Local\\Temp\\ipykernel_15016\\1944138516.py:5: FutureWarning: The frame.append method is deprecated and will be removed from pandas in a future version. Use pandas.concat instead.\n",
      "  emptyframe = emptyframe.append(df)\n",
      "C:\\Users\\jmccall\\AppData\\Local\\Temp\\ipykernel_15016\\1944138516.py:5: FutureWarning: The frame.append method is deprecated and will be removed from pandas in a future version. Use pandas.concat instead.\n",
      "  emptyframe = emptyframe.append(df)\n",
      "C:\\Users\\jmccall\\AppData\\Local\\Temp\\ipykernel_15016\\1944138516.py:5: FutureWarning: The frame.append method is deprecated and will be removed from pandas in a future version. Use pandas.concat instead.\n",
      "  emptyframe = emptyframe.append(df)\n"
     ]
    }
   ],
   "source": [
    "#append the home value dataframes\n",
    "frame = [hv_place, hv_county, hv_state, hv_metrous]\n",
    "emptyframe = pd.DataFrame()\n",
    "for df in frame:\n",
    "    emptyframe = emptyframe.append(df)    \n",
    "hvs = emptyframe"
   ]
  },
  {
   "cell_type": "code",
   "execution_count": 17,
   "id": "d3176d40",
   "metadata": {},
   "outputs": [],
   "source": [
    "#transpose and rename the index to NAME\n",
    "data = hvs.transpose().reset_index().rename(columns = {'index':'NAME'})"
   ]
  },
  {
   "cell_type": "code",
   "execution_count": 18,
   "id": "6fefcb8c",
   "metadata": {},
   "outputs": [],
   "source": [
    "#adjust the geo names using str.split and index into the correct year\n",
    "year = data['NAME'].str.split(pat = \"-\", expand = True)\n",
    "data['Year'] = year[0]"
   ]
  },
  {
   "cell_type": "code",
   "execution_count": 19,
   "id": "f16c9db5",
   "metadata": {},
   "outputs": [],
   "source": [
    "#rename geos with module\n",
    "data = data.rename(columns = tofullcensus)"
   ]
  },
  {
   "cell_type": "code",
   "execution_count": 20,
   "id": "5d04b3a3",
   "metadata": {},
   "outputs": [
    {
     "name": "stderr",
     "output_type": "stream",
     "text": [
      "C:\\Users\\jmccall\\AppData\\Local\\Temp\\ipykernel_15016\\2975755765.py:2: FutureWarning: The default value of numeric_only in DataFrameGroupBy.mean is deprecated. In a future version, numeric_only will default to False. Either specify numeric_only or select only columns which should be valid for the function.\n",
      "  data = data.groupby(['Year']).mean()\n"
     ]
    }
   ],
   "source": [
    "#group by the average of the year, transpose, make the column a region name, then go from wide to long with .melt()\n",
    "data = data.groupby(['Year']).mean()\n",
    "data = data.transpose().reset_index()\n",
    "data = data.rename(columns = {'RegionName':'NAME'})\n",
    "data = data.set_index('NAME')\n",
    "data = data.melt(value_name = 'Home Value', ignore_index = False)\n",
    "data = data.reset_index()"
   ]
  },
  {
   "cell_type": "code",
   "execution_count": 21,
   "id": "d0522129",
   "metadata": {},
   "outputs": [],
   "source": [
    "#make sure year is formatted as an integer\n",
    "data['Year'] = data['Year'].astype(int)\n",
    "#create a list of years from the dataframe to pass through our \"generate time frames\" function to create a list of all possible time frames - need this here for later\n",
    "years = list(data['Year'].unique().astype(int))\n",
    "time_frames = generate_time_frames(years)"
   ]
  },
  {
   "cell_type": "code",
   "execution_count": 22,
   "id": "8c5800cd",
   "metadata": {},
   "outputs": [
    {
     "data": {
      "text/html": [
       "<div>\n",
       "<style scoped>\n",
       "    .dataframe tbody tr th:only-of-type {\n",
       "        vertical-align: middle;\n",
       "    }\n",
       "\n",
       "    .dataframe tbody tr th {\n",
       "        vertical-align: top;\n",
       "    }\n",
       "\n",
       "    .dataframe thead tr th {\n",
       "        text-align: left;\n",
       "    }\n",
       "\n",
       "    .dataframe thead tr:last-of-type th {\n",
       "        text-align: right;\n",
       "    }\n",
       "</style>\n",
       "<table border=\"1\" class=\"dataframe\">\n",
       "  <thead>\n",
       "    <tr>\n",
       "      <th></th>\n",
       "      <th colspan=\"23\" halign=\"left\">Home Value</th>\n",
       "    </tr>\n",
       "    <tr>\n",
       "      <th>Year</th>\n",
       "      <th>2000</th>\n",
       "      <th>2001</th>\n",
       "      <th>2002</th>\n",
       "      <th>2003</th>\n",
       "      <th>2004</th>\n",
       "      <th>2005</th>\n",
       "      <th>2006</th>\n",
       "      <th>2007</th>\n",
       "      <th>2008</th>\n",
       "      <th>2009</th>\n",
       "      <th>2010</th>\n",
       "      <th>2011</th>\n",
       "      <th>2012</th>\n",
       "      <th>2013</th>\n",
       "      <th>2014</th>\n",
       "      <th>2015</th>\n",
       "      <th>2016</th>\n",
       "      <th>2017</th>\n",
       "      <th>2018</th>\n",
       "      <th>2019</th>\n",
       "      <th>2020</th>\n",
       "      <th>2021</th>\n",
       "      <th>2022</th>\n",
       "    </tr>\n",
       "    <tr>\n",
       "      <th>NAME</th>\n",
       "      <th></th>\n",
       "      <th></th>\n",
       "      <th></th>\n",
       "      <th></th>\n",
       "      <th></th>\n",
       "      <th></th>\n",
       "      <th></th>\n",
       "      <th></th>\n",
       "      <th></th>\n",
       "      <th></th>\n",
       "      <th></th>\n",
       "      <th></th>\n",
       "      <th></th>\n",
       "      <th></th>\n",
       "      <th></th>\n",
       "      <th></th>\n",
       "      <th></th>\n",
       "      <th></th>\n",
       "      <th></th>\n",
       "      <th></th>\n",
       "      <th></th>\n",
       "      <th></th>\n",
       "      <th></th>\n",
       "    </tr>\n",
       "  </thead>\n",
       "  <tbody>\n",
       "    <tr>\n",
       "      <th>Allen County, Kentucky</th>\n",
       "      <td>64344.833333</td>\n",
       "      <td>66996.333333</td>\n",
       "      <td>68210.250000</td>\n",
       "      <td>69693.750000</td>\n",
       "      <td>72436.0</td>\n",
       "      <td>75754.666667</td>\n",
       "      <td>78024.750000</td>\n",
       "      <td>79704.833333</td>\n",
       "      <td>79834.000000</td>\n",
       "      <td>79884.333333</td>\n",
       "      <td>79829.5</td>\n",
       "      <td>79282.333333</td>\n",
       "      <td>82387.000000</td>\n",
       "      <td>82293.25</td>\n",
       "      <td>84224.250</td>\n",
       "      <td>87459.416667</td>\n",
       "      <td>90266.333333</td>\n",
       "      <td>95505.25</td>\n",
       "      <td>100920.400000</td>\n",
       "      <td>105370.583333</td>\n",
       "      <td>108601.583333</td>\n",
       "      <td>121114.583333</td>\n",
       "      <td>137373.444444</td>\n",
       "    </tr>\n",
       "    <tr>\n",
       "      <th>Ashland City town, Tennessee</th>\n",
       "      <td>105943.416667</td>\n",
       "      <td>111582.833333</td>\n",
       "      <td>115210.166667</td>\n",
       "      <td>118399.333333</td>\n",
       "      <td>120450.5</td>\n",
       "      <td>125119.750000</td>\n",
       "      <td>131469.583333</td>\n",
       "      <td>139505.166667</td>\n",
       "      <td>142778.083333</td>\n",
       "      <td>139541.500000</td>\n",
       "      <td>135594.0</td>\n",
       "      <td>131671.250000</td>\n",
       "      <td>130886.166667</td>\n",
       "      <td>132809.25</td>\n",
       "      <td>136858.875</td>\n",
       "      <td>146802.666667</td>\n",
       "      <td>153263.083333</td>\n",
       "      <td>174611.00</td>\n",
       "      <td>185306.333333</td>\n",
       "      <td>197662.250000</td>\n",
       "      <td>207455.500000</td>\n",
       "      <td>246753.666667</td>\n",
       "      <td>286882.555556</td>\n",
       "    </tr>\n",
       "  </tbody>\n",
       "</table>\n",
       "</div>"
      ],
      "text/plain": [
       "                                 Home Value                                                                                                      \\\n",
       "Year                                   2000           2001           2002           2003      2004           2005           2006           2007   \n",
       "NAME                                                                                                                                              \n",
       "Allen County, Kentucky         64344.833333   66996.333333   68210.250000   69693.750000   72436.0   75754.666667   78024.750000   79704.833333   \n",
       "Ashland City town, Tennessee  105943.416667  111582.833333  115210.166667  118399.333333  120450.5  125119.750000  131469.583333  139505.166667   \n",
       "\n",
       "                                                                                                                                          \\\n",
       "Year                                   2008           2009      2010           2011           2012       2013        2014           2015   \n",
       "NAME                                                                                                                                       \n",
       "Allen County, Kentucky         79834.000000   79884.333333   79829.5   79282.333333   82387.000000   82293.25   84224.250   87459.416667   \n",
       "Ashland City town, Tennessee  142778.083333  139541.500000  135594.0  131671.250000  130886.166667  132809.25  136858.875  146802.666667   \n",
       "\n",
       "                                                                                                                                   \n",
       "Year                                   2016       2017           2018           2019           2020           2021           2022  \n",
       "NAME                                                                                                                               \n",
       "Allen County, Kentucky         90266.333333   95505.25  100920.400000  105370.583333  108601.583333  121114.583333  137373.444444  \n",
       "Ashland City town, Tennessee  153263.083333  174611.00  185306.333333  197662.250000  207455.500000  246753.666667  286882.555556  "
      ]
     },
     "execution_count": 22,
     "metadata": {},
     "output_type": "execute_result"
    }
   ],
   "source": [
    "#create a multilevel column header with year and placeholder for time frames\n",
    "#pivot the table and create a multiindex of year and column header\n",
    "cols = list(data.columns)\n",
    "cols.remove('NAME')\n",
    "cols.remove('Year')\n",
    "df_pivot = data.pivot_table(index = 'NAME', columns = ['Year'], values = cols)\n",
    "df_pivot.head(2)"
   ]
  },
  {
   "cell_type": "code",
   "execution_count": 23,
   "id": "51b5653c",
   "metadata": {},
   "outputs": [
    {
     "data": {
      "text/html": [
       "<div>\n",
       "<style scoped>\n",
       "    .dataframe tbody tr th:only-of-type {\n",
       "        vertical-align: middle;\n",
       "    }\n",
       "\n",
       "    .dataframe tbody tr th {\n",
       "        vertical-align: top;\n",
       "    }\n",
       "\n",
       "    .dataframe thead tr th {\n",
       "        text-align: left;\n",
       "    }\n",
       "\n",
       "    .dataframe thead tr:last-of-type th {\n",
       "        text-align: right;\n",
       "    }\n",
       "</style>\n",
       "<table border=\"1\" class=\"dataframe\">\n",
       "  <thead>\n",
       "    <tr>\n",
       "      <th></th>\n",
       "      <th colspan=\"23\" halign=\"left\">Home Value</th>\n",
       "    </tr>\n",
       "    <tr>\n",
       "      <th></th>\n",
       "      <th>2000</th>\n",
       "      <th>2001</th>\n",
       "      <th>2002</th>\n",
       "      <th>2003</th>\n",
       "      <th>2004</th>\n",
       "      <th>2005</th>\n",
       "      <th>2006</th>\n",
       "      <th>2007</th>\n",
       "      <th>2008</th>\n",
       "      <th>2009</th>\n",
       "      <th>2010</th>\n",
       "      <th>2011</th>\n",
       "      <th>2012</th>\n",
       "      <th>2013</th>\n",
       "      <th>2014</th>\n",
       "      <th>2015</th>\n",
       "      <th>2016</th>\n",
       "      <th>2017</th>\n",
       "      <th>2018</th>\n",
       "      <th>2019</th>\n",
       "      <th>2020</th>\n",
       "      <th>2021</th>\n",
       "      <th>2022</th>\n",
       "    </tr>\n",
       "    <tr>\n",
       "      <th></th>\n",
       "      <th>None</th>\n",
       "      <th>None</th>\n",
       "      <th>None</th>\n",
       "      <th>None</th>\n",
       "      <th>None</th>\n",
       "      <th>None</th>\n",
       "      <th>None</th>\n",
       "      <th>None</th>\n",
       "      <th>None</th>\n",
       "      <th>None</th>\n",
       "      <th>None</th>\n",
       "      <th>None</th>\n",
       "      <th>None</th>\n",
       "      <th>None</th>\n",
       "      <th>None</th>\n",
       "      <th>None</th>\n",
       "      <th>None</th>\n",
       "      <th>None</th>\n",
       "      <th>None</th>\n",
       "      <th>None</th>\n",
       "      <th>None</th>\n",
       "      <th>None</th>\n",
       "      <th>None</th>\n",
       "    </tr>\n",
       "    <tr>\n",
       "      <th>NAME</th>\n",
       "      <th></th>\n",
       "      <th></th>\n",
       "      <th></th>\n",
       "      <th></th>\n",
       "      <th></th>\n",
       "      <th></th>\n",
       "      <th></th>\n",
       "      <th></th>\n",
       "      <th></th>\n",
       "      <th></th>\n",
       "      <th></th>\n",
       "      <th></th>\n",
       "      <th></th>\n",
       "      <th></th>\n",
       "      <th></th>\n",
       "      <th></th>\n",
       "      <th></th>\n",
       "      <th></th>\n",
       "      <th></th>\n",
       "      <th></th>\n",
       "      <th></th>\n",
       "      <th></th>\n",
       "      <th></th>\n",
       "    </tr>\n",
       "  </thead>\n",
       "  <tbody>\n",
       "    <tr>\n",
       "      <th>Allen County, Kentucky</th>\n",
       "      <td>64344.833333</td>\n",
       "      <td>66996.333333</td>\n",
       "      <td>68210.250000</td>\n",
       "      <td>69693.750000</td>\n",
       "      <td>72436.000000</td>\n",
       "      <td>75754.666667</td>\n",
       "      <td>78024.750000</td>\n",
       "      <td>79704.833333</td>\n",
       "      <td>79834.000000</td>\n",
       "      <td>79884.333333</td>\n",
       "      <td>79829.500000</td>\n",
       "      <td>79282.333333</td>\n",
       "      <td>82387.000000</td>\n",
       "      <td>82293.25</td>\n",
       "      <td>84224.250000</td>\n",
       "      <td>87459.416667</td>\n",
       "      <td>90266.333333</td>\n",
       "      <td>95505.250000</td>\n",
       "      <td>100920.400000</td>\n",
       "      <td>105370.583333</td>\n",
       "      <td>108601.583333</td>\n",
       "      <td>121114.583333</td>\n",
       "      <td>1.373734e+05</td>\n",
       "    </tr>\n",
       "    <tr>\n",
       "      <th>Ashland City town, Tennessee</th>\n",
       "      <td>105943.416667</td>\n",
       "      <td>111582.833333</td>\n",
       "      <td>115210.166667</td>\n",
       "      <td>118399.333333</td>\n",
       "      <td>120450.500000</td>\n",
       "      <td>125119.750000</td>\n",
       "      <td>131469.583333</td>\n",
       "      <td>139505.166667</td>\n",
       "      <td>142778.083333</td>\n",
       "      <td>139541.500000</td>\n",
       "      <td>135594.000000</td>\n",
       "      <td>131671.250000</td>\n",
       "      <td>130886.166667</td>\n",
       "      <td>132809.25</td>\n",
       "      <td>136858.875000</td>\n",
       "      <td>146802.666667</td>\n",
       "      <td>153263.083333</td>\n",
       "      <td>174611.000000</td>\n",
       "      <td>185306.333333</td>\n",
       "      <td>197662.250000</td>\n",
       "      <td>207455.500000</td>\n",
       "      <td>246753.666667</td>\n",
       "      <td>2.868826e+05</td>\n",
       "    </tr>\n",
       "    <tr>\n",
       "      <th>Brentwood city, Tennessee</th>\n",
       "      <td>373468.000000</td>\n",
       "      <td>380417.000000</td>\n",
       "      <td>386755.250000</td>\n",
       "      <td>399329.166667</td>\n",
       "      <td>420839.416667</td>\n",
       "      <td>457219.250000</td>\n",
       "      <td>516847.166667</td>\n",
       "      <td>563596.500000</td>\n",
       "      <td>551012.416667</td>\n",
       "      <td>520483.500000</td>\n",
       "      <td>501719.166667</td>\n",
       "      <td>505243.500000</td>\n",
       "      <td>512709.833333</td>\n",
       "      <td>540934.50</td>\n",
       "      <td>572712.166667</td>\n",
       "      <td>602154.333333</td>\n",
       "      <td>634895.750000</td>\n",
       "      <td>663715.583333</td>\n",
       "      <td>688379.166667</td>\n",
       "      <td>713939.833333</td>\n",
       "      <td>746921.083333</td>\n",
       "      <td>929786.454545</td>\n",
       "      <td>1.220937e+06</td>\n",
       "    </tr>\n",
       "  </tbody>\n",
       "</table>\n",
       "</div>"
      ],
      "text/plain": [
       "                                 Home Value                                                                                            \\\n",
       "                                       2000           2001           2002           2003           2004           2005           2006   \n",
       "                                       None           None           None           None           None           None           None   \n",
       "NAME                                                                                                                                    \n",
       "Allen County, Kentucky         64344.833333   66996.333333   68210.250000   69693.750000   72436.000000   75754.666667   78024.750000   \n",
       "Ashland City town, Tennessee  105943.416667  111582.833333  115210.166667  118399.333333  120450.500000  125119.750000  131469.583333   \n",
       "Brentwood city, Tennessee     373468.000000  380417.000000  386755.250000  399329.166667  420839.416667  457219.250000  516847.166667   \n",
       "\n",
       "                                                                                                                                                  \\\n",
       "                                       2007           2008           2009           2010           2011           2012       2013           2014   \n",
       "                                       None           None           None           None           None           None       None           None   \n",
       "NAME                                                                                                                                               \n",
       "Allen County, Kentucky         79704.833333   79834.000000   79884.333333   79829.500000   79282.333333   82387.000000   82293.25   84224.250000   \n",
       "Ashland City town, Tennessee  139505.166667  142778.083333  139541.500000  135594.000000  131671.250000  130886.166667  132809.25  136858.875000   \n",
       "Brentwood city, Tennessee     563596.500000  551012.416667  520483.500000  501719.166667  505243.500000  512709.833333  540934.50  572712.166667   \n",
       "\n",
       "                                                                                                                                                     \n",
       "                                       2015           2016           2017           2018           2019           2020           2021          2022  \n",
       "                                       None           None           None           None           None           None           None          None  \n",
       "NAME                                                                                                                                                 \n",
       "Allen County, Kentucky         87459.416667   90266.333333   95505.250000  100920.400000  105370.583333  108601.583333  121114.583333  1.373734e+05  \n",
       "Ashland City town, Tennessee  146802.666667  153263.083333  174611.000000  185306.333333  197662.250000  207455.500000  246753.666667  2.868826e+05  \n",
       "Brentwood city, Tennessee     602154.333333  634895.750000  663715.583333  688379.166667  713939.833333  746921.083333  929786.454545  1.220937e+06  "
      ]
     },
     "execution_count": 23,
     "metadata": {},
     "output_type": "execute_result"
    }
   ],
   "source": [
    "#add a level to the multiindex to accomodate the time period metrics\n",
    "df_pivot.columns = pd.MultiIndex.from_tuples([(col[0], col[1], 'None') for col in df_pivot.columns])\n",
    "df_pivot.head(3)"
   ]
  },
  {
   "cell_type": "code",
   "execution_count": 24,
   "id": "2d35ee32",
   "metadata": {},
   "outputs": [
    {
     "data": {
      "text/plain": [
       "['Home Value']"
      ]
     },
     "execution_count": 24,
     "metadata": {},
     "output_type": "execute_result"
    }
   ],
   "source": [
    "#get a list of the varaibles to loop through by indexing into the first level only of the column headers\n",
    "first_level = df_pivot.columns.get_level_values(0).unique().tolist()\n",
    "first_level"
   ]
  },
  {
   "cell_type": "code",
   "execution_count": 25,
   "id": "188ca7dd",
   "metadata": {},
   "outputs": [],
   "source": [
    "#pass the dataframe, the list of variables, time frames, and years through the \"calculate change\" function\n",
    "data = calculate_changes(df_pivot, first_level, time_frames = time_frames, years = years)"
   ]
  },
  {
   "cell_type": "code",
   "execution_count": 26,
   "id": "5700e509",
   "metadata": {},
   "outputs": [],
   "source": [
    "data = data.stack([1, 1])\n",
    "data = data.reset_index(drop = False)\n",
    "data = data.rename(columns = {'level_1':'Year', 'level_2':'Time Frame'})"
   ]
  },
  {
   "cell_type": "code",
   "execution_count": 27,
   "id": "1bd64248",
   "metadata": {},
   "outputs": [],
   "source": [
    "data['GEO_ID'] = data['NAME'].map(geotogeoid)\n",
    "data['Source'] = 'Zillow'"
   ]
  },
  {
   "cell_type": "code",
   "execution_count": 28,
   "id": "8ab104e7",
   "metadata": {},
   "outputs": [
    {
     "data": {
      "text/html": [
       "<div>\n",
       "<style scoped>\n",
       "    .dataframe tbody tr th:only-of-type {\n",
       "        vertical-align: middle;\n",
       "    }\n",
       "\n",
       "    .dataframe tbody tr th {\n",
       "        vertical-align: top;\n",
       "    }\n",
       "\n",
       "    .dataframe thead th {\n",
       "        text-align: right;\n",
       "    }\n",
       "</style>\n",
       "<table border=\"1\" class=\"dataframe\">\n",
       "  <thead>\n",
       "    <tr style=\"text-align: right;\">\n",
       "      <th></th>\n",
       "      <th>NAME</th>\n",
       "      <th>Year</th>\n",
       "      <th>Time Frame</th>\n",
       "      <th>Home Value</th>\n",
       "      <th>Home Value % Change</th>\n",
       "      <th>Home Value Change</th>\n",
       "      <th>GEO_ID</th>\n",
       "      <th>Source</th>\n",
       "    </tr>\n",
       "  </thead>\n",
       "  <tbody>\n",
       "    <tr>\n",
       "      <th>0</th>\n",
       "      <td>Allen County, Kentucky</td>\n",
       "      <td>2000</td>\n",
       "      <td>None</td>\n",
       "      <td>64344.833333</td>\n",
       "      <td>NaN</td>\n",
       "      <td>NaN</td>\n",
       "      <td>0500000US21003</td>\n",
       "      <td>Zillow</td>\n",
       "    </tr>\n",
       "    <tr>\n",
       "      <th>1</th>\n",
       "      <td>Allen County, Kentucky</td>\n",
       "      <td>2001</td>\n",
       "      <td>None</td>\n",
       "      <td>66996.333333</td>\n",
       "      <td>NaN</td>\n",
       "      <td>NaN</td>\n",
       "      <td>0500000US21003</td>\n",
       "      <td>Zillow</td>\n",
       "    </tr>\n",
       "    <tr>\n",
       "      <th>2</th>\n",
       "      <td>Allen County, Kentucky</td>\n",
       "      <td>2002</td>\n",
       "      <td>None</td>\n",
       "      <td>68210.250000</td>\n",
       "      <td>NaN</td>\n",
       "      <td>NaN</td>\n",
       "      <td>0500000US21003</td>\n",
       "      <td>Zillow</td>\n",
       "    </tr>\n",
       "    <tr>\n",
       "      <th>3</th>\n",
       "      <td>Allen County, Kentucky</td>\n",
       "      <td>2003</td>\n",
       "      <td>None</td>\n",
       "      <td>69693.750000</td>\n",
       "      <td>NaN</td>\n",
       "      <td>NaN</td>\n",
       "      <td>0500000US21003</td>\n",
       "      <td>Zillow</td>\n",
       "    </tr>\n",
       "    <tr>\n",
       "      <th>4</th>\n",
       "      <td>Allen County, Kentucky</td>\n",
       "      <td>2004</td>\n",
       "      <td>None</td>\n",
       "      <td>72436.000000</td>\n",
       "      <td>NaN</td>\n",
       "      <td>NaN</td>\n",
       "      <td>0500000US21003</td>\n",
       "      <td>Zillow</td>\n",
       "    </tr>\n",
       "  </tbody>\n",
       "</table>\n",
       "</div>"
      ],
      "text/plain": [
       "                     NAME  Year Time Frame    Home Value  Home Value % Change  Home Value Change          GEO_ID  Source\n",
       "0  Allen County, Kentucky  2000       None  64344.833333                  NaN                NaN  0500000US21003  Zillow\n",
       "1  Allen County, Kentucky  2001       None  66996.333333                  NaN                NaN  0500000US21003  Zillow\n",
       "2  Allen County, Kentucky  2002       None  68210.250000                  NaN                NaN  0500000US21003  Zillow\n",
       "3  Allen County, Kentucky  2003       None  69693.750000                  NaN                NaN  0500000US21003  Zillow\n",
       "4  Allen County, Kentucky  2004       None  72436.000000                  NaN                NaN  0500000US21003  Zillow"
      ]
     },
     "execution_count": 28,
     "metadata": {},
     "output_type": "execute_result"
    }
   ],
   "source": [
    "#final check\n",
    "data.head()"
   ]
  },
  {
   "cell_type": "code",
   "execution_count": 29,
   "id": "0914e7cb",
   "metadata": {},
   "outputs": [
    {
     "data": {
      "text/plain": [
       "array(['Allen County, Kentucky', 'Ashland City town, Tennessee',\n",
       "       'Brentwood city, Tennessee', 'Cheatham County, Tennessee',\n",
       "       'Clarksville city, Tennessee', 'Columbia city, Tennessee',\n",
       "       'Davidson County, Tennessee', 'Dickson County, Tennessee',\n",
       "       'Fairview city, Tennessee', 'Franklin city, Kentucky',\n",
       "       'Gallatin city, Tennessee', 'Hendersonville city, Tennessee',\n",
       "       'Houston County, Tennessee', 'Humphreys County, Tennessee',\n",
       "       'La Vergne city, Tennessee', 'Lebanon city, Tennessee',\n",
       "       'Macon County, Tennessee', 'Maury County, Tennessee',\n",
       "       'Millersville city, Tennessee', 'Montgomery County, Tennessee',\n",
       "       'Mount Juliet city, Tennessee', 'Murfreesboro city, Tennessee',\n",
       "       'Nashville-Davidson metropolitan government (balance), Tennessee',\n",
       "       'Nolensville town, Tennessee', 'Robertson County, Tennessee',\n",
       "       'Rutherford County, Tennessee', 'Smyrna town, Tennessee',\n",
       "       'Spring Hill city, Tennessee', 'Springfield city, Tennessee',\n",
       "       'Stewart County, Tennessee', 'Sumner County, Tennessee',\n",
       "       'Tennessee', 'Thompsons Station', 'Trousdale County, Tennessee',\n",
       "       'United States', 'White House city, Tennessee',\n",
       "       'Williamson County, Tennessee', 'Wilson County, Tennessee'],\n",
       "      dtype=object)"
      ]
     },
     "execution_count": 29,
     "metadata": {},
     "output_type": "execute_result"
    }
   ],
   "source": [
    "data['NAME'].unique()"
   ]
  },
  {
   "cell_type": "code",
   "execution_count": 30,
   "id": "8445e11c",
   "metadata": {},
   "outputs": [
    {
     "name": "stdout",
     "output_type": "stream",
     "text": [
      "<class 'pandas.core.frame.DataFrame'>\n",
      "RangeIndex: 10488 entries, 0 to 10487\n",
      "Data columns (total 8 columns):\n",
      " #   Column               Non-Null Count  Dtype  \n",
      "---  ------               --------------  -----  \n",
      " 0   NAME                 10488 non-null  object \n",
      " 1   Year                 10488 non-null  object \n",
      " 2   Time Frame           10488 non-null  object \n",
      " 3   Home Value           874 non-null    float64\n",
      " 4   Home Value % Change  9614 non-null   float64\n",
      " 5   Home Value Change    9614 non-null   float64\n",
      " 6   GEO_ID               9936 non-null   object \n",
      " 7   Source               10488 non-null  object \n",
      "dtypes: float64(3), object(5)\n",
      "memory usage: 655.6+ KB\n"
     ]
    }
   ],
   "source": [
    "data.info()"
   ]
  },
  {
   "cell_type": "code",
   "execution_count": 31,
   "id": "906138af",
   "metadata": {},
   "outputs": [
    {
     "data": {
      "text/plain": [
       "10488"
      ]
     },
     "execution_count": 31,
     "metadata": {},
     "output_type": "execute_result"
    }
   ],
   "source": [
    "#export to the SQLite database as Zillow annual data\n",
    "conn = sq.connect('../../Outputs/Dem_Transpo_Housing_Collection.db')\n",
    "data.to_sql('Zillow_HomeValue_Annual_Change', conn, if_exists = 'replace', index = False)"
   ]
  },
  {
   "cell_type": "markdown",
   "id": "e899f135",
   "metadata": {},
   "source": [
    "## Fix Up Rental DFs"
   ]
  },
  {
   "cell_type": "code",
   "execution_count": 32,
   "id": "fb9ec1bd",
   "metadata": {},
   "outputs": [],
   "source": [
    "rental_place = rental_place.drop(columns = ['RegionID', 'SizeRank', 'RegionType', 'StateName', 'State', 'Metro', 'CountyName']).set_index(('RegionName'))\n",
    "rental_county= rental_county.drop(columns = ['RegionID', 'SizeRank', 'RegionType', 'StateName', 'State', 'Metro', 'StateCodeFIPS', 'MunicipalCodeFIPS']).set_index(('RegionName'))\n",
    "rental_metrous = rental_metrous.drop(columns = ['RegionID', 'SizeRank', 'RegionType', 'StateName']).set_index(('RegionName'))"
   ]
  },
  {
   "cell_type": "code",
   "execution_count": 33,
   "id": "3a18885d",
   "metadata": {},
   "outputs": [
    {
     "name": "stderr",
     "output_type": "stream",
     "text": [
      "C:\\Users\\jmccall\\AppData\\Local\\Temp\\ipykernel_15016\\3274071810.py:5: FutureWarning: The frame.append method is deprecated and will be removed from pandas in a future version. Use pandas.concat instead.\n",
      "  emptyframe = emptyframe.append(df)\n",
      "C:\\Users\\jmccall\\AppData\\Local\\Temp\\ipykernel_15016\\3274071810.py:5: FutureWarning: The frame.append method is deprecated and will be removed from pandas in a future version. Use pandas.concat instead.\n",
      "  emptyframe = emptyframe.append(df)\n",
      "C:\\Users\\jmccall\\AppData\\Local\\Temp\\ipykernel_15016\\3274071810.py:5: FutureWarning: The frame.append method is deprecated and will be removed from pandas in a future version. Use pandas.concat instead.\n",
      "  emptyframe = emptyframe.append(df)\n"
     ]
    }
   ],
   "source": [
    "#append the home value dataframes\n",
    "frame = [rental_place, rental_county, rental_metrous]\n",
    "emptyframe = pd.DataFrame()\n",
    "for df in frame:\n",
    "    emptyframe = emptyframe.append(df)  \n",
    "rental = emptyframe"
   ]
  },
  {
   "cell_type": "code",
   "execution_count": 34,
   "id": "5e3046b5",
   "metadata": {},
   "outputs": [],
   "source": [
    "#transpose and rename the index to NAME\n",
    "data = rental.transpose().reset_index().rename(columns = {'index':'NAME'})"
   ]
  },
  {
   "cell_type": "code",
   "execution_count": 35,
   "id": "5ce414f8",
   "metadata": {},
   "outputs": [],
   "source": [
    "#adjust the geo names using str.split and index into the correct year\n",
    "year = data['NAME'].str.split(pat = \"-\", expand = True)\n",
    "data['Year'] = year[0]"
   ]
  },
  {
   "cell_type": "code",
   "execution_count": 36,
   "id": "7f09d845",
   "metadata": {},
   "outputs": [],
   "source": [
    "#rename using module\n",
    "data = data.rename(columns = tofullcensus)"
   ]
  },
  {
   "cell_type": "code",
   "execution_count": 37,
   "id": "27ed119f",
   "metadata": {},
   "outputs": [
    {
     "name": "stderr",
     "output_type": "stream",
     "text": [
      "C:\\Users\\jmccall\\AppData\\Local\\Temp\\ipykernel_15016\\1759768606.py:2: FutureWarning: The default value of numeric_only in DataFrameGroupBy.mean is deprecated. In a future version, numeric_only will default to False. Either specify numeric_only or select only columns which should be valid for the function.\n",
      "  data = data.groupby(['Year']).mean()\n"
     ]
    }
   ],
   "source": [
    "#group by the average of the year, transpose, make the column a region name, then go from wide to long with .melt()\n",
    "data = data.groupby(['Year']).mean()\n",
    "data = data.transpose().reset_index()\n",
    "data = data.rename(columns = {'RegionName':'NAME'})\n",
    "data = data.set_index('NAME')\n",
    "data = data.melt(value_name = 'Average Rent', ignore_index = False)\n",
    "data = data.reset_index()"
   ]
  },
  {
   "cell_type": "code",
   "execution_count": 38,
   "id": "ae28ba43",
   "metadata": {},
   "outputs": [],
   "source": [
    "#make sure year is formatted as an integer\n",
    "data['Year'] = data['Year'].astype(int)\n",
    "#create a list of years from the dataframe to pass through our \"generate time frames\" function to create a list of all possible time frames - need this here for later\n",
    "years = list(data['Year'].unique().astype(int))\n",
    "time_frames = generate_time_frames(years)"
   ]
  },
  {
   "cell_type": "code",
   "execution_count": 39,
   "id": "512a528d",
   "metadata": {},
   "outputs": [
    {
     "data": {
      "text/html": [
       "<div>\n",
       "<style scoped>\n",
       "    .dataframe tbody tr th:only-of-type {\n",
       "        vertical-align: middle;\n",
       "    }\n",
       "\n",
       "    .dataframe tbody tr th {\n",
       "        vertical-align: top;\n",
       "    }\n",
       "\n",
       "    .dataframe thead tr th {\n",
       "        text-align: left;\n",
       "    }\n",
       "\n",
       "    .dataframe thead tr:last-of-type th {\n",
       "        text-align: right;\n",
       "    }\n",
       "</style>\n",
       "<table border=\"1\" class=\"dataframe\">\n",
       "  <thead>\n",
       "    <tr>\n",
       "      <th></th>\n",
       "      <th colspan=\"8\" halign=\"left\">Average Rent</th>\n",
       "    </tr>\n",
       "    <tr>\n",
       "      <th>Year</th>\n",
       "      <th>2015</th>\n",
       "      <th>2016</th>\n",
       "      <th>2017</th>\n",
       "      <th>2018</th>\n",
       "      <th>2019</th>\n",
       "      <th>2020</th>\n",
       "      <th>2021</th>\n",
       "      <th>2022</th>\n",
       "    </tr>\n",
       "    <tr>\n",
       "      <th>NAME</th>\n",
       "      <th></th>\n",
       "      <th></th>\n",
       "      <th></th>\n",
       "      <th></th>\n",
       "      <th></th>\n",
       "      <th></th>\n",
       "      <th></th>\n",
       "      <th></th>\n",
       "    </tr>\n",
       "  </thead>\n",
       "  <tbody>\n",
       "    <tr>\n",
       "      <th>Ashland City town, Tennessee</th>\n",
       "      <td>175.277818</td>\n",
       "      <td>271.722477</td>\n",
       "      <td>414.051957</td>\n",
       "      <td>794.348836</td>\n",
       "      <td>977.301430</td>\n",
       "      <td>1250.117199</td>\n",
       "      <td>1314.676772</td>\n",
       "      <td>1499.093735</td>\n",
       "    </tr>\n",
       "    <tr>\n",
       "      <th>Brentwood city, Tennessee</th>\n",
       "      <td>2027.976502</td>\n",
       "      <td>2083.788301</td>\n",
       "      <td>2168.446406</td>\n",
       "      <td>2214.974303</td>\n",
       "      <td>2270.834849</td>\n",
       "      <td>2328.509989</td>\n",
       "      <td>2679.600785</td>\n",
       "      <td>3179.383195</td>\n",
       "    </tr>\n",
       "  </tbody>\n",
       "</table>\n",
       "</div>"
      ],
      "text/plain": [
       "                             Average Rent                                                                                           \n",
       "Year                                 2015         2016         2017         2018         2019         2020         2021         2022\n",
       "NAME                                                                                                                                \n",
       "Ashland City town, Tennessee   175.277818   271.722477   414.051957   794.348836   977.301430  1250.117199  1314.676772  1499.093735\n",
       "Brentwood city, Tennessee     2027.976502  2083.788301  2168.446406  2214.974303  2270.834849  2328.509989  2679.600785  3179.383195"
      ]
     },
     "execution_count": 39,
     "metadata": {},
     "output_type": "execute_result"
    }
   ],
   "source": [
    "#create a multilevel column header with year and placeholder for time frames\n",
    "#pivot the table and create a multiindex of year and column header\n",
    "cols = list(data.columns)\n",
    "cols.remove('NAME')\n",
    "cols.remove('Year')\n",
    "df_pivot = data.pivot_table(index = 'NAME', columns = ['Year'], values = cols)\n",
    "df_pivot.head(2)"
   ]
  },
  {
   "cell_type": "code",
   "execution_count": 40,
   "id": "77992bef",
   "metadata": {},
   "outputs": [
    {
     "data": {
      "text/html": [
       "<div>\n",
       "<style scoped>\n",
       "    .dataframe tbody tr th:only-of-type {\n",
       "        vertical-align: middle;\n",
       "    }\n",
       "\n",
       "    .dataframe tbody tr th {\n",
       "        vertical-align: top;\n",
       "    }\n",
       "\n",
       "    .dataframe thead tr th {\n",
       "        text-align: left;\n",
       "    }\n",
       "\n",
       "    .dataframe thead tr:last-of-type th {\n",
       "        text-align: right;\n",
       "    }\n",
       "</style>\n",
       "<table border=\"1\" class=\"dataframe\">\n",
       "  <thead>\n",
       "    <tr>\n",
       "      <th></th>\n",
       "      <th colspan=\"8\" halign=\"left\">Average Rent</th>\n",
       "    </tr>\n",
       "    <tr>\n",
       "      <th></th>\n",
       "      <th>2015</th>\n",
       "      <th>2016</th>\n",
       "      <th>2017</th>\n",
       "      <th>2018</th>\n",
       "      <th>2019</th>\n",
       "      <th>2020</th>\n",
       "      <th>2021</th>\n",
       "      <th>2022</th>\n",
       "    </tr>\n",
       "    <tr>\n",
       "      <th></th>\n",
       "      <th>None</th>\n",
       "      <th>None</th>\n",
       "      <th>None</th>\n",
       "      <th>None</th>\n",
       "      <th>None</th>\n",
       "      <th>None</th>\n",
       "      <th>None</th>\n",
       "      <th>None</th>\n",
       "    </tr>\n",
       "    <tr>\n",
       "      <th>NAME</th>\n",
       "      <th></th>\n",
       "      <th></th>\n",
       "      <th></th>\n",
       "      <th></th>\n",
       "      <th></th>\n",
       "      <th></th>\n",
       "      <th></th>\n",
       "      <th></th>\n",
       "    </tr>\n",
       "  </thead>\n",
       "  <tbody>\n",
       "    <tr>\n",
       "      <th>Ashland City town, Tennessee</th>\n",
       "      <td>175.277818</td>\n",
       "      <td>271.722477</td>\n",
       "      <td>414.051957</td>\n",
       "      <td>794.348836</td>\n",
       "      <td>977.301430</td>\n",
       "      <td>1250.117199</td>\n",
       "      <td>1314.676772</td>\n",
       "      <td>1499.093735</td>\n",
       "    </tr>\n",
       "    <tr>\n",
       "      <th>Brentwood city, Tennessee</th>\n",
       "      <td>2027.976502</td>\n",
       "      <td>2083.788301</td>\n",
       "      <td>2168.446406</td>\n",
       "      <td>2214.974303</td>\n",
       "      <td>2270.834849</td>\n",
       "      <td>2328.509989</td>\n",
       "      <td>2679.600785</td>\n",
       "      <td>3179.383195</td>\n",
       "    </tr>\n",
       "    <tr>\n",
       "      <th>Cheatham County, Tennessee</th>\n",
       "      <td>448.336789</td>\n",
       "      <td>511.597978</td>\n",
       "      <td>678.261496</td>\n",
       "      <td>925.004323</td>\n",
       "      <td>1079.649920</td>\n",
       "      <td>1224.532422</td>\n",
       "      <td>1324.128357</td>\n",
       "      <td>1551.356073</td>\n",
       "    </tr>\n",
       "  </tbody>\n",
       "</table>\n",
       "</div>"
      ],
      "text/plain": [
       "                             Average Rent                                                                                           \n",
       "                                     2015         2016         2017         2018         2019         2020         2021         2022\n",
       "                                     None         None         None         None         None         None         None         None\n",
       "NAME                                                                                                                                \n",
       "Ashland City town, Tennessee   175.277818   271.722477   414.051957   794.348836   977.301430  1250.117199  1314.676772  1499.093735\n",
       "Brentwood city, Tennessee     2027.976502  2083.788301  2168.446406  2214.974303  2270.834849  2328.509989  2679.600785  3179.383195\n",
       "Cheatham County, Tennessee     448.336789   511.597978   678.261496   925.004323  1079.649920  1224.532422  1324.128357  1551.356073"
      ]
     },
     "execution_count": 40,
     "metadata": {},
     "output_type": "execute_result"
    }
   ],
   "source": [
    "#add a level to the multiindex to accomodate the time period metrics\n",
    "df_pivot.columns = pd.MultiIndex.from_tuples([(col[0], col[1], 'None') for col in df_pivot.columns])\n",
    "df_pivot.head(3)"
   ]
  },
  {
   "cell_type": "code",
   "execution_count": 41,
   "id": "59ad3721",
   "metadata": {},
   "outputs": [
    {
     "data": {
      "text/plain": [
       "['Average Rent']"
      ]
     },
     "execution_count": 41,
     "metadata": {},
     "output_type": "execute_result"
    }
   ],
   "source": [
    "#get a list of the varaibles to loop through by indexing into the first level only of the column headers\n",
    "first_level = df_pivot.columns.get_level_values(0).unique().tolist()\n",
    "first_level"
   ]
  },
  {
   "cell_type": "code",
   "execution_count": 42,
   "id": "0a3b3876",
   "metadata": {},
   "outputs": [],
   "source": [
    "#pass the dataframe, the list of variables, time frames, and years through the \"calculate change\" function\n",
    "data = calculate_changes(df_pivot, first_level, time_frames = time_frames, years = years)"
   ]
  },
  {
   "cell_type": "code",
   "execution_count": 43,
   "id": "4e83a20e",
   "metadata": {},
   "outputs": [],
   "source": [
    "data = data.stack([1, 1])\n",
    "data = data.reset_index(drop = False)\n",
    "data = data.rename(columns = {'level_1':'Year', 'level_2':'Time Frame'})"
   ]
  },
  {
   "cell_type": "code",
   "execution_count": 44,
   "id": "32114101",
   "metadata": {},
   "outputs": [],
   "source": [
    "data['GEO_ID'] = data['NAME'].map(geotogeoid)\n",
    "data['Source'] = 'Zillow'"
   ]
  },
  {
   "cell_type": "code",
   "execution_count": 45,
   "id": "5f2a9836",
   "metadata": {},
   "outputs": [
    {
     "data": {
      "text/html": [
       "<div>\n",
       "<style scoped>\n",
       "    .dataframe tbody tr th:only-of-type {\n",
       "        vertical-align: middle;\n",
       "    }\n",
       "\n",
       "    .dataframe tbody tr th {\n",
       "        vertical-align: top;\n",
       "    }\n",
       "\n",
       "    .dataframe thead th {\n",
       "        text-align: right;\n",
       "    }\n",
       "</style>\n",
       "<table border=\"1\" class=\"dataframe\">\n",
       "  <thead>\n",
       "    <tr style=\"text-align: right;\">\n",
       "      <th></th>\n",
       "      <th>NAME</th>\n",
       "      <th>Year</th>\n",
       "      <th>Time Frame</th>\n",
       "      <th>Average Rent</th>\n",
       "      <th>Average Rent % Change</th>\n",
       "      <th>Average Rent Change</th>\n",
       "      <th>GEO_ID</th>\n",
       "      <th>Source</th>\n",
       "    </tr>\n",
       "  </thead>\n",
       "  <tbody>\n",
       "    <tr>\n",
       "      <th>0</th>\n",
       "      <td>Ashland City town, Tennessee</td>\n",
       "      <td>2015</td>\n",
       "      <td>None</td>\n",
       "      <td>175.277818</td>\n",
       "      <td>NaN</td>\n",
       "      <td>NaN</td>\n",
       "      <td>1600000US4702180</td>\n",
       "      <td>Zillow</td>\n",
       "    </tr>\n",
       "    <tr>\n",
       "      <th>1</th>\n",
       "      <td>Ashland City town, Tennessee</td>\n",
       "      <td>2016</td>\n",
       "      <td>None</td>\n",
       "      <td>271.722477</td>\n",
       "      <td>NaN</td>\n",
       "      <td>NaN</td>\n",
       "      <td>1600000US4702180</td>\n",
       "      <td>Zillow</td>\n",
       "    </tr>\n",
       "    <tr>\n",
       "      <th>2</th>\n",
       "      <td>Ashland City town, Tennessee</td>\n",
       "      <td>2017</td>\n",
       "      <td>None</td>\n",
       "      <td>414.051957</td>\n",
       "      <td>NaN</td>\n",
       "      <td>NaN</td>\n",
       "      <td>1600000US4702180</td>\n",
       "      <td>Zillow</td>\n",
       "    </tr>\n",
       "    <tr>\n",
       "      <th>3</th>\n",
       "      <td>Ashland City town, Tennessee</td>\n",
       "      <td>2018</td>\n",
       "      <td>None</td>\n",
       "      <td>794.348836</td>\n",
       "      <td>NaN</td>\n",
       "      <td>NaN</td>\n",
       "      <td>1600000US4702180</td>\n",
       "      <td>Zillow</td>\n",
       "    </tr>\n",
       "    <tr>\n",
       "      <th>4</th>\n",
       "      <td>Ashland City town, Tennessee</td>\n",
       "      <td>2019</td>\n",
       "      <td>None</td>\n",
       "      <td>977.301430</td>\n",
       "      <td>NaN</td>\n",
       "      <td>NaN</td>\n",
       "      <td>1600000US4702180</td>\n",
       "      <td>Zillow</td>\n",
       "    </tr>\n",
       "  </tbody>\n",
       "</table>\n",
       "</div>"
      ],
      "text/plain": [
       "                           NAME  Year Time Frame  Average Rent  Average Rent % Change  Average Rent Change            GEO_ID  Source\n",
       "0  Ashland City town, Tennessee  2015       None    175.277818                    NaN                  NaN  1600000US4702180  Zillow\n",
       "1  Ashland City town, Tennessee  2016       None    271.722477                    NaN                  NaN  1600000US4702180  Zillow\n",
       "2  Ashland City town, Tennessee  2017       None    414.051957                    NaN                  NaN  1600000US4702180  Zillow\n",
       "3  Ashland City town, Tennessee  2018       None    794.348836                    NaN                  NaN  1600000US4702180  Zillow\n",
       "4  Ashland City town, Tennessee  2019       None    977.301430                    NaN                  NaN  1600000US4702180  Zillow"
      ]
     },
     "execution_count": 45,
     "metadata": {},
     "output_type": "execute_result"
    }
   ],
   "source": [
    "#final check\n",
    "data.head()"
   ]
  },
  {
   "cell_type": "code",
   "execution_count": 46,
   "id": "6ba013c4",
   "metadata": {},
   "outputs": [
    {
     "data": {
      "text/plain": [
       "array(['Ashland City town, Tennessee', 'Brentwood city, Tennessee',\n",
       "       'Cheatham County, Tennessee', 'Clarksville city, Tennessee',\n",
       "       'Columbia city, Tennessee', 'Davidson County, Tennessee',\n",
       "       'Fairview city, Tennessee', 'Franklin city, Kentucky',\n",
       "       'Gallatin city, Tennessee', 'Hendersonville city, Tennessee',\n",
       "       'La Vergne city, Tennessee', 'Lebanon city, Tennessee',\n",
       "       'Maury County, Tennessee', 'Millersville city, Tennessee',\n",
       "       'Montgomery County, Tennessee', 'Mount Juliet city, Tennessee',\n",
       "       'Murfreesboro city, Tennessee',\n",
       "       'Nashville-Davidson metropolitan government (balance), Tennessee',\n",
       "       'Nolensville town, Tennessee', 'Robertson County, Tennessee',\n",
       "       'Rutherford County, Tennessee', 'Smyrna town, Tennessee',\n",
       "       'Spring Hill city, Tennessee', 'Springfield city, Tennessee',\n",
       "       'Sumner County, Tennessee', 'Thompsons Station', 'United States',\n",
       "       'White House city, Tennessee', 'Williamson County, Tennessee',\n",
       "       'Wilson County, Tennessee'], dtype=object)"
      ]
     },
     "execution_count": 46,
     "metadata": {},
     "output_type": "execute_result"
    }
   ],
   "source": [
    "data['NAME'].unique()"
   ]
  },
  {
   "cell_type": "code",
   "execution_count": 37,
   "id": "0545b4d5",
   "metadata": {},
   "outputs": [
    {
     "name": "stdout",
     "output_type": "stream",
     "text": [
      "<class 'pandas.core.frame.DataFrame'>\n",
      "RangeIndex: 1080 entries, 0 to 1079\n",
      "Data columns (total 8 columns):\n",
      " #   Column                 Non-Null Count  Dtype  \n",
      "---  ------                 --------------  -----  \n",
      " 0   NAME                   1080 non-null   object \n",
      " 1   Year                   1080 non-null   object \n",
      " 2   Time Frame             1080 non-null   object \n",
      " 3   Average Rent           240 non-null    float64\n",
      " 4   Average Rent % Change  840 non-null    float64\n",
      " 5   Average Rent Change    840 non-null    float64\n",
      " 6   GEO_ID                 1008 non-null   object \n",
      " 7   Source                 1080 non-null   object \n",
      "dtypes: float64(3), object(5)\n",
      "memory usage: 67.6+ KB\n"
     ]
    }
   ],
   "source": [
    "data.info()"
   ]
  },
  {
   "cell_type": "code",
   "execution_count": 38,
   "id": "225d5327",
   "metadata": {},
   "outputs": [
    {
     "data": {
      "text/plain": [
       "1080"
      ]
     },
     "execution_count": 38,
     "metadata": {},
     "output_type": "execute_result"
    }
   ],
   "source": [
    "#export to the SQLite database as Zillow annual data\n",
    "conn = sq.connect('../../Outputs/Dem_Transpo_Housing_Collection.db')\n",
    "data.to_sql('Zillow_Rent_Annual_Change', conn, if_exists = 'replace', index = False)"
   ]
  },
  {
   "cell_type": "code",
   "execution_count": null,
   "id": "0a6f5db3",
   "metadata": {},
   "outputs": [],
   "source": []
  }
 ],
 "metadata": {
  "kernelspec": {
   "display_name": "Python 3 (ipykernel)",
   "language": "python",
   "name": "python3"
  },
  "language_info": {
   "codemirror_mode": {
    "name": "ipython",
    "version": 3
   },
   "file_extension": ".py",
   "mimetype": "text/x-python",
   "name": "python",
   "nbconvert_exporter": "python",
   "pygments_lexer": "ipython3",
   "version": "3.10.9"
  }
 },
 "nbformat": 4,
 "nbformat_minor": 5
}
