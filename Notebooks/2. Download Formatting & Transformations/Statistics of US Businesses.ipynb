{
 "cells": [
  {
   "cell_type": "code",
   "execution_count": 1,
   "id": "cbe7d8e9",
   "metadata": {},
   "outputs": [],
   "source": [
    "import pandas as pd\n",
    "import numpy as np\n",
    "import requests\n",
    "from functools import reduce\n",
    "import matplotlib.pyplot as plt\n",
    "import pickle\n",
    "pd.set_option('display.max_columns', None)\n",
    "pd.set_option('display.max_rows', None)\n",
    "pd.set_option('display.width', 150)\n",
    "import sys\n",
    "sys.path.append(\"../../../Functions and Dictionaries\") # Adds higher directory to python modules path\n",
    "import geodict\n",
    "namestocommon = geodict.namestocommon\n",
    "geotogeoid = geodict.geotogeoid\n",
    "tofullcensus = geodict.tofullcensus\n",
    "import sqlite3 as sq"
   ]
  },
  {
   "cell_type": "markdown",
   "id": "4539ecec",
   "metadata": {},
   "source": [
    "# Statistics of US Businesses  \n",
    "Census Bureau Product, data download homepage is here: https://www.census.gov/programs-surveys/susb/data/tables.html  \n",
    "Currently using county by state 2020: https://www.census.gov/data/tables/2020/econ/susb/2020-susb-annual.html  \n",
    "This is for 2020 released in 2023.  \n",
    "When downloaded, open the Excel workbook and delete the top two rows (the title and the notes) so that we are left with the row of column headers at the top. Copy-paste the content into an unformatted csv, and save in Data Downloads as \"StatisticsofUSBusinesses_CountyAnnual3DigNAICS_2020.csv\", etc. for different years. When you go back to 2015 there is both establishment and enterprise industry, select establishment industry."
   ]
  },
  {
   "cell_type": "code",
   "execution_count": 30,
   "id": "a81f6acb",
   "metadata": {},
   "outputs": [
    {
     "data": {
      "text/html": [
       "<div>\n",
       "<style scoped>\n",
       "    .dataframe tbody tr th:only-of-type {\n",
       "        vertical-align: middle;\n",
       "    }\n",
       "\n",
       "    .dataframe tbody tr th {\n",
       "        vertical-align: top;\n",
       "    }\n",
       "\n",
       "    .dataframe thead th {\n",
       "        text-align: right;\n",
       "    }\n",
       "</style>\n",
       "<table border=\"1\" class=\"dataframe\">\n",
       "  <thead>\n",
       "    <tr style=\"text-align: right;\">\n",
       "      <th></th>\n",
       "      <th>State</th>\n",
       "      <th>State Name</th>\n",
       "      <th>County</th>\n",
       "      <th>County Name</th>\n",
       "      <th>NAICS</th>\n",
       "      <th>NAICS Description</th>\n",
       "      <th>Enterprise Size</th>\n",
       "      <th>Firms</th>\n",
       "      <th>Establishments</th>\n",
       "      <th>Employment</th>\n",
       "      <th>Annual Payroll ($1000)</th>\n",
       "      <th>Year</th>\n",
       "    </tr>\n",
       "  </thead>\n",
       "  <tbody>\n",
       "    <tr>\n",
       "      <th>0</th>\n",
       "      <td>01</td>\n",
       "      <td>Alabama</td>\n",
       "      <td>001</td>\n",
       "      <td>Autauga</td>\n",
       "      <td>--</td>\n",
       "      <td>Total</td>\n",
       "      <td>1: Total</td>\n",
       "      <td>807</td>\n",
       "      <td>879</td>\n",
       "      <td>11265</td>\n",
       "      <td>385785</td>\n",
       "      <td>2020</td>\n",
       "    </tr>\n",
       "    <tr>\n",
       "      <th>1</th>\n",
       "      <td>01</td>\n",
       "      <td>Alabama</td>\n",
       "      <td>001</td>\n",
       "      <td>Autauga</td>\n",
       "      <td>--</td>\n",
       "      <td>Total</td>\n",
       "      <td>2: &lt;20 employees</td>\n",
       "      <td>520</td>\n",
       "      <td>522</td>\n",
       "      <td>2234</td>\n",
       "      <td>69724</td>\n",
       "      <td>2020</td>\n",
       "    </tr>\n",
       "  </tbody>\n",
       "</table>\n",
       "</div>"
      ],
      "text/plain": [
       "  State State Name County County Name NAICS NAICS Description   Enterprise Size Firms Establishments Employment Annual Payroll ($1000)  Year\n",
       "0    01    Alabama    001     Autauga    --             Total          1: Total   807            879      11265                 385785  2020\n",
       "1    01    Alabama    001     Autauga    --             Total  2: <20 employees   520            522       2234                  69724  2020"
      ]
     },
     "execution_count": 30,
     "metadata": {},
     "output_type": "execute_result"
    }
   ],
   "source": [
    "twentytwenty = pd.read_csv('../../Data Downloads/StatisticsofUSBusinesses_CountyAnnual3DigNAICS_2020.csv', dtype = 'str')\n",
    "twentytwenty = twentytwenty.drop(columns = ['Employment Noise Flag', 'Annual Payroll Noise Flag'])\n",
    "twentytwenty = twentytwenty.rename(columns = {'Annual Payroll\\n($1,000)': 'Annual Payroll ($1000)'})\n",
    "twentytwenty['Year'] = '2020'\n",
    "twentytwenty.head(2)"
   ]
  },
  {
   "cell_type": "code",
   "execution_count": 31,
   "id": "6591b1d4",
   "metadata": {},
   "outputs": [
    {
     "data": {
      "text/html": [
       "<div>\n",
       "<style scoped>\n",
       "    .dataframe tbody tr th:only-of-type {\n",
       "        vertical-align: middle;\n",
       "    }\n",
       "\n",
       "    .dataframe tbody tr th {\n",
       "        vertical-align: top;\n",
       "    }\n",
       "\n",
       "    .dataframe thead th {\n",
       "        text-align: right;\n",
       "    }\n",
       "</style>\n",
       "<table border=\"1\" class=\"dataframe\">\n",
       "  <thead>\n",
       "    <tr style=\"text-align: right;\">\n",
       "      <th></th>\n",
       "      <th>State</th>\n",
       "      <th>State Name</th>\n",
       "      <th>County</th>\n",
       "      <th>County Name</th>\n",
       "      <th>NAICS</th>\n",
       "      <th>NAICS Description</th>\n",
       "      <th>Enterprise Size</th>\n",
       "      <th>Firms</th>\n",
       "      <th>Establishments</th>\n",
       "      <th>Employment</th>\n",
       "      <th>Annual Payroll ($1000)</th>\n",
       "      <th>Year</th>\n",
       "    </tr>\n",
       "  </thead>\n",
       "  <tbody>\n",
       "    <tr>\n",
       "      <th>0</th>\n",
       "      <td>01</td>\n",
       "      <td>Alabama</td>\n",
       "      <td>001</td>\n",
       "      <td>Autauga</td>\n",
       "      <td>--</td>\n",
       "      <td>Total</td>\n",
       "      <td>1: Total</td>\n",
       "      <td>797</td>\n",
       "      <td>867</td>\n",
       "      <td>11510</td>\n",
       "      <td>385755</td>\n",
       "      <td>2019</td>\n",
       "    </tr>\n",
       "    <tr>\n",
       "      <th>1</th>\n",
       "      <td>01</td>\n",
       "      <td>Alabama</td>\n",
       "      <td>001</td>\n",
       "      <td>Autauga</td>\n",
       "      <td>--</td>\n",
       "      <td>Total</td>\n",
       "      <td>2: &lt;20 employees</td>\n",
       "      <td>517</td>\n",
       "      <td>520</td>\n",
       "      <td>2272</td>\n",
       "      <td>68970</td>\n",
       "      <td>2019</td>\n",
       "    </tr>\n",
       "  </tbody>\n",
       "</table>\n",
       "</div>"
      ],
      "text/plain": [
       "  State State Name County County Name NAICS NAICS Description   Enterprise Size Firms Establishments Employment Annual Payroll ($1000)  Year\n",
       "0    01    Alabama    001     Autauga    --             Total          1: Total   797            867      11510                 385755  2019\n",
       "1    01    Alabama    001     Autauga    --             Total  2: <20 employees   517            520       2272                  68970  2019"
      ]
     },
     "execution_count": 31,
     "metadata": {},
     "output_type": "execute_result"
    }
   ],
   "source": [
    "twentynineteen = pd.read_csv('../../Data Downloads/StatisticsofUSBusinesses_CountyAnnual3DigNAICS_2019.csv', dtype = 'str')\n",
    "twentynineteen = twentynineteen.drop(columns = ['Employment Noise Flag', 'Annual Payroll Noise Flag'])\n",
    "twentynineteen = twentynineteen.rename(columns = {'Annual Payroll\\n($1,000)': 'Annual Payroll ($1000)'})\n",
    "twentynineteen['Year'] = '2019'\n",
    "twentynineteen.head(2)"
   ]
  },
  {
   "cell_type": "code",
   "execution_count": 32,
   "id": "0e1b5b7f",
   "metadata": {},
   "outputs": [
    {
     "data": {
      "text/html": [
       "<div>\n",
       "<style scoped>\n",
       "    .dataframe tbody tr th:only-of-type {\n",
       "        vertical-align: middle;\n",
       "    }\n",
       "\n",
       "    .dataframe tbody tr th {\n",
       "        vertical-align: top;\n",
       "    }\n",
       "\n",
       "    .dataframe thead th {\n",
       "        text-align: right;\n",
       "    }\n",
       "</style>\n",
       "<table border=\"1\" class=\"dataframe\">\n",
       "  <thead>\n",
       "    <tr style=\"text-align: right;\">\n",
       "      <th></th>\n",
       "      <th>State</th>\n",
       "      <th>State Name</th>\n",
       "      <th>County</th>\n",
       "      <th>County Name</th>\n",
       "      <th>NAICS</th>\n",
       "      <th>NAICS Description</th>\n",
       "      <th>Enterprise Size</th>\n",
       "      <th>Firms</th>\n",
       "      <th>Establishments</th>\n",
       "      <th>Employment</th>\n",
       "      <th>Annual Payroll ($1000)</th>\n",
       "      <th>Year</th>\n",
       "    </tr>\n",
       "  </thead>\n",
       "  <tbody>\n",
       "    <tr>\n",
       "      <th>0</th>\n",
       "      <td>01</td>\n",
       "      <td>Alabama</td>\n",
       "      <td>001</td>\n",
       "      <td>Autauga</td>\n",
       "      <td>--</td>\n",
       "      <td>Total</td>\n",
       "      <td>1: Total</td>\n",
       "      <td>785</td>\n",
       "      <td>855</td>\n",
       "      <td>11397</td>\n",
       "      <td>373865</td>\n",
       "      <td>2018</td>\n",
       "    </tr>\n",
       "    <tr>\n",
       "      <th>1</th>\n",
       "      <td>01</td>\n",
       "      <td>Alabama</td>\n",
       "      <td>001</td>\n",
       "      <td>Autauga</td>\n",
       "      <td>--</td>\n",
       "      <td>Total</td>\n",
       "      <td>2: &lt;20 employees</td>\n",
       "      <td>509</td>\n",
       "      <td>510</td>\n",
       "      <td>2245</td>\n",
       "      <td>67131</td>\n",
       "      <td>2018</td>\n",
       "    </tr>\n",
       "  </tbody>\n",
       "</table>\n",
       "</div>"
      ],
      "text/plain": [
       "  State State Name County County Name NAICS NAICS Description   Enterprise Size Firms Establishments Employment Annual Payroll ($1000)  Year\n",
       "0    01    Alabama    001     Autauga    --             Total          1: Total   785            855      11397                 373865  2018\n",
       "1    01    Alabama    001     Autauga    --             Total  2: <20 employees   509            510       2245                  67131  2018"
      ]
     },
     "execution_count": 32,
     "metadata": {},
     "output_type": "execute_result"
    }
   ],
   "source": [
    "twentyeighteen = pd.read_csv('../../Data Downloads/StatisticsofUSBusinesses_CountyAnnual3DigNAICS_2018.csv', dtype = 'str')\n",
    "twentyeighteen = twentyeighteen.drop(columns = ['Employment Noise Flag', 'Annual Payroll Noise Flag'])\n",
    "twentyeighteen = twentyeighteen.rename(columns = {'Annual Payroll\\n($1,000)': 'Annual Payroll ($1000)'})\n",
    "twentyeighteen['Year'] = '2018'\n",
    "twentyeighteen.head(2)"
   ]
  },
  {
   "cell_type": "code",
   "execution_count": 36,
   "id": "41538d98",
   "metadata": {},
   "outputs": [
    {
     "data": {
      "text/html": [
       "<div>\n",
       "<style scoped>\n",
       "    .dataframe tbody tr th:only-of-type {\n",
       "        vertical-align: middle;\n",
       "    }\n",
       "\n",
       "    .dataframe tbody tr th {\n",
       "        vertical-align: top;\n",
       "    }\n",
       "\n",
       "    .dataframe thead th {\n",
       "        text-align: right;\n",
       "    }\n",
       "</style>\n",
       "<table border=\"1\" class=\"dataframe\">\n",
       "  <thead>\n",
       "    <tr style=\"text-align: right;\">\n",
       "      <th></th>\n",
       "      <th>State</th>\n",
       "      <th>State Name</th>\n",
       "      <th>County</th>\n",
       "      <th>County Name</th>\n",
       "      <th>NAICS</th>\n",
       "      <th>NAICS Description</th>\n",
       "      <th>Enterprise Size</th>\n",
       "      <th>Firms</th>\n",
       "      <th>Establishments</th>\n",
       "      <th>Employment</th>\n",
       "      <th>Annual Payroll ($1000)</th>\n",
       "      <th>Year</th>\n",
       "    </tr>\n",
       "  </thead>\n",
       "  <tbody>\n",
       "    <tr>\n",
       "      <th>0</th>\n",
       "      <td>01</td>\n",
       "      <td>Alabama</td>\n",
       "      <td>001</td>\n",
       "      <td>Autauga</td>\n",
       "      <td>--</td>\n",
       "      <td>Total</td>\n",
       "      <td>1: Total</td>\n",
       "      <td>800</td>\n",
       "      <td>869</td>\n",
       "      <td>11036</td>\n",
       "      <td>360936</td>\n",
       "      <td>2017</td>\n",
       "    </tr>\n",
       "    <tr>\n",
       "      <th>1</th>\n",
       "      <td>01</td>\n",
       "      <td>Alabama</td>\n",
       "      <td>001</td>\n",
       "      <td>Autauga</td>\n",
       "      <td>--</td>\n",
       "      <td>Total</td>\n",
       "      <td>2: &lt;20 employees</td>\n",
       "      <td>530</td>\n",
       "      <td>531</td>\n",
       "      <td>2379</td>\n",
       "      <td>70085</td>\n",
       "      <td>2017</td>\n",
       "    </tr>\n",
       "  </tbody>\n",
       "</table>\n",
       "</div>"
      ],
      "text/plain": [
       "  State State Name County County Name NAICS NAICS Description   Enterprise Size Firms Establishments Employment Annual Payroll ($1000)  Year\n",
       "0    01    Alabama    001     Autauga    --             Total          1: Total   800            869      11036                 360936  2017\n",
       "1    01    Alabama    001     Autauga    --             Total  2: <20 employees   530            531       2379                  70085  2017"
      ]
     },
     "execution_count": 36,
     "metadata": {},
     "output_type": "execute_result"
    }
   ],
   "source": [
    "#this year they started including \"Employment Range Flag\" so drop that column\n",
    "twentyseventeen = pd.read_csv('../../Data Downloads/StatisticsofUSBusinesses_CountyAnnual3DigNAICS_2017.csv', dtype = 'str')\n",
    "twentyseventeen = twentyseventeen.drop(columns = ['Employment Noise Flag', 'Annual Payroll Noise Flag', 'Employment Range Flag', \n",
    "                                                  'Receipts\\n($1,000)', 'Receipts\\nNoise Flag'])\n",
    "twentyseventeen = twentyseventeen.rename(columns = {'Annual Payroll\\n($1,000)': 'Annual Payroll ($1000)'})\n",
    "twentyseventeen['Year'] = '2017'\n",
    "twentyseventeen.head(2)"
   ]
  },
  {
   "cell_type": "code",
   "execution_count": 38,
   "id": "1cc88c47",
   "metadata": {},
   "outputs": [
    {
     "data": {
      "text/html": [
       "<div>\n",
       "<style scoped>\n",
       "    .dataframe tbody tr th:only-of-type {\n",
       "        vertical-align: middle;\n",
       "    }\n",
       "\n",
       "    .dataframe tbody tr th {\n",
       "        vertical-align: top;\n",
       "    }\n",
       "\n",
       "    .dataframe thead th {\n",
       "        text-align: right;\n",
       "    }\n",
       "</style>\n",
       "<table border=\"1\" class=\"dataframe\">\n",
       "  <thead>\n",
       "    <tr style=\"text-align: right;\">\n",
       "      <th></th>\n",
       "      <th>State</th>\n",
       "      <th>State Name</th>\n",
       "      <th>County</th>\n",
       "      <th>County Name</th>\n",
       "      <th>NAICS</th>\n",
       "      <th>NAICS Description</th>\n",
       "      <th>Enterprise Size</th>\n",
       "      <th>Firms</th>\n",
       "      <th>Establishments</th>\n",
       "      <th>Employment</th>\n",
       "      <th>Annual Payroll ($1000)</th>\n",
       "      <th>Year</th>\n",
       "    </tr>\n",
       "  </thead>\n",
       "  <tbody>\n",
       "    <tr>\n",
       "      <th>0</th>\n",
       "      <td>01</td>\n",
       "      <td>ALABAMA</td>\n",
       "      <td>001</td>\n",
       "      <td>AUTAUGA</td>\n",
       "      <td>--</td>\n",
       "      <td>Total</td>\n",
       "      <td>1: Total</td>\n",
       "      <td>791</td>\n",
       "      <td>851</td>\n",
       "      <td>10790</td>\n",
       "      <td>332497</td>\n",
       "      <td>2016</td>\n",
       "    </tr>\n",
       "    <tr>\n",
       "      <th>1</th>\n",
       "      <td>01</td>\n",
       "      <td>ALABAMA</td>\n",
       "      <td>001</td>\n",
       "      <td>AUTAUGA</td>\n",
       "      <td>--</td>\n",
       "      <td>Total</td>\n",
       "      <td>2: &lt;20 employees</td>\n",
       "      <td>519</td>\n",
       "      <td>520</td>\n",
       "      <td>2303</td>\n",
       "      <td>64084</td>\n",
       "      <td>2016</td>\n",
       "    </tr>\n",
       "  </tbody>\n",
       "</table>\n",
       "</div>"
      ],
      "text/plain": [
       "  State State Name County County Name NAICS NAICS Description   Enterprise Size Firms Establishments Employment Annual Payroll ($1000)  Year\n",
       "0    01    ALABAMA    001     AUTAUGA    --             Total          1: Total   791            851      10790                 332497  2016\n",
       "1    01    ALABAMA    001     AUTAUGA    --             Total  2: <20 employees   519            520       2303                  64084  2016"
      ]
     },
     "execution_count": 38,
     "metadata": {},
     "output_type": "execute_result"
    }
   ],
   "source": [
    "twentysixteen = pd.read_csv('../../Data Downloads/StatisticsofUSBusinesses_CountyAnnual3DigNAICS_2016.csv', dtype = 'str')\n",
    "twentysixteen = twentysixteen.drop(columns = ['Employment Noise Flag', 'Annual Payroll Noise Flag', 'Employment Range Flag'])\n",
    "twentysixteen = twentysixteen.rename(columns = {'Annual Payroll\\n($1,000)': 'Annual Payroll ($1000)'})\n",
    "twentysixteen['Year'] = '2016'\n",
    "twentysixteen.head(2)"
   ]
  },
  {
   "cell_type": "code",
   "execution_count": 42,
   "id": "190128cc",
   "metadata": {},
   "outputs": [
    {
     "data": {
      "text/html": [
       "<div>\n",
       "<style scoped>\n",
       "    .dataframe tbody tr th:only-of-type {\n",
       "        vertical-align: middle;\n",
       "    }\n",
       "\n",
       "    .dataframe tbody tr th {\n",
       "        vertical-align: top;\n",
       "    }\n",
       "\n",
       "    .dataframe thead th {\n",
       "        text-align: right;\n",
       "    }\n",
       "</style>\n",
       "<table border=\"1\" class=\"dataframe\">\n",
       "  <thead>\n",
       "    <tr style=\"text-align: right;\">\n",
       "      <th></th>\n",
       "      <th>State</th>\n",
       "      <th>State Name</th>\n",
       "      <th>County</th>\n",
       "      <th>County Name</th>\n",
       "      <th>NAICS</th>\n",
       "      <th>NAICS Description</th>\n",
       "      <th>Enterprise Size</th>\n",
       "      <th>Firms</th>\n",
       "      <th>Establishments</th>\n",
       "      <th>Employment</th>\n",
       "      <th>Annual Payroll ($1000)</th>\n",
       "      <th>Year</th>\n",
       "    </tr>\n",
       "  </thead>\n",
       "  <tbody>\n",
       "    <tr>\n",
       "      <th>0</th>\n",
       "      <td>01</td>\n",
       "      <td>ALABAMA</td>\n",
       "      <td>001</td>\n",
       "      <td>AUTAUGA</td>\n",
       "      <td>--</td>\n",
       "      <td>Total</td>\n",
       "      <td>1: Total</td>\n",
       "      <td>788</td>\n",
       "      <td>844</td>\n",
       "      <td>10454</td>\n",
       "      <td>321433</td>\n",
       "      <td>2015</td>\n",
       "    </tr>\n",
       "    <tr>\n",
       "      <th>1</th>\n",
       "      <td>01</td>\n",
       "      <td>ALABAMA</td>\n",
       "      <td>001</td>\n",
       "      <td>AUTAUGA</td>\n",
       "      <td>--</td>\n",
       "      <td>Total</td>\n",
       "      <td>2: &lt;20 employees</td>\n",
       "      <td>526</td>\n",
       "      <td>527</td>\n",
       "      <td>2216</td>\n",
       "      <td>63553</td>\n",
       "      <td>2015</td>\n",
       "    </tr>\n",
       "  </tbody>\n",
       "</table>\n",
       "</div>"
      ],
      "text/plain": [
       "  State State Name County County Name NAICS NAICS Description   Enterprise Size Firms Establishments Employment Annual Payroll ($1000)  Year\n",
       "0    01    ALABAMA    001     AUTAUGA    --             Total          1: Total   788            844      10454                 321433  2015\n",
       "1    01    ALABAMA    001     AUTAUGA    --             Total  2: <20 employees   526            527       2216                  63553  2015"
      ]
     },
     "execution_count": 42,
     "metadata": {},
     "output_type": "execute_result"
    }
   ],
   "source": [
    "twentyfifteen = pd.read_csv('../../Data Downloads/StatisticsofUSBusinesses_CountyAnnual3DigNAICS_2015.csv', dtype = 'str')\n",
    "twentyfifteen = twentyfifteen.drop(columns = ['Employment Noise Flag', 'Annual Payroll Noise Flag', 'Employmment Range Flag'])\n",
    "twentyfifteen = twentyfifteen.rename(columns = {'Annual Payroll\\n($1,000)': 'Annual Payroll ($1000)'})\n",
    "twentyfifteen['Year'] = '2015'\n",
    "twentyfifteen.head(2)"
   ]
  },
  {
   "cell_type": "markdown",
   "id": "5e0b82e2",
   "metadata": {},
   "source": [
    "## They started doing NAICS breakouts at the county level in 2015, so from here back it's only total"
   ]
  },
  {
   "cell_type": "code",
   "execution_count": 55,
   "id": "7b7ae223",
   "metadata": {},
   "outputs": [],
   "source": [
    "# twentyfourteen = pd.read_csv('../../Data Downloads/StatisticsofUSBusinesses_CountyAnnual3DigNAICS_2014.csv', dtype = 'str')\n",
    "# twentyfourteen = twentyfourteen.drop(columns = ['Employment Noise Flag', 'Annual Payroll Noise Flag', 'Employment Range Flag'])\n",
    "# twentyfourteen = twentyfourteen.rename(columns = {'Annual Payroll\\n($1,000)': 'Annual Payroll ($1000)'})\n",
    "# twentyfourteen['Year'] = '2014'\n",
    "# twentyfourteen.head(2)"
   ]
  },
  {
   "cell_type": "code",
   "execution_count": 56,
   "id": "4bb8de85",
   "metadata": {},
   "outputs": [],
   "source": [
    "# twentythirteen = pd.read_csv('../../Data Downloads/StatisticsofUSBusinesses_CountyAnnual3DigNAICS_2013.csv', dtype = 'str')\n",
    "# twentythirteen = twentythirteen.drop(columns = ['Employment Noise Flag', 'Annual Payroll Noise Flag', 'Employment Range Flag'])\n",
    "# twentythirteen = twentythirteen.rename(columns = {'Annual Payroll\\n($1,000)': 'Annual Payroll ($1000)'})\n",
    "# twentythirteen['Year'] = '2013'\n",
    "# twentythirteen.head(2)"
   ]
  },
  {
   "cell_type": "code",
   "execution_count": 57,
   "id": "9743952a",
   "metadata": {},
   "outputs": [],
   "source": [
    "# twentytwelve = pd.read_csv('../../Data Downloads/StatisticsofUSBusinesses_CountyAnnual3DigNAICS_2012.csv', dtype = 'str')\n",
    "# twentytwelve = twentytwelve.drop(columns = ['Employment Noise Flag', 'Annual Payroll Noise Flag', 'Employment Range Flag'])\n",
    "# twentytwelve = twentytwelve.rename(columns = {'Annual Payroll\\n($1,000)': 'Annual Payroll ($1000)'})\n",
    "# twentytwelve['Year'] = '2012'\n",
    "# twentytwelve.head(2)"
   ]
  },
  {
   "cell_type": "code",
   "execution_count": 58,
   "id": "7c3e6260",
   "metadata": {},
   "outputs": [],
   "source": [
    "# twentyeleven = pd.read_csv('../../Data Downloads/StatisticsofUSBusinesses_CountyAnnual3DigNAICS_2011.csv', dtype = 'str')\n",
    "# twentyeleven = twentyeleven.drop(columns = ['Employment Noise Flag', 'Annual Payroll Noise Flag', 'Employment Range Flag'])\n",
    "# twentyeleven = twentyeleven.rename(columns = {'Annual Payroll\\n($1,000)': 'Annual Payroll ($1000)'})\n",
    "# twentyeleven['Year'] = '2011'\n",
    "# twentyeleven.head(2)"
   ]
  },
  {
   "cell_type": "code",
   "execution_count": 59,
   "id": "b48cb865",
   "metadata": {},
   "outputs": [],
   "source": [
    "# twentyten = pd.read_csv('../../Data Downloads/StatisticsofUSBusinesses_CountyAnnual3DigNAICS_2010.csv', dtype = 'str')\n",
    "# twentyten = twentyten.drop(columns = ['Employment Noise Flag', 'Annual Payroll Noise Flag', 'Employment Range Flag'])\n",
    "# twentyten = twentyten.rename(columns = {'Annual Payroll\\n($1,000)': 'Annual Payroll ($1000)'})\n",
    "# twentyten['Year'] = '2010'\n",
    "# twentyten.head(2)"
   ]
  },
  {
   "cell_type": "code",
   "execution_count": 60,
   "id": "72544b9d",
   "metadata": {},
   "outputs": [],
   "source": [
    "# twothounine = pd.read_csv('../../Data Downloads/StatisticsofUSBusinesses_CountyAnnual3DigNAICS_2009.csv', dtype = 'str')\n",
    "# twothounine = twothounine.drop(columns = ['Employment Noise Flag', 'Annual Payroll Noise Flag', 'Employment Range Flag'])\n",
    "# twothounine = twothounine.rename(columns = {'Annual Payroll\\n($1,000)': 'Annual Payroll ($1000)'})\n",
    "# twothounine['Year'] = '2009'\n",
    "# twothounine.head(2)"
   ]
  },
  {
   "cell_type": "code",
   "execution_count": 61,
   "id": "af853c80",
   "metadata": {},
   "outputs": [],
   "source": [
    "# twothoueight = pd.read_csv('../../Data Downloads/StatisticsofUSBusinesses_CountyAnnual3DigNAICS_2008.csv', dtype = 'str')\n",
    "# twothoueight = twothoueight.drop(columns = ['Employment Noise Flag', 'Annual Payroll Noise Flag', 'Employment Range Flag'])\n",
    "# twothoueight = twothoueight.rename(columns = {'Annual Payroll\\n($1,000)': 'Annual Payroll ($1000)'})\n",
    "# twothoueight['Year'] = '2008'\n",
    "# twothoueight.head(2)"
   ]
  },
  {
   "cell_type": "code",
   "execution_count": 62,
   "id": "8a1246f6",
   "metadata": {},
   "outputs": [],
   "source": [
    "# twothouseven = pd.read_csv('../../Data Downloads/StatisticsofUSBusinesses_CountyAnnual3DigNAICS_2007.csv', dtype = 'str')\n",
    "# twothouseven = twothouseven.drop(columns = ['Employment Noise Flag', 'Annual Payroll Noise Flag', 'Employment Range Flag', \n",
    "#                                             'Receipts', 'Receipts Noise Flag'])\n",
    "# twothouseven = twothouseven.rename(columns = {'Annual Payroll\\n($1,000)': 'Annual Payroll ($1000)'})\n",
    "# twothouseven['Year'] = '2007'\n",
    "# twothouseven.head(2)"
   ]
  },
  {
   "cell_type": "code",
   "execution_count": 63,
   "id": "f68543ea",
   "metadata": {},
   "outputs": [],
   "source": [
    "# twothousix = pd.read_csv('../../Data Downloads/StatisticsofUSBusinesses_CountyAnnual3DigNAICS_2006.csv', dtype = 'str')\n",
    "# #twothousix = twothousix.drop(columns = ['Employment Noise Flag', 'Annual Payroll Noise Flag', 'Employment Range Flag'])\n",
    "# #twothousix = twothousix.rename(columns = {'Annual Payroll\\n($1,000)': 'Annual Payroll ($1000)'})\n",
    "# twothousix['Year'] = '2006'\n",
    "# twothousix.head(2)"
   ]
  },
  {
   "cell_type": "markdown",
   "id": "6b6cbe72",
   "metadata": {},
   "source": [
    "## Merging all dataframes with the NAICS breakout, read in whatever you need later."
   ]
  },
  {
   "cell_type": "code",
   "execution_count": 64,
   "id": "70e565a6",
   "metadata": {},
   "outputs": [],
   "source": [
    "dfs = [twentytwenty, twentynineteen, twentyeighteen, twentyseventeen, twentysixteen, twentyfifteen]"
   ]
  },
  {
   "cell_type": "code",
   "execution_count": 108,
   "id": "30798af2",
   "metadata": {},
   "outputs": [],
   "source": [
    "data = pd.concat(dfs).reset_index(drop = True)"
   ]
  },
  {
   "cell_type": "code",
   "execution_count": 109,
   "id": "f238e934",
   "metadata": {},
   "outputs": [],
   "source": [
    "data = data.rename(columns = {'State': 'StateFIPS', 'County': 'CountyFIPS', 'County Name': 'County'})"
   ]
  },
  {
   "cell_type": "code",
   "execution_count": 110,
   "id": "07c0b049",
   "metadata": {},
   "outputs": [],
   "source": [
    "data['GEO_ID'] = '0500000US' + data['StateFIPS'] + data['CountyFIPS']"
   ]
  },
  {
   "cell_type": "code",
   "execution_count": 111,
   "id": "fe7bc240",
   "metadata": {},
   "outputs": [],
   "source": [
    "data = data.loc[data['StateFIPS'] == '47'].reset_index(drop = True)"
   ]
  },
  {
   "cell_type": "code",
   "execution_count": 112,
   "id": "3c9ef3bc",
   "metadata": {},
   "outputs": [],
   "source": [
    "data = data.drop(columns = ['StateFIPS', 'State Name', 'CountyFIPS'])"
   ]
  },
  {
   "cell_type": "code",
   "execution_count": 115,
   "id": "f065bdec",
   "metadata": {},
   "outputs": [],
   "source": [
    "naicsdict = dict(zip(data['NAICS'], data['NAICS Description']))\n",
    "countydict = dict(zip(data['County'], data['GEO_ID   ']))"
   ]
  },
  {
   "cell_type": "code",
   "execution_count": null,
   "id": "b8292bda",
   "metadata": {},
   "outputs": [],
   "source": []
  },
  {
   "cell_type": "code",
   "execution_count": 113,
   "id": "08dbc6af",
   "metadata": {},
   "outputs": [
    {
     "data": {
      "text/html": [
       "<div>\n",
       "<style scoped>\n",
       "    .dataframe tbody tr th:only-of-type {\n",
       "        vertical-align: middle;\n",
       "    }\n",
       "\n",
       "    .dataframe tbody tr th {\n",
       "        vertical-align: top;\n",
       "    }\n",
       "\n",
       "    .dataframe thead th {\n",
       "        text-align: right;\n",
       "    }\n",
       "</style>\n",
       "<table border=\"1\" class=\"dataframe\">\n",
       "  <thead>\n",
       "    <tr style=\"text-align: right;\">\n",
       "      <th></th>\n",
       "      <th>County</th>\n",
       "      <th>NAICS</th>\n",
       "      <th>NAICS Description</th>\n",
       "      <th>Enterprise Size</th>\n",
       "      <th>Firms</th>\n",
       "      <th>Establishments</th>\n",
       "      <th>Employment</th>\n",
       "      <th>Annual Payroll ($1000)</th>\n",
       "      <th>Year</th>\n",
       "      <th>GEO_ID</th>\n",
       "    </tr>\n",
       "  </thead>\n",
       "  <tbody>\n",
       "    <tr>\n",
       "      <th>0</th>\n",
       "      <td>Anderson</td>\n",
       "      <td>--</td>\n",
       "      <td>Total</td>\n",
       "      <td>1: Total</td>\n",
       "      <td>1305</td>\n",
       "      <td>1532</td>\n",
       "      <td>42762</td>\n",
       "      <td>2831834</td>\n",
       "      <td>2020</td>\n",
       "      <td>0500000US47001</td>\n",
       "    </tr>\n",
       "    <tr>\n",
       "      <th>1</th>\n",
       "      <td>Anderson</td>\n",
       "      <td>--</td>\n",
       "      <td>Total</td>\n",
       "      <td>2: &lt;20 employees</td>\n",
       "      <td>861</td>\n",
       "      <td>870</td>\n",
       "      <td>3797</td>\n",
       "      <td>146123</td>\n",
       "      <td>2020</td>\n",
       "      <td>0500000US47001</td>\n",
       "    </tr>\n",
       "    <tr>\n",
       "      <th>2</th>\n",
       "      <td>Anderson</td>\n",
       "      <td>--</td>\n",
       "      <td>Total</td>\n",
       "      <td>3: 20-99 employees</td>\n",
       "      <td>145</td>\n",
       "      <td>165</td>\n",
       "      <td>5113</td>\n",
       "      <td>250992</td>\n",
       "      <td>2020</td>\n",
       "      <td>0500000US47001</td>\n",
       "    </tr>\n",
       "    <tr>\n",
       "      <th>3</th>\n",
       "      <td>Anderson</td>\n",
       "      <td>--</td>\n",
       "      <td>Total</td>\n",
       "      <td>4: 100-499 employees</td>\n",
       "      <td>70</td>\n",
       "      <td>112</td>\n",
       "      <td>3613</td>\n",
       "      <td>202320</td>\n",
       "      <td>2020</td>\n",
       "      <td>0500000US47001</td>\n",
       "    </tr>\n",
       "    <tr>\n",
       "      <th>4</th>\n",
       "      <td>Anderson</td>\n",
       "      <td>--</td>\n",
       "      <td>Total</td>\n",
       "      <td>5: 500+ employees</td>\n",
       "      <td>229</td>\n",
       "      <td>385</td>\n",
       "      <td>30239</td>\n",
       "      <td>2232399</td>\n",
       "      <td>2020</td>\n",
       "      <td>0500000US47001</td>\n",
       "    </tr>\n",
       "  </tbody>\n",
       "</table>\n",
       "</div>"
      ],
      "text/plain": [
       "     County NAICS NAICS Description       Enterprise Size Firms Establishments Employment Annual Payroll ($1000)  Year          GEO_ID\n",
       "0  Anderson    --             Total              1: Total  1305           1532      42762                2831834  2020  0500000US47001\n",
       "1  Anderson    --             Total      2: <20 employees   861            870       3797                 146123  2020  0500000US47001\n",
       "2  Anderson    --             Total    3: 20-99 employees   145            165       5113                 250992  2020  0500000US47001\n",
       "3  Anderson    --             Total  4: 100-499 employees    70            112       3613                 202320  2020  0500000US47001\n",
       "4  Anderson    --             Total     5: 500+ employees   229            385      30239                2232399  2020  0500000US47001"
      ]
     },
     "execution_count": 113,
     "metadata": {},
     "output_type": "execute_result"
    }
   ],
   "source": [
    "data.head()"
   ]
  },
  {
   "cell_type": "code",
   "execution_count": null,
   "id": "9ead2735",
   "metadata": {},
   "outputs": [],
   "source": [
    "data = data.set_index(['County Name', ''])"
   ]
  },
  {
   "cell_type": "code",
   "execution_count": null,
   "id": "32330514",
   "metadata": {},
   "outputs": [],
   "source": []
  },
  {
   "cell_type": "code",
   "execution_count": null,
   "id": "1c2f969f",
   "metadata": {},
   "outputs": [],
   "source": []
  },
  {
   "cell_type": "code",
   "execution_count": null,
   "id": "a0da0225",
   "metadata": {},
   "outputs": [],
   "source": []
  },
  {
   "cell_type": "code",
   "execution_count": 76,
   "id": "c4da6269",
   "metadata": {},
   "outputs": [
    {
     "data": {
      "text/plain": [
       "3005018"
      ]
     },
     "execution_count": 76,
     "metadata": {},
     "output_type": "execute_result"
    }
   ],
   "source": [
    "#export to the SQLite database\n",
    "conn = sq.connect('../../Outputs/Labor_Economy.db')\n",
    "data.to_sql('SUSB_CountyAnnual_2015to2020', conn, if_exists = 'replace', index = False)"
   ]
  },
  {
   "cell_type": "code",
   "execution_count": null,
   "id": "3ac24ce5",
   "metadata": {},
   "outputs": [],
   "source": []
  }
 ],
 "metadata": {
  "kernelspec": {
   "display_name": "Python 3 (ipykernel)",
   "language": "python",
   "name": "python3"
  },
  "language_info": {
   "codemirror_mode": {
    "name": "ipython",
    "version": 3
   },
   "file_extension": ".py",
   "mimetype": "text/x-python",
   "name": "python",
   "nbconvert_exporter": "python",
   "pygments_lexer": "ipython3",
   "version": "3.11.4"
  }
 },
 "nbformat": 4,
 "nbformat_minor": 5
}
