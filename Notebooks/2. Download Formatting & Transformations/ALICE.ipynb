{
 "cells": [
  {
   "cell_type": "markdown",
   "id": "7124cf20",
   "metadata": {},
   "source": [
    "###### Imports and Settings"
   ]
  },
  {
   "cell_type": "code",
   "execution_count": 3,
   "id": "d008632f",
   "metadata": {},
   "outputs": [],
   "source": [
    "import pandas as pd\n",
    "import numpy as np\n",
    "import requests\n",
    "from functools import reduce\n",
    "import matplotlib.pyplot as plt\n",
    "import pickle\n",
    "pd.set_option('display.max_columns', None)\n",
    "pd.set_option('display.max_rows', None)\n",
    "pd.set_option('display.width', 150)\n",
    "import sys\n",
    "sys.path.append(\"../../../Functions and Dictionaries\") # Adds higher directory to python modules path\n",
    "import geodict\n",
    "namestocommon = geodict.namestocommon\n",
    "geotogeoid = geodict.geotogeoid\n",
    "tofullcensus = geodict.tofullcensus\n",
    "import sqlite3 as sq"
   ]
  },
  {
   "cell_type": "markdown",
   "id": "2233c245",
   "metadata": {},
   "source": [
    "## ALICE United Way Data  \n",
    "Go to the following page: https://www.unitedforalice.org/state-overview/Tennessee to find the data sheet for the State of Tennessee  \n",
    "I've downloaded the file containing data from 2010 through 2021 and saved the two pages separately: Sub-County, Place, & Zip as well as County. This doesn't really take any cleaning so here I'm really just putting it into the SQLite Database."
   ]
  },
  {
   "cell_type": "code",
   "execution_count": 6,
   "id": "73293c2d",
   "metadata": {},
   "outputs": [],
   "source": [
    "county = pd.read_csv('../../Data Downloads/ALICE_2010to2021_County.csv')"
   ]
  },
  {
   "cell_type": "code",
   "execution_count": 7,
   "id": "a1482063",
   "metadata": {},
   "outputs": [],
   "source": [
    "sub = pd.read_csv('../../Data Downloads/ALICE_2010to2021_SubCountyPlaceZip.csv')"
   ]
  },
  {
   "cell_type": "code",
   "execution_count": 8,
   "id": "6cc91c00",
   "metadata": {},
   "outputs": [
    {
     "data": {
      "text/plain": [
       "1875"
      ]
     },
     "execution_count": 8,
     "metadata": {},
     "output_type": "execute_result"
    }
   ],
   "source": [
    "#export to the SQLite database\n",
    "conn = sq.connect('../../Outputs/Dem_Transpo_Housing_Collection.db')\n",
    "county.to_sql('ALICE_County', conn, if_exists = 'replace', index = False)\n",
    "sub.to_sql('ALICE_SubCounty', conn, if_exists = 'replace', index = False)"
   ]
  },
  {
   "cell_type": "code",
   "execution_count": null,
   "id": "e8a16cc1",
   "metadata": {},
   "outputs": [],
   "source": []
  }
 ],
 "metadata": {
  "kernelspec": {
   "display_name": "Python 3 (ipykernel)",
   "language": "python",
   "name": "python3"
  },
  "language_info": {
   "codemirror_mode": {
    "name": "ipython",
    "version": 3
   },
   "file_extension": ".py",
   "mimetype": "text/x-python",
   "name": "python",
   "nbconvert_exporter": "python",
   "pygments_lexer": "ipython3",
   "version": "3.11.4"
  }
 },
 "nbformat": 4,
 "nbformat_minor": 5
}
